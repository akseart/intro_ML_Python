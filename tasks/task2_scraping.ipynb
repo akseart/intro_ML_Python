{
 "cells": [
  {
   "cell_type": "markdown",
   "metadata": {
    "collapsed": false
   },
   "source": [
    "# Введение в методы анализа данных. Язык Python."
   ]
  },
  {
   "cell_type": "markdown",
   "source": [
    "## Домашняя работа 2: Web-scraping\n",
    "<br><br><br><br>\n",
    "__Ксемидов Борис (nstalker.anonim@yandex.ru)__\n",
    "\n",
    "__Аксентьев Артем (akseart@ya.ru)__\n",
    "\n",
    "\n",
    "<br>\n",
    "\n"
   ],
   "metadata": {
    "collapsed": false
   }
  },
  {
   "cell_type": "markdown",
   "source": [
    "__Выдана__: 16.03.2022\n",
    "__Deadline__: 23:59 26.03.2022\n",
    "\n",
    "Готовые решения отправлять на почту akseart@ya.ru и nstalker.anonim@yandex.ru"
   ],
   "metadata": {
    "collapsed": false
   }
  },
  {
   "cell_type": "markdown",
   "metadata": {
    "collapsed": false
   },
   "source": [
    "__ФИО:__ ..."
   ]
  },
  {
   "cell_type": "markdown",
   "metadata": {
    "collapsed": false
   },
   "source": [
    "## Критерии оценивания:\n",
    "- Правильность исполнения кода\n",
    "- Корректное исполнение на граничных случаях\n",
    "- Соблюдение PEP-8 и именования переменных\n",
    "\n",
    "Всего за работу можно получить 20 баллов.\n",
    "\n",
    "Изменение формулировок заданий, удаление фрагментов заданий запрещено.\n",
    "\n",
    "Все ячейки должны быть \"выполненными\".\n",
    "\n",
    "При заимствовании кода из интернета, необходимо указать ссылку на ресурс.\n",
    "\n",
    "\n"
   ]
  },
  {
   "cell_type": "markdown",
   "metadata": {},
   "source": [
    "**Задание 1.** (5 баллов)\n",
    "\n",
    "Необходимо скачать приложенные .html файлы и спарсить находящуюся в них информацию. То есть, вычленить из всего документа все квартиры и для каждой получить следующие данные: Тип недвижимости, адрес, площадь, цену\n",
    "\n",
    "Пример полученных данных:\n",
    "\n",
    "2-комн. кв.\n",
    "\n",
    "Вернадского пр-кт, 21 1\n",
    "\n",
    "56 м2\n",
    "\n",
    "28000000руб.\n"
   ]
  },
  {
   "cell_type": "code",
   "execution_count": null,
   "outputs": [],
   "source": [],
   "metadata": {
    "collapsed": false,
    "pycharm": {
     "name": "#%%\n"
    }
   }
  },
  {
   "cell_type": "markdown",
   "source": [
    "**Задание 2.** (3 баллов)\n",
    "\n",
    "Из тех же файлов дополнительно спарсить метро и ветку\n",
    "\n",
    "Пример полученных данных:\n",
    "\n",
    "2-комн. кв.\n",
    "\n",
    "Вернадского пр-кт, 21 1\n",
    "\n",
    "56 м2\n",
    "\n",
    "28000000руб.\n",
    "\n",
    "Университет м.\n",
    "\n",
    "red\n"
   ],
   "metadata": {
    "collapsed": false
   }
  },
  {
   "cell_type": "code",
   "execution_count": null,
   "outputs": [],
   "source": [],
   "metadata": {
    "collapsed": false,
    "pycharm": {
     "name": "#%%\n"
    }
   }
  },
  {
   "cell_type": "markdown",
   "source": [
    "**Задание 3.** (3 балла)\n",
    "\n",
    "Из тех же файлов дополнительно извлечь информацию о дате опубликования и дате последнего обновления.\n",
    "\n",
    "Пример полученных данных:\n",
    "\n",
    "2-комн. кв.\n",
    "\n",
    "Вернадского пр-кт, 21 1\n",
    "\n",
    "56 м2\n",
    "\n",
    "28000000руб.\n",
    "\n",
    "Размещено 15 февраля\n",
    "\n",
    "7 марта\n",
    "\n",
    "Университет м.\n",
    "\n",
    "red\n"
   ],
   "metadata": {
    "collapsed": false
   }
  },
  {
   "cell_type": "code",
   "execution_count": null,
   "outputs": [],
   "source": [],
   "metadata": {
    "collapsed": false,
    "pycharm": {
     "name": "#%%\n"
    }
   }
  },
  {
   "cell_type": "markdown",
   "source": [
    "**Задание 4.** (2 балла)\n",
    "\n",
    "Из тех же файлов дополнительно извлечь информацию об этаже.\n",
    "\n",
    "Пример полученных данных:\n",
    "\n",
    "2-комн. кв.\n",
    "\n",
    "Вернадского пр-кт, 21 1\n",
    "\n",
    "56 м2\n",
    "\n",
    "28000000руб.\n",
    "\n",
    "эт. 6 / 14\n",
    "\n",
    "Размещено 15 февраля\n",
    "\n",
    "7 марта\n",
    "\n",
    "Университет м.\n",
    "\n",
    "red\n"
   ],
   "metadata": {
    "collapsed": false
   }
  },
  {
   "cell_type": "code",
   "execution_count": null,
   "outputs": [],
   "source": [],
   "metadata": {
    "collapsed": false,
    "pycharm": {
     "name": "#%%\n"
    }
   }
  },
  {
   "cell_type": "markdown",
   "source": [
    "**Задание 5.** (7 баллов)\n",
    "\n",
    "Сохранить полученные данные в формате json (в следующем виде):\n"
   ],
   "metadata": {
    "collapsed": false
   }
  },
  {
   "cell_type": "code",
   "execution_count": 28,
   "metadata": {
    "pycharm": {
     "name": "#%%\n"
    }
   },
   "outputs": [],
   "source": [
    "ad = {\n",
    "    'type': [], # Количество комнат в квартире\n",
    "    'address': [], # Адрес\n",
    "    'area': [], # Площадь\n",
    "    'price': [], # Цена\n",
    "    'floor': [], # Этаж\n",
    "    'full_floor': [], # Общее количество этажей\n",
    "    'update_date':  [], # Дата обновления объявления\n",
    "    'date' : [], # Дата публикации\n",
    "    'metro_station' : [], # Название станции метро\n",
    "    'metro_line' : [], # Линия метро: red, blue, и так далее\n",
    "}"
   ]
  },
  {
   "cell_type": "code",
   "execution_count": null,
   "outputs": [],
   "source": [
    "{'type': ['2-комн. кв.', '3-комн. кв.', '3-комн. кв.'],\n",
    " 'address': ['Вернадского пр-кт, 21 1',\n",
    "             'Косинская ул, 28 3',\n",
    "             'Валовая ул, 8/18'],\n",
    " 'area': [56, 59, 84],\n",
    " 'price': [28000000, 13200000, 35500000],\n",
    " 'floor': [6, 9, 3],\n",
    " 'full_floor': [14, 9, 11],\n",
    " 'update_date': ['Размещено 15 февраля',\n",
    "                 'Размещено 8 марта',\n",
    "                 'Размещено 20 февраля'],\n",
    " 'date': ['15 марта', '10 марта', '13 марта'],\n",
    " 'metro_station': ['Университет м.', 'Выхино м.', ''],\n",
    " 'metro_line': ['red', 'purple', '']}"
   ],
   "metadata": {
    "collapsed": false,
    "pycharm": {
     "name": "#%%\n"
    }
   }
  }
 ],
 "metadata": {
  "interpreter": {
   "hash": "aabca8dbc037b6807f09b64734f2d48c280325369fa92c830ecd4a8109bebb48"
  },
  "kernelspec": {
   "display_name": "Python 3.8.11 64-bit ('MSU_course': conda)",
   "name": "python3"
  },
  "language_info": {
   "codemirror_mode": {
    "name": "ipython",
    "version": 3
   },
   "file_extension": ".py",
   "mimetype": "text/x-python",
   "name": "python",
   "nbconvert_exporter": "python",
   "pygments_lexer": "ipython3",
   "version": "3.8.11"
  }
 },
 "nbformat": 4,
 "nbformat_minor": 5
}
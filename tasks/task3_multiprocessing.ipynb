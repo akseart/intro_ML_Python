{
 "cells": [
  {
   "cell_type": "markdown",
   "metadata": {
    "collapsed": false
   },
   "source": [
    "# Введение в методы анализа данных. Язык Python."
   ]
  },
  {
   "cell_type": "markdown",
   "source": [
    "## Домашняя работа 3: Многопоточность\n",
    "<br><br><br><br>\n",
    "__Ксемидов Борис (nstalker.anonim@yandex.ru)__\n",
    "\n",
    "__Аксентьев Артем (akseart@ya.ru)__\n",
    "\n",
    "\n",
    "<br>\n",
    "\n"
   ],
   "metadata": {
    "collapsed": false
   }
  },
  {
   "cell_type": "markdown",
   "source": [
    "__Выдана__: 23.03.2022\n",
    "__Deadline__: 23:59 02.04.2022\n",
    "\n",
    "Готовые решения отправлять на почту akseart@ya.ru и nstalker.anonim@yandex.ru"
   ],
   "metadata": {
    "collapsed": false
   }
  },
  {
   "cell_type": "markdown",
   "metadata": {
    "collapsed": false
   },
   "source": [
    "__ФИО:__ ..."
   ]
  },
  {
   "cell_type": "markdown",
   "metadata": {
    "collapsed": false
   },
   "source": [
    "## Критерии оценивания:\n",
    "- Правильность исполнения кода\n",
    "- Корректное исполнение на граничных случаях\n",
    "- Соблюдение PEP-8 и именования переменных\n",
    "\n",
    "Всего за работу можно получить 20 баллов.\n",
    "\n",
    "Изменение формулировок заданий, удаление фрагментов заданий запрещено.\n",
    "\n",
    "Все ячейки должны быть \"выполненными\".\n",
    "\n",
    "При заимствовании кода из интернета, необходимо указать ссылку на ресурс.\n",
    "\n",
    "\n"
   ]
  },
  {
   "cell_type": "code",
   "execution_count": null,
   "outputs": [],
   "source": [
    "#!conda install nltk"
   ],
   "metadata": {
    "collapsed": false,
    "pycharm": {
     "name": "#%%\n"
    }
   }
  },
  {
   "cell_type": "markdown",
   "source": [
    "# Вам задан текст с опечатками и некий словарь корректных слов. Необходимо исправить все опечатки в тексте"
   ],
   "metadata": {
    "collapsed": false,
    "pycharm": {
     "name": "#%% md\n"
    }
   }
  },
  {
   "cell_type": "markdown",
   "metadata": {
    "pycharm": {
     "name": "#%% md\n"
    }
   },
   "source": [
    "**Задание 1.** (5 баллов)\n",
    "\n",
    "Используя файл text.txt(где задан текст) и dict.txt(где задан словарь слов правильного написания). С помощью расстояния Левенштейна(количество замен символов, которые необходимо выполнить для преобразования первого слова во второе), определить корректное слово, которое необходимо подставить из словаря(без сохранения регистра)\n",
    "\n"
   ]
  },
  {
   "cell_type": "code",
   "execution_count": 5,
   "outputs": [
    {
     "data": {
      "text/plain": "1"
     },
     "execution_count": 5,
     "metadata": {},
     "output_type": "execute_result"
    }
   ],
   "source": [
    "from nltk import edit_distance\n",
    "\n",
    "edit_distance(\"огурец\", \"огуец\")"
   ],
   "metadata": {
    "collapsed": false,
    "pycharm": {
     "name": "#%%\n"
    }
   }
  },
  {
   "cell_type": "markdown",
   "source": [
    "**Задание 2.** (5 баллов)\n",
    "\n",
    "Сделать так, чтобы предыдущее решение сохраняло регистр\n"
   ],
   "metadata": {
    "collapsed": false
   }
  },
  {
   "cell_type": "code",
   "source": [],
   "metadata": {
    "collapsed": false,
    "pycharm": {
     "name": "#%%\n"
    }
   },
   "execution_count": null,
   "outputs": []
  },
  {
   "cell_type": "markdown",
   "source": [
    "**Задание 3.** (10 баллов)\n",
    "\n",
    "Используя модуль multiprocessing разделить исполнение кода на n процессов. Каждый из которых будет осуществлять такую же операцию, что и в предыдущем задании, над одним предложением.\n",
    "\n",
    "Рекомендуется использовать механизм Queue из multiprocessing\n"
   ],
   "metadata": {
    "collapsed": false
   }
  },
  {
   "cell_type": "code",
   "execution_count": null,
   "outputs": [],
   "source": [
    "import multiprocessing\n",
    "from multiprocessing import Queue\n",
    "n = 4"
   ],
   "metadata": {
    "collapsed": false,
    "pycharm": {
     "name": "#%%\n"
    }
   }
  }
 ],
 "metadata": {
  "interpreter": {
   "hash": "aabca8dbc037b6807f09b64734f2d48c280325369fa92c830ecd4a8109bebb48"
  },
  "kernelspec": {
   "display_name": "Python 3.8.11 64-bit ('MSU_course': conda)",
   "name": "python3"
  },
  "language_info": {
   "codemirror_mode": {
    "name": "ipython",
    "version": 3
   },
   "file_extension": ".py",
   "mimetype": "text/x-python",
   "name": "python",
   "nbconvert_exporter": "python",
   "pygments_lexer": "ipython3",
   "version": "3.8.11"
  }
 },
 "nbformat": 4,
 "nbformat_minor": 5
}
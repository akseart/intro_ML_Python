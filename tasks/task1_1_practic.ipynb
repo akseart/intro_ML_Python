{
 "cells": [
  {
   "cell_type": "markdown",
   "metadata": {
    "collapsed": false
   },
   "source": [
    "# Введение в методы анализа данных. Язык Python."
   ]
  },
  {
   "cell_type": "markdown",
   "source": [
    "## Домашняя работа 1.1: Процедурный подход к написанию программ.\n",
    "<br><br><br><br>\n",
    "__Ксемидов Борис (nstalker.anonim@yandex.ru)__\n",
    "\n",
    "__Аксентьев Артем (akseart@ya.ru)__\n",
    "\n",
    "\n",
    "<br>\n",
    "\n"
   ],
   "metadata": {
    "collapsed": false
   }
  },
  {
   "cell_type": "markdown",
   "source": [
    "__Выдана__: 12.03.2020\n",
    "__Deadline__: 23:59 26.03.2020\n",
    "\n",
    "Готовые решения в виде данного блокнота с выполненными заданиями отправлять на почту akseart@ya.ru и nstalker.anonim@yandex.ru"
   ],
   "metadata": {
    "collapsed": false
   }
  },
  {
   "cell_type": "markdown",
   "metadata": {
    "collapsed": false
   },
   "source": [
    "__ФИО:__ ..."
   ]
  },
  {
   "cell_type": "markdown",
   "metadata": {
    "collapsed": false
   },
   "source": [
    "## Критерии оценивания:\n",
    "- Правильность исполнения кода\n",
    "- Корректное исполнение на граничных случаях\n",
    "- Соблюдение PEP-8 и именования переменных\n",
    "\n",
    "Всего за работу можно получить 10 баллов.\n",
    "\n",
    "Изменение формулировок заданий, удаление фрагментов заданий запрещено.\n",
    "\n",
    "Все ячейки должны быть \"выполненными\". Под каждую задачу выполнена проверка.\n",
    "\n",
    "При заимствовании кода из интернета, необходимо указать ссылку на ресурс.\n",
    "\n",
    "\n"
   ]
  },
  {
   "cell_type": "markdown",
   "metadata": {},
   "source": [
    "**Задание 1.** (1 балл)\n",
    "\n",
    "Реализуйте функцию, которая генерирует случайный интернет адрес. Интернет адрес вида: www.xyz.com, где www. - должен быть всегда, xyz - случайная последовательность букв, .com выбор случайным образом из заранее заданного списка"
   ]
  },
  {
   "cell_type": "code",
   "execution_count": 2,
   "metadata": {},
   "outputs": [],
   "source": [
    "def task_01(domens=('com','ru', 'ai', 'su')):\n",
    "    ...\n",
    "\n",
    "task_01()"
   ]
  },
  {
   "cell_type": "markdown",
   "metadata": {},
   "source": [
    "__Задание 2.__  (1 балл)\n",
    "\n",
    "Проверить текст на правильность расстановки, круглых, фигурных и квадратных скобок, вывести тот тип скобок, который выоплнен неправильно."
   ]
  },
  {
   "cell_type": "code",
   "execution_count": 3,
   "metadata": {},
   "outputs": [],
   "source": [
    "def is_correct_brackets(text):\n",
    "    ...\n",
    "\n",
    "is_correct_brackets(\"()()([\") #-> (False, '[]')"
   ]
  },
  {
   "cell_type": "markdown",
   "metadata": {},
   "source": [
    "**Задание 3.** (1 балл)\n",
    "\n",
    "Преобразовать имена переменных из snake_case в COBOL-CASE\n",
    "\n",
    "snake_case - стиль написания составных слов, при котором несколько слов разделяются символом подчеркивания (_), и не имеют пробелов в записи, причём каждое слово обычно пишется с маленькой буквы — «foo_bar», «hello_world»\n",
    "\n",
    "COBOL-CASE - стиль написания составных слов, при котором несколько слов разделяются дефисом (-), и не имеют пробелов в записи, причём все слова пишутся в верхнем регистре(FOO-BAR, HELLO-WORLD)\n"
   ]
  },
  {
   "cell_type": "code",
   "execution_count": 4,
   "metadata": {},
   "outputs": [],
   "source": [
    "def change_notation(list_of_names):\n",
    "    ...\n",
    "\n",
    "change_notation([\"\", \"\"])"
   ]
  },
  {
   "cell_type": "markdown",
   "metadata": {},
   "source": [
    "**Задание 4.** (1 балл)\n",
    "\n",
    "Дан текст. Найдите в нем все символы Q, окруженные знаком #, и добавьте перед ними '{' и после них '}'.\n",
    "\n",
    "\n"
   ]
  },
  {
   "cell_type": "code",
   "execution_count": 5,
   "metadata": {},
   "outputs": [],
   "source": [
    "def escape_symbols(text):\n",
    "    ...\n",
    "\n",
    "escape_symbols(\"\")"
   ]
  },
  {
   "cell_type": "markdown",
   "metadata": {},
   "source": [
    "**Задание 5.** (2 балла)\n",
    "\n",
    "Написать функцию, которая будет возвращать каталог до которого задан путь.\n",
    "\n",
    "Обратите внимание, что путь может путь задан как до файла c:\\WebServers\\home\\testsite\\www\\myfile.txt\n",
    "Так и до каталога: c:\\WebServers\\home\\testsite\\www\n",
    "\n",
    "Надо смотреть на расширение файла(.txt, например)\n"
   ]
  },
  {
   "cell_type": "code",
   "execution_count": 6,
   "metadata": {
    "collapsed": false,
    "pycharm": {
     "name": "#%%\n"
    }
   },
   "outputs": [],
   "source": [
    "def get_directory(path):\n",
    "    ..."
   ]
  },
  {
   "cell_type": "markdown",
   "metadata": {},
   "source": [
    "**Задание 6.**  (4 балла)\n",
    "\n",
    "Доработать предыдущую функцию, так, чтобы она стала генератором(ключевое слово yield) и на каждом шаге возвращала родительский каталог предыдущего.\n",
    "\n",
    "\n",
    "Пример: c:\\WebServers\\home\\testsite\\www\\myfile.txt -> www, testsite, home, WebServers"
   ]
  },
  {
   "cell_type": "code",
   "execution_count": 7,
   "metadata": {
    "collapsed": false,
    "pycharm": {
     "name": "#%%\n"
    }
   },
   "outputs": [],
   "source": [
    "def get_directory(path):\n",
    "    ..."
   ]
  }
 ],
 "metadata": {
  "interpreter": {
   "hash": "aabca8dbc037b6807f09b64734f2d48c280325369fa92c830ecd4a8109bebb48"
  },
  "kernelspec": {
   "display_name": "Python 3.8.11 64-bit ('MSU_course': conda)",
   "name": "python3"
  },
  "language_info": {
   "codemirror_mode": {
    "name": "ipython",
    "version": 3
   },
   "file_extension": ".py",
   "mimetype": "text/x-python",
   "name": "python",
   "nbconvert_exporter": "python",
   "pygments_lexer": "ipython3",
   "version": "3.8.11"
  }
 },
 "nbformat": 4,
 "nbformat_minor": 5
}
{
 "cells": [
  {
   "cell_type": "markdown",
   "source": [
    "# Введение в методы анализа данных. Язык Python."
   ],
   "metadata": {
    "collapsed": false
   }
  },
  {
   "cell_type": "markdown",
   "source": [
    "## Лекция 5.  Элементы функционального программирования в Python.\n",
    "<br><br><br><br>\n",
    "__Аксентьев Артем (akseart@ya.ru)__\n",
    "\n",
    "__Ксемидов Борис (nstalker.anonim@yandex.ru)__\n",
    "<br>"
   ],
   "metadata": {
    "collapsed": false
   }
  },
  {
   "cell_type": "markdown",
   "source": [
    "## План"
   ],
   "metadata": {}
  },
  {
   "cell_type": "markdown",
   "source": [
    "- Элементы функционального программирования в Python: \n",
    "    - map\n",
    "    - lambda\n",
    "    - reduce\n",
    "    - filter\n",
    "- Итераторы. \n",
    "- Генераторы\n",
    "- Механизм comprehensions.\n",
    "- Декораторы"
   ],
   "metadata": {}
  },
  {
   "cell_type": "markdown",
   "source": [
    "# Элементы функционального программирования"
   ],
   "metadata": {
    "collapsed": false
   }
  },
  {
   "cell_type": "markdown",
   "source": [
    "## Lambda функции"
   ],
   "metadata": {}
  },
  {
   "cell_type": "markdown",
   "source": [
    "- Из-за сходства с аналогичной возможностью в языке LISP она получила название lambda. \n",
    "- lambda-выражения иногда называют анонимными (то есть безымянными) функциями."
   ],
   "metadata": {}
  },
  {
   "cell_type": "code",
   "execution_count": null,
   "source": [
    "def func(x):\n",
    "    return x^2 + 8 * x + 10\n",
    "\n",
    "x_list = [20, 25, 30, 22]\n",
    "\n",
    "out_list = []\n",
    "\n",
    "for i in x_list:\n",
    "    out_list.append(func(i))\n",
    "    \n",
    "out_list"
   ],
   "outputs": [],
   "metadata": {}
  },
  {
   "cell_type": "code",
   "execution_count": null,
   "source": [
    "x_list = [20, 25, 30, 22]\n",
    "\n",
    "out_list = []\n",
    "\n",
    "for i in x_list:\n",
    "    out_list.append((lambda x: x^2 + 8 * x + 10)(i))\n",
    "    \n",
    "out_list"
   ],
   "outputs": [],
   "metadata": {}
  },
  {
   "cell_type": "code",
   "execution_count": null,
   "outputs": [],
   "source": [
    "sorted([1, -1, 100, 5, 50, 2], key=lambda x: len(str(x)))"
   ],
   "metadata": {
    "collapsed": false,
    "pycharm": {
     "name": "#%%\n"
    }
   }
  },
  {
   "cell_type": "code",
   "execution_count": null,
   "source": [
    "f = lambda x, y: x if x > y else y\n",
    "\n",
    "f = lambda x, y: (x if x > y else y) if x > 10 else 10\n",
    "\n",
    "f = lambda a, b, c:  (a and b) or c"
   ],
   "outputs": [],
   "metadata": {}
  },
  {
   "cell_type": "markdown",
   "source": [
    "## Map функции\n",
    "\n",
    "Применяют функцию к последовательности"
   ],
   "metadata": {}
  },
  {
   "cell_type": "code",
   "execution_count": null,
   "outputs": [],
   "source": [
    "map(int, input().split())"
   ],
   "metadata": {
    "collapsed": false,
    "pycharm": {
     "name": "#%%\n"
    }
   }
  },
  {
   "cell_type": "code",
   "execution_count": null,
   "outputs": [],
   "source": [
    "def my_map(seq, func):\n",
    "    res = []\n",
    "    for i in seq:\n",
    "        res.append(func(i))\n",
    "    return res\n",
    "\n",
    "my_map(input().split(), int)"
   ],
   "metadata": {
    "collapsed": false,
    "pycharm": {
     "name": "#%%\n"
    }
   }
  },
  {
   "cell_type": "code",
   "execution_count": null,
   "source": [
    "x_list = [20, 25, 30, 22]\n",
    "\n",
    "out_list = list(map(lambda x: x^2 + 8 * x + 10, x_list))\n",
    "\n",
    "out_list"
   ],
   "outputs": [],
   "metadata": {}
  },
  {
   "cell_type": "code",
   "execution_count": null,
   "outputs": [],
   "source": [
    "pow(2, 3)"
   ],
   "metadata": {
    "collapsed": false,
    "pycharm": {
     "name": "#%%\n"
    }
   }
  },
  {
   "cell_type": "code",
   "execution_count": null,
   "source": [
    "list(map(pow, [1, 2, 3], [3, 4, 5]))"
   ],
   "outputs": [],
   "metadata": {}
  },
  {
   "cell_type": "code",
   "execution_count": null,
   "source": [
    "a = [53, 33, 76, 42, 87, 47, 11, 67, 58, 79, 78, 13, 63, 29, 71, 36, 90, 7, 99, 70]\n",
    "print(sorted(a, key = lambda x: sum(list(map(int, list(str(x)))))))\n",
    "print(sorted(a))"
   ],
   "outputs": [],
   "metadata": {}
  },
  {
   "cell_type": "markdown",
   "source": [
    "## Filter"
   ],
   "metadata": {}
  },
  {
   "cell_type": "code",
   "execution_count": null,
   "source": [
    "a = [53, 33, 76, 42, 87, 47, 11, 67, 58, 79, 78, 13, 63, 29, 71, 36, 90, 7, 99, 70]\n",
    "\n",
    "list(filter(lambda x: x > 10, a))"
   ],
   "outputs": [],
   "metadata": {}
  },
  {
   "cell_type": "markdown",
   "source": [
    "## Reduce"
   ],
   "metadata": {}
  },
  {
   "cell_type": "markdown",
   "source": [
    "\"Накапливаемый\" map"
   ],
   "metadata": {
    "collapsed": false
   }
  },
  {
   "cell_type": "code",
   "execution_count": null,
   "source": [
    "from functools import reduce\n",
    "a = [53, 33, 76, 42, 87, 47, 11, 67, 58, 79, 78, 13, 63, 29, 71, 36, 90, 7, 99, 70]\n",
    "\n",
    "reduce(lambda x, y: x+2*y, a), sum(a)"
   ],
   "outputs": [],
   "metadata": {}
  },
  {
   "cell_type": "markdown",
   "source": [
    "# Итераторы"
   ],
   "metadata": {}
  },
  {
   "cell_type": "code",
   "execution_count": null,
   "source": [
    "r = range(5)\n",
    "\n",
    "for i in r:\n",
    "    print(i)"
   ],
   "outputs": [],
   "metadata": {}
  },
  {
   "cell_type": "code",
   "execution_count": null,
   "source": [
    "it = iter(r)\n",
    "\n",
    "print(next(it))\n",
    "print(it.__next__())\n",
    "print(next(it))\n",
    "print(next(it))\n",
    "print(next(it))\n",
    "print(next(it))"
   ],
   "outputs": [],
   "metadata": {}
  },
  {
   "cell_type": "code",
   "execution_count": null,
   "source": [
    "for i in \"Hello world\":\n",
    "    print(i)\n",
    "    ..."
   ],
   "outputs": [],
   "metadata": {}
  },
  {
   "cell_type": "code",
   "execution_count": null,
   "source": [
    "it = iter(\"Hello world\")\n",
    "while True:\n",
    "    try:\n",
    "        i = next(it)\n",
    "        print(i)\n",
    "        ...\n",
    "    except StopIteration:\n",
    "        break"
   ],
   "outputs": [],
   "metadata": {}
  },
  {
   "cell_type": "code",
   "execution_count": null,
   "outputs": [],
   "source": [
    "class Data:\n",
    "    def __init__(self):\n",
    "        self._data = [1, 2, 3, 4]\n",
    "        self._data_len = len(self._data)\n",
    "\n",
    "    def __iter__(self):\n",
    "        self._index = 0\n",
    "        return self\n",
    "\n",
    "    def __next__(self):\n",
    "        if self._index > self._data_len - 1:\n",
    "            raise StopIteration\n",
    "        result =  self._data[self._index]\n",
    "        self._index += 1\n",
    "        return result\n",
    "\n",
    "my_iter = Data()"
   ],
   "metadata": {
    "collapsed": false,
    "pycharm": {
     "name": "#%%\n"
    }
   }
  },
  {
   "cell_type": "code",
   "execution_count": null,
   "outputs": [],
   "source": [
    "for i in my_iter:\n",
    "    print(i)"
   ],
   "metadata": {
    "collapsed": false,
    "pycharm": {
     "name": "#%%\n"
    }
   }
  },
  {
   "cell_type": "markdown",
   "source": [],
   "metadata": {
    "collapsed": false
   }
  },
  {
   "cell_type": "markdown",
   "source": [
    "# Генераторы"
   ],
   "metadata": {
    "heading_collapsed": true
   }
  },
  {
   "cell_type": "markdown",
   "source": [
    "- В генераторе вместо return используется ключевое слово yield\n",
    "- yield используется для возвращения очередного значения коллекции\n",
    "- Генератор автоматически хранит своё внутреннее состояние"
   ],
   "metadata": {
    "hidden": true
   }
  },
  {
   "cell_type": "code",
   "execution_count": null,
   "source": [
    "def my_hello(n):\n",
    "    yield 'Start \"Hello world!\"'\n",
    "    i = 1\n",
    "    for i in range(n):\n",
    "        yield 'Hello world!'\n",
    "    yield 'Stop \"Hello world!\"'\n",
    "        \n",
    "gen = my_hello(10)\n",
    "\n",
    "for s in gen:\n",
    "    print(s)"
   ],
   "outputs": [],
   "metadata": {
    "hidden": true
   }
  },
  {
   "cell_type": "markdown",
   "source": [
    "## Зачем?\n",
    "Для экономии памяти, ведь мы не загружаем в память весь набор данных, а лишь одну формулу для вычисления элементов этого набора данных"
   ],
   "metadata": {
    "collapsed": false
   }
  },
  {
   "cell_type": "markdown",
   "source": [
    "# Механизм comprehensions (Генератор коллекций)\n"
   ],
   "metadata": {}
  },
  {
   "cell_type": "code",
   "execution_count": null,
   "outputs": [],
   "source": [
    "gen = my_hello(10)\n",
    "it = iter(gen)\n"
   ],
   "metadata": {
    "collapsed": false,
    "pycharm": {
     "name": "#%%\n"
    }
   }
  },
  {
   "cell_type": "code",
   "execution_count": null,
   "outputs": [],
   "source": [
    "next(it)"
   ],
   "metadata": {
    "collapsed": false,
    "pycharm": {
     "name": "#%%\n"
    }
   }
  },
  {
   "cell_type": "markdown",
   "source": [
    "## list comprehension"
   ],
   "metadata": {}
  },
  {
   "cell_type": "code",
   "execution_count": null,
   "source": [
    "[i for i in range(1, 10)]"
   ],
   "outputs": [],
   "metadata": {}
  },
  {
   "cell_type": "code",
   "execution_count": null,
   "source": [
    "[i for i in range(1, 10) if i % 2 == 0]"
   ],
   "outputs": [],
   "metadata": {}
  },
  {
   "cell_type": "code",
   "execution_count": null,
   "source": [
    "[i for i in range(1, 10) if i % 2 == 0 and i < 7]"
   ],
   "outputs": [],
   "metadata": {}
  },
  {
   "cell_type": "code",
   "execution_count": null,
   "source": [
    "[i ** 2 for i in range(1, 10) if i % 2 == 0 and i < 7]"
   ],
   "outputs": [],
   "metadata": {}
  },
  {
   "cell_type": "code",
   "execution_count": null,
   "source": [
    "[i ** 2 if i < 4 else i for i in range(1, 10) if i % 2 == 0 and i < 7]"
   ],
   "outputs": [],
   "metadata": {}
  },
  {
   "cell_type": "markdown",
   "source": [
    "## set comprehension "
   ],
   "metadata": {}
  },
  {
   "cell_type": "code",
   "execution_count": null,
   "source": [
    "{i for i in range(1, 25) if i % 2 == 0}"
   ],
   "outputs": [],
   "metadata": {}
  },
  {
   "cell_type": "markdown",
   "source": [
    "## dictionary comprehension"
   ],
   "metadata": {}
  },
  {
   "cell_type": "code",
   "execution_count": null,
   "source": [
    "{i : i**2 for i in range(1, 25) if i % 2 == 0}"
   ],
   "outputs": [],
   "metadata": {}
  },
  {
   "cell_type": "markdown",
   "source": [
    "# Декораторы"
   ],
   "metadata": {}
  },
  {
   "cell_type": "code",
   "execution_count": null,
   "source": [
    "def my_decorator(func_to_decorate):\n",
    "    def wrapper_func():\n",
    "        print(\"Можно выполнить что-то до функции\")\n",
    "        func_to_decorate()\n",
    "        print(\"Можно что-то после\")\n",
    "    return wrapper_func\n",
    "\n",
    "def hello():\n",
    "    print(\"Hello world\")\n",
    "\n",
    "hello()"
   ],
   "outputs": [],
   "metadata": {}
  },
  {
   "cell_type": "code",
   "execution_count": null,
   "source": [
    "hello_with_decorate = my_decorator(hello)\n",
    "hello_with_decorate()"
   ],
   "outputs": [],
   "metadata": {}
  },
  {
   "cell_type": "code",
   "execution_count": null,
   "source": [
    "@my_decorator\n",
    "def hello():\n",
    "    print(\"Hello world\")"
   ],
   "outputs": [],
   "metadata": {}
  },
  {
   "cell_type": "code",
   "execution_count": null,
   "source": [
    "hello()"
   ],
   "outputs": [],
   "metadata": {}
  },
  {
   "cell_type": "code",
   "execution_count": null,
   "source": [
    "import time\n",
    "def times_for_func(func_to_decorate):\n",
    "    def wrapper():\n",
    "        before = time.time()\n",
    "        func_to_decorate()\n",
    "        print(time.time() - before)\n",
    "    \n",
    "    return wrapper"
   ],
   "outputs": [],
   "metadata": {}
  },
  {
   "cell_type": "code",
   "execution_count": null,
   "source": [
    "@times_for_func\n",
    "def hello(a):\n",
    "    print(a + \"Hello world\")"
   ],
   "outputs": [],
   "metadata": {}
  },
  {
   "cell_type": "code",
   "execution_count": null,
   "source": [
    "hello(\"q\")"
   ],
   "outputs": [],
   "metadata": {}
  },
  {
   "cell_type": "code",
   "execution_count": null,
   "source": [
    "import time\n",
    "def times_for_func(func_to_decorate):\n",
    "    def wrapper(*args, **kwargs):\n",
    "        before = time.time()\n",
    "        func_to_decorate(*args, **kwargs)\n",
    "        print(time.time() - before)\n",
    "    \n",
    "    return wrapper\n",
    "\n",
    "\n",
    "@times_for_func\n",
    "def hello(a, b):\n",
    "    print(\"Hello world\", a + b)\n"
   ],
   "outputs": [],
   "metadata": {}
  },
  {
   "cell_type": "code",
   "execution_count": null,
   "source": [
    "hello(10, 30)"
   ],
   "outputs": [],
   "metadata": {}
  },
  {
   "cell_type": "markdown",
   "source": [
    "# Функторы\n",
    "\n",
    "Объекты, похожие на функции"
   ],
   "metadata": {
    "collapsed": false
   }
  },
  {
   "cell_type": "code",
   "execution_count": null,
   "outputs": [],
   "source": [
    "def foo_functor(val1):\n",
    "    def closure(val2):\n",
    "        return val1 + val2\n",
    "    return closure\n",
    "\n",
    "class clsFunctor(object):\n",
    "    def __init__(self, val1):\n",
    "        self.val1 = val1\n",
    "    def __call__(self, val2):\n",
    "        return self.val1 + val2\n",
    "\n",
    "cl = clsFunctor(2)\n",
    "fn = foo_functor(2)\n",
    "\n",
    "print(cl(1), fn(1))"
   ],
   "metadata": {
    "collapsed": false,
    "pycharm": {
     "name": "#%%\n"
    }
   }
  },
  {
   "cell_type": "markdown",
   "source": [
    "# Функция zip"
   ],
   "metadata": {
    "collapsed": false
   }
  },
  {
   "cell_type": "code",
   "execution_count": null,
   "outputs": [],
   "source": [
    "a = [1, 2, 3, 4, 5]\n",
    "b = [10, 20, 30, 40, 50]\n",
    "for (x, y) in zip(a, b):\n",
    "    print(x + y)"
   ],
   "metadata": {
    "collapsed": false,
    "pycharm": {
     "name": "#%%\n"
    }
   }
  },
  {
   "cell_type": "code",
   "execution_count": null,
   "outputs": [],
   "source": [
    "a = [1, 2, 3, 4, 5]\n",
    "b = [10, 20, 30, 40, 50]\n",
    "c = list(zip(a, b))\n",
    "c"
   ],
   "metadata": {
    "collapsed": false,
    "pycharm": {
     "name": "#%%\n"
    }
   }
  },
  {
   "cell_type": "code",
   "execution_count": null,
   "outputs": [],
   "source": [
    "a = [1, 2, 3, 4, 5]\n",
    "b = [10, 20, 30, 40, 50]\n",
    "c = [100, 200, 300, 400]\n",
    "d = list(zip(a, b, c))\n",
    "d"
   ],
   "metadata": {
    "collapsed": false,
    "pycharm": {
     "name": "#%%\n"
    }
   }
  },
  {
   "cell_type": "markdown",
   "source": [
    "range -- генератор или нет?"
   ],
   "metadata": {
    "collapsed": false,
    "pycharm": {
     "name": "#%% md\n"
    }
   }
  },
  {
   "cell_type": "markdown",
   "source": [
    "1. range имеет дополнительные атрибуты:\n",
    "    - range неизменяемы\n",
    "    - имеют полезные атрибуты (len, index, __getitem__)\n",
    "    - Можно итерироваться многократно\n",
    "2. Не хранит всю последдовательность в памяти"
   ],
   "metadata": {
    "collapsed": false,
    "pycharm": {
     "name": "#%% md\n"
    }
   }
  },
  {
   "cell_type": "markdown",
   "source": [
    "# Вопросы к экзамену"
   ],
   "metadata": {}
  },
  {
   "cell_type": "markdown",
   "source": [
    "- Понятие итератора и генератора и их отличия?\n",
    "- Зачем нужны генераторы\n",
    "- Что такое декоратор? Зачем он нужен?\n",
    "- Механизм генерации коллекций. Какие особенности? В чем отличие от генераторов?"
   ],
   "metadata": {
    "pycharm": {
     "name": "#%% md\n"
    }
   }
  },
  {
   "cell_type": "markdown",
   "source": [
    " # Вопросы для самостоятельного изучения:\n",
    " - Рефакторинг: https://refactoring.guru/ru/refactoring"
   ],
   "metadata": {
    "collapsed": false,
    "pycharm": {
     "name": "#%% md\n"
    }
   }
  }
 ],
 "metadata": {
  "kernelspec": {
   "name": "python3",
   "display_name": "Python 3.8.11 64-bit ('MSU_course': conda)"
  },
  "language_info": {
   "codemirror_mode": {
    "name": "ipython",
    "version": 3
   },
   "file_extension": ".py",
   "mimetype": "text/x-python",
   "name": "python",
   "nbconvert_exporter": "python",
   "pygments_lexer": "ipython3",
   "version": "3.8.11"
  },
  "toc": {
   "base_numbering": 1,
   "nav_menu": {},
   "number_sections": true,
   "sideBar": true,
   "skip_h1_title": false,
   "title_cell": "Table of Contents",
   "title_sidebar": "Contents",
   "toc_cell": false,
   "toc_position": {},
   "toc_section_display": true,
   "toc_window_display": false
  },
  "interpreter": {
   "hash": "aabca8dbc037b6807f09b64734f2d48c280325369fa92c830ecd4a8109bebb48"
  }
 },
 "nbformat": 4,
 "nbformat_minor": 5
}
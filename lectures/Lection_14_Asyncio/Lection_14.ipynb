{
 "cells": [
  {
   "cell_type": "markdown",
   "id": "e1c02ece",
   "metadata": {},
   "source": [
    "# Введение в методы анализа данных. Язык Python."
   ]
  },
  {
   "cell_type": "markdown",
   "source": [
    "## Лекция 14: Асинхронное программирование. Asyncio\n",
    "\n",
    "<br><br><br><br>\n",
    "__Аксентьев Артем (akseart@ya.ru)__\n",
    "\n",
    "__Ксемидов Борис (nstalker.anonim@yandex.ru)__\n",
    "<br>"
   ],
   "metadata": {
    "collapsed": false
   }
  },
  {
   "cell_type": "markdown",
   "source": [
    "# План:\n",
    "- \"Синхронное\" программирование\n",
    "- Асинхронное программирование\n",
    "    - Корутины\n",
    "    - Задачи\n",
    "- Пример кода\n",
    "- Разбор первого ДЗ"
   ],
   "metadata": {
    "collapsed": false
   }
  },
  {
   "cell_type": "code",
   "execution_count": 19,
   "outputs": [
    {
     "name": "stdout",
     "output_type": "stream",
     "text": [
      "Overwriting example_1.py\n"
     ]
    }
   ],
   "source": [
    "%%writefile example_1.py\n",
    "import time\n",
    "\n",
    "\n",
    "def waiter():\n",
    "    cook('Бургер', 5)\n",
    "    cook('Салат', 7)\n",
    "    cook('Картошка фри', 1)\n",
    "\n",
    "\n",
    "def cook(order, time_to_prepare):\n",
    "    print(f'Новый заказ: {order}')\n",
    "    time.sleep(time_to_prepare)\n",
    "    print(order, '- готово')\n",
    "\n",
    "\n",
    "if __name__ == \"__main__\":\n",
    "    waiter()"
   ],
   "metadata": {
    "collapsed": false,
    "pycharm": {
     "name": "#%%\n"
    }
   }
  },
  {
   "cell_type": "markdown",
   "source": [
    "# Что такое асинхронность?\n",
    "1. Возможность не ожидать завершение какого-либо действия, а осуществлять другое действие\n",
    "2. Возможность обрабатывать несколько запросов к боту/серверу"
   ],
   "metadata": {
    "collapsed": false
   }
  },
  {
   "cell_type": "code",
   "source": [
    "input()"
   ],
   "metadata": {
    "collapsed": false,
    "pycharm": {
     "name": "#%%\n"
    }
   },
   "execution_count": 20,
   "outputs": [
    {
     "data": {
      "text/plain": "'123'"
     },
     "execution_count": 20,
     "metadata": {},
     "output_type": "execute_result"
    }
   ]
  },
  {
   "cell_type": "code",
   "execution_count": null,
   "outputs": [],
   "source": [
    "['server.com/file1', 'server.com/file2', 'server.com/file3']"
   ],
   "metadata": {
    "collapsed": false,
    "pycharm": {
     "name": "#%%\n"
    }
   }
  },
  {
   "cell_type": "markdown",
   "source": [
    "## Блокировка выполнения программы\n",
    "Приостановление вычислений(выполнения программы) в ожидание какого-либо действия(ввод-вывод). Чаще всего это:\n",
    "- блокировка сетевого ввода-вывода,\n",
    "- блокировка дискового ввода-вывода,\n",
    "- блокировка пользовательского\n",
    "\n",
    "## Неблокирующие функции:\n",
    "Возможность продолжения выполнения программы при ожидании чего-либо.  То есть, при ожидании, например, ввода, программа может выполнять какие-либо другие действия.\n",
    "\n",
    "## Асинхронная программа\n",
    "Для выполнения задачи между различными программными блоками не требуется синхронизация.\n",
    "\n",
    "Например, загрузка нескольких веб-страниц. После вызова загрузчика очередной страницы, нам не требуется ничего делать, до тех пор, пока она не будет загружена, поэтому можем перейти к какой-либо другой задачи. Время таких операций не определено.\n",
    "\n",
    "\n",
    "__Асинхронный код работает в одном потоке и в одном процессе__"
   ],
   "metadata": {
    "collapsed": false
   }
  },
  {
   "cell_type": "markdown",
   "source": [
    "Перейдем к почти асинхронному коду:"
   ],
   "metadata": {
    "collapsed": false
   }
  },
  {
   "cell_type": "code",
   "execution_count": 21,
   "outputs": [
    {
     "name": "stdout",
     "output_type": "stream",
     "text": [
      "Overwriting example_2.py\n"
     ]
    }
   ],
   "source": [
    "%%writefile example_2.py\n",
    "import asyncio\n",
    "\n",
    "\n",
    "async def waiter():\n",
    "    await cook('Бургер', 5)\n",
    "    await cook('Салат', 7)\n",
    "    await cook('Картошка фри', 1)\n",
    "\n",
    "\n",
    "async def cook(order, time_to_prepare):\n",
    "    print(f'Новый заказ: {order}')\n",
    "    await asyncio.sleep(time_to_prepare)\n",
    "    print(order, '- готово')\n",
    "\n",
    "\n",
    "if __name__ == '__main__':\n",
    "    asyncio.run(waiter())"
   ],
   "metadata": {
    "collapsed": false,
    "pycharm": {
     "name": "#%%\n"
    }
   }
  },
  {
   "cell_type": "markdown",
   "source": [
    "__Корутины (сопрограммы)__ -- функции, объявленные с ключевым словом async. То есть функция, которая содержит в себе задачи, которые могут выполняться в асинхронном режиме"
   ],
   "metadata": {
    "collapsed": false,
    "pycharm": {
     "name": "#%% md\n"
    }
   }
  },
  {
   "cell_type": "markdown",
   "source": [
    "__Задачи (tasks)__ -- некий спосооб для запуска нескольких корутин."
   ],
   "metadata": {
    "collapsed": false
   }
  },
  {
   "cell_type": "code",
   "execution_count": 22,
   "outputs": [
    {
     "name": "stdout",
     "output_type": "stream",
     "text": [
      "Overwriting example_3.py\n"
     ]
    }
   ],
   "source": [
    "%%writefile example_3.py\n",
    "import asyncio\n",
    "\n",
    "\n",
    "async def waiter():\n",
    "    task1 = asyncio.create_task(cook('Бургер', 5))\n",
    "    task2 = asyncio.create_task(cook('Салат', 7))\n",
    "    task3 = asyncio.create_task(cook('Картошка фри', 1))\n",
    "\n",
    "    await task1\n",
    "    await task2\n",
    "    await task3\n",
    "\n",
    "\n",
    "async def cook(order, time_to_prepare):\n",
    "    print(f'Новый заказ: {order}')\n",
    "    raise KeyError\n",
    "    await asyncio.sleep(time_to_prepare)\n",
    "    print(order, '- готово')\n",
    "\n",
    "\n",
    "if __name__ == '__main__':\n",
    "    try:\n",
    "        asyncio.run(waiter())\n",
    "    except:\n",
    "        ..."
   ],
   "metadata": {
    "collapsed": false,
    "pycharm": {
     "name": "#%%\n"
    }
   }
  },
  {
   "cell_type": "markdown",
   "source": [
    "<img alt=\"1\" src=\"/Users/artem/Documents/Chillers_Lections/Python_MSU/course-python/lectures/Lection_14_Asyncio/Untitled Diagram.drawio.png\"/>"
   ],
   "metadata": {
    "collapsed": false,
    "pycharm": {
     "name": "#%% md\n"
    }
   }
  },
  {
   "cell_type": "code",
   "execution_count": 25,
   "outputs": [
    {
     "name": "stdout",
     "output_type": "stream",
     "text": [
      "0\n",
      "Hello\n"
     ]
    }
   ],
   "source": [
    "def gen():\n",
    "    for i in range(10):\n",
    "        yield i\n",
    "\n",
    "a = gen()\n",
    "print(next(a))\n",
    "print(\"Hello\")"
   ],
   "metadata": {
    "collapsed": false,
    "pycharm": {
     "name": "#%%\n"
    }
   }
  },
  {
   "cell_type": "code",
   "execution_count": 26,
   "outputs": [
    {
     "name": "stdout",
     "output_type": "stream",
     "text": [
      "1\n"
     ]
    }
   ],
   "source": [
    "print(next(a))"
   ],
   "metadata": {
    "collapsed": false,
    "pycharm": {
     "name": "#%%\n"
    }
   }
  },
  {
   "cell_type": "markdown",
   "source": [
    "# Плюсы:\n",
    "- Один поток и один процесс\n",
    "- Меньше накладных расходов\n",
    "- Не зависит от ОС\n",
    "# Минусы:\n",
    "- Сложность отладки(не всегда понятно что происходит)\n",
    "- Трудно понять какая функция сейчас исполняется\n",
    "- Более сложный код\n",
    "- Следует помнить про блокирующие библиотеки(requests, time.sleep)"
   ],
   "metadata": {
    "collapsed": false
   }
  },
  {
   "cell_type": "markdown",
   "source": [
    "# Ещё один пример:"
   ],
   "metadata": {
    "collapsed": false,
    "pycharm": {
     "name": "#%% md\n"
    }
   }
  },
  {
   "cell_type": "code",
   "execution_count": 27,
   "outputs": [
    {
     "name": "stdout",
     "output_type": "stream",
     "text": [
      "Overwriting example_4.py\n"
     ]
    }
   ],
   "source": [
    "%%writefile example_4.py\n",
    "import socket\n",
    "\n",
    "\n",
    "def main():\n",
    "    server_socket = socket.socket(socket.AF_INET, socket.SOCK_STREAM)\n",
    "    server_socket.setsockopt(socket.SOL_SOCKET, socket.SO_REUSEADDR, 1)\n",
    "    server_socket.bind(('localhost', 50003))\n",
    "    server_socket.listen()\n",
    "\n",
    "    while True:\n",
    "        client_socket, addr = server_socket.accept()\n",
    "        while True:\n",
    "            request = client_socket.recv(4096)\n",
    "            if request:\n",
    "                response = \"Hello \\n\".encode()\n",
    "                client_socket.send(response)\n",
    "            else:\n",
    "                break\n",
    "\n",
    "\n",
    "if __name__ == \"__main__\":\n",
    "    main()"
   ],
   "metadata": {
    "collapsed": false,
    "pycharm": {
     "name": "#%%\n"
    }
   }
  },
  {
   "cell_type": "code",
   "execution_count": 28,
   "outputs": [
    {
     "name": "stdout",
     "output_type": "stream",
     "text": [
      "Overwriting example_5.py\n"
     ]
    }
   ],
   "source": [
    "%%writefile example_5.py\n",
    "import asyncio\n",
    "\n",
    "\n",
    "async def handle_echo(reader, writer):\n",
    "    while True:\n",
    "        data = await reader.read(100)\n",
    "        message = data.decode()\n",
    "        addr = writer.get_extra_info('peername')\n",
    "        if message.strip() == \"exit\":\n",
    "            print(f\"Exit from {addr!r}\")\n",
    "            writer.close()\n",
    "            break\n",
    "\n",
    "\n",
    "        print(f\"Received {message!r} from {addr!r}\")\n",
    "\n",
    "        print(f\"Send: {message!r}\")\n",
    "        writer.write(data)\n",
    "        await writer.drain()\n",
    "\n",
    "\n",
    "async def main():\n",
    "    server = await asyncio.start_server(\n",
    "        handle_echo, '127.0.0.1', 50003)\n",
    "\n",
    "    addr = server.sockets[0].getsockname()\n",
    "    print(f'Serving on {addr}')\n",
    "\n",
    "    async with server:\n",
    "        await server.serve_forever()\n",
    "\n",
    "\n",
    "if __name__ == \"__main__\":\n",
    "    asyncio.run(main())"
   ],
   "metadata": {
    "collapsed": false,
    "pycharm": {
     "name": "#%%\n"
    }
   }
  },
  {
   "cell_type": "markdown",
   "source": [
    "# Вопросы для самостоятельного изучения:\n",
    "- asyncio\n",
    "- aiohttp\n",
    "- aiogram"
   ],
   "metadata": {
    "collapsed": false
   }
  },
  {
   "cell_type": "markdown",
   "source": [
    "# Рекомендуемая литература:\n",
    "- [PEP 492 – Coroutines with async and await syntax](https://peps.python.org/pep-0492/)\n",
    "- [Асинхронность в Python. Олег Молчанов](https://youtube.com/playlist?list=PLlWXhlUMyooawilqK4lPXRvxtbYiw34S8)\n",
    "- [Асинхронщина в Python Александр Полищук](https://www.youtube.com/watch?v=lIkA0TDX8tE)\n",
    "- [docs.python.org](https://docs.python.org/3/library/asyncio-task.html)"
   ],
   "metadata": {
    "collapsed": false
   }
  },
  {
   "cell_type": "markdown",
   "source": [
    "# Вопросы к зачету"
   ],
   "metadata": {
    "collapsed": false,
    "pycharm": {
     "name": "#%% md\n"
    }
   }
  }
 ],
 "metadata": {
  "kernelspec": {
   "display_name": "Python 3",
   "language": "python",
   "name": "python3"
  },
  "language_info": {
   "codemirror_mode": {
    "name": "ipython",
    "version": 3
   },
   "file_extension": ".py",
   "mimetype": "text/x-python",
   "name": "python",
   "nbconvert_exporter": "python",
   "pygments_lexer": "ipython3",
   "version": "3.8.8"
  },
  "toc": {
   "base_numbering": 1,
   "nav_menu": {},
   "number_sections": true,
   "sideBar": true,
   "skip_h1_title": false,
   "title_cell": "Table of Contents",
   "title_sidebar": "Contents",
   "toc_cell": false,
   "toc_position": {},
   "toc_section_display": true,
   "toc_window_display": false
  }
 },
 "nbformat": 4,
 "nbformat_minor": 5
}
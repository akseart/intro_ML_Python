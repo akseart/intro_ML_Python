{
 "cells": [
  {
   "cell_type": "markdown",
   "source": [
    "# Задача 1\n",
    "\n",
    "Ваня собирается пройти тестирование по его любимому предмету. На часах 12:00.  Ваня знает, что в тесте n вопросов, которые упорядочены по возрастанию сложности, а также что на решение задачи под номером i требуется 10*i минут.\n",
    "\n",
    "Однако Ване, необходимо успеть к 16:00 в кино. Добираться до кинотеатра Ваня будет k минут.\n",
    "\n",
    "Определите сколько вопросов Ваня успеет решить и успеть в кино"
   ],
   "metadata": {
    "collapsed": false,
    "pycharm": {
     "name": "#%% md\n"
    }
   }
  },
  {
   "cell_type": "code",
   "execution_count": null,
   "outputs": [],
   "source": [
    "def vanya(n, k):\n",
    "    time_test = 4 * 60 - k\n",
    "    for i in range(n):\n",
    "        time_test -= 10*i\n",
    "        if time_test < 0:\n",
    "            return i-1\n",
    "    return n\n",
    "\n",
    "vanya(5, 120)"
   ],
   "metadata": {
    "collapsed": false,
    "pycharm": {
     "name": "#%%\n"
    }
   }
  },
  {
   "cell_type": "code",
   "execution_count": null,
   "outputs": [],
   "source": [
    "4*60 - (10 + 20 + 30 + 40 + 120)"
   ],
   "metadata": {
    "collapsed": false,
    "pycharm": {
     "name": "#%%\n"
    }
   }
  },
  {
   "cell_type": "markdown",
   "source": [
    "# Задача 2\n",
    "Найти в массиве два соседних элемента у которых сумма минимальна"
   ],
   "metadata": {
    "collapsed": false,
    "pycharm": {
     "name": "#%% md\n"
    }
   }
  },
  {
   "cell_type": "code",
   "execution_count": null,
   "outputs": [],
   "source": [
    "a = [1, 2, 3, -1, 0, 10, 50]\n",
    "min_sum = a[0] + a[1]\n",
    "min_elem = 0\n",
    "for i in range(1, len(a)-1):\n",
    "    if min_sum > a[i] + a[i+1]:\n",
    "        min_sum = a[i] + a[i+1]\n",
    "        min_elem = i\n",
    "\n",
    "min_sum, min_elem, min_elem+1\n"
   ],
   "metadata": {
    "collapsed": false,
    "pycharm": {
     "name": "#%%\n"
    }
   }
  },
  {
   "cell_type": "markdown",
   "source": [
    "# Задние 3\n",
    "\n",
    "Дан массив высот местности. Определить те точки, которые невидимы для наблюдателя, который находится в одной из точек(h_i)"
   ],
   "metadata": {
    "collapsed": false,
    "pycharm": {
     "name": "#%% md\n"
    }
   }
  },
  {
   "cell_type": "code",
   "execution_count": null,
   "outputs": [],
   "source": [
    "def func(h, h_i):\n",
    "    max_height = None\n",
    "    for num, i in enumerate(h[h_i-1::-1]):\n",
    "        if max_height is None or i >= max_height:\n",
    "            max_height = i\n",
    "            print(h_i - 1 - num)\n",
    "\n",
    "    max_height = None\n",
    "    for num, i in enumerate(h[h_i+1:]):\n",
    "        if max_height is None or i >= max_height:\n",
    "            max_height = i\n",
    "            print(num + h_i +1)\n",
    "\n",
    "func([10, 9, 8, 7, 5, 6, 5, 7, 8, 2, 9, 10], 5)"
   ],
   "metadata": {
    "collapsed": false,
    "pycharm": {
     "name": "#%%\n"
    }
   }
  },
  {
   "cell_type": "markdown",
   "source": [
    "# Задание 4\n",
    "\n",
    "Написать функцию генерации случайного email."
   ],
   "metadata": {
    "collapsed": false,
    "pycharm": {
     "name": "#%% md\n"
    }
   }
  },
  {
   "cell_type": "code",
   "execution_count": null,
   "outputs": [],
   "source": [
    "# abcde@ya.ru\n",
    "import random\n",
    "import string\n",
    "\n",
    "def get_rand_string(num):\n",
    "    return ''.join(random.choice(string.ascii_lowercase) for _ in range(num))\n",
    "\n",
    "def random_email(domens=('com','ru', 'ai', 'su')):\n",
    "    return f\"{get_rand_string(10)}@{get_rand_string(5)}.{random.choice(domens)}\"\n",
    "\n",
    "random_email()\n"
   ],
   "metadata": {
    "collapsed": false,
    "pycharm": {
     "name": "#%%\n"
    }
   }
  },
  {
   "cell_type": "markdown",
   "source": [
    "# Задание 5\n",
    "\n",
    "Дана строка, содержащая полный путь к файлу (например, 'c:\\WebServers\\home\\testsite\\www\\myfile.txt'). Выделите из этой строки имя файла без расширения."
   ],
   "metadata": {
    "collapsed": false,
    "pycharm": {
     "name": "#%% md\n"
    }
   }
  },
  {
   "cell_type": "code",
   "execution_count": null,
   "outputs": [],
   "source": [
    "a = [1, 2, 3, 4]\n",
    "a[-3]"
   ],
   "metadata": {
    "collapsed": false,
    "pycharm": {
     "name": "#%%\n"
    }
   }
  },
  {
   "cell_type": "code",
   "execution_count": null,
   "outputs": [],
   "source": [
    "def get_file_name(path):\n",
    "    return path.split('\\\\')[-1].split('.')[0]\n",
    "\n",
    "get_file_name(r'c:\\WebServers\\home\\testsite\\www\\myfile.ipynb')"
   ],
   "metadata": {
    "collapsed": false,
    "pycharm": {
     "name": "#%%\n"
    }
   }
  },
  {
   "cell_type": "markdown",
   "source": [
    "# Задание 6\n",
    "Дан текст. Найдите в нем все числа, окруженные пробелами, и добавьте перед ними '<' и после них '>'."
   ],
   "metadata": {
    "collapsed": false,
    "pycharm": {
     "name": "#%% md\n"
    }
   }
  },
  {
   "cell_type": "code",
   "execution_count": null,
   "outputs": [],
   "source": [
    "def clean_text(text):\n",
    "    pos_space = None\n",
    "    for pos, symb in enumerate(text):\n",
    "        if symb == ' ':\n",
    "            if pos_space is None:\n",
    "                pos_space = pos\n",
    "            else:\n",
    "                if text[pos_space+1:pos].isdigit():\n",
    "                    text = text[:pos_space] + '<' + text[pos_space+1:pos] + '>' + text[pos+1:]\n",
    "                    continue\n",
    "                pos_space = pos\n",
    "    return text\n",
    "\n",
    "clean_text(\"1 kfkfkfkfkkf1 10    12 10000000000 \")"
   ],
   "metadata": {
    "collapsed": false,
    "pycharm": {
     "name": "#%%\n"
    }
   }
  },
  {
   "cell_type": "markdown",
   "source": [
    "# Задание 7\n",
    "\n",
    "Проверить, соблюдается ли в заданном тексте баланс открывающих и закрывающих круглых скобок, то есть можно ли установить взаимно однозначное соответствие открывающих и закрывающих скобок, причем открывающая скобка всегда предшествует соответствующей закрывающей."
   ],
   "metadata": {
    "collapsed": false,
    "pycharm": {
     "name": "#%% md\n"
    }
   }
  },
  {
   "cell_type": "code",
   "execution_count": null,
   "outputs": [],
   "source": [
    "def is_correct_brackets(text):\n",
    "    num_brackets = 0 #(\n",
    "    for i in text:\n",
    "        if i == \"(\":\n",
    "            num_brackets += 1\n",
    "        elif i == ')':\n",
    "            num_brackets -= 1\n",
    "            if num_brackets < 0:\n",
    "                return False\n",
    "    if num_brackets == 0:\n",
    "        return True\n",
    "    else:\n",
    "        return False\n",
    "\n",
    "is_correct_brackets(\")(()\")"
   ],
   "metadata": {
    "collapsed": false,
    "pycharm": {
     "name": "#%%\n"
    }
   }
  },
  {
   "cell_type": "markdown",
   "source": [
    "# Задание 8\n",
    "Дан массив названий переменных в lowerCamelCase. Преобразовать названия в snake_case.\n",
    "\n",
    "CamelCase — стиль написания составных слов, при котором несколько слов пишутся слитно без пробелов, при этом каждое слово внутри фразы пишется с прописной буквы.\n",
    "\n",
    "snake_case - стиль написания составных слов, при котором несколько слов разделяются символом подчеркивания (_), и не имеют пробелов в записи, причём каждое слово обычно пишется с маленькой буквы — «foo_bar», «hello_world»\n",
    "\n"
   ],
   "metadata": {
    "collapsed": false,
    "pycharm": {
     "name": "#%% md\n"
    }
   }
  },
  {
   "cell_type": "code",
   "execution_count": 81,
   "outputs": [
    {
     "data": {
      "text/plain": "['camel_case',\n 'is_digit',\n 'is_upper',\n 'is_upper_letter',\n 'is_upper_letter_page']"
     },
     "execution_count": 81,
     "metadata": {},
     "output_type": "execute_result"
    }
   ],
   "source": [
    "def change_notation(list_of_names):\n",
    "    for pos_list, var in enumerate(list_of_names):\n",
    "        result = var\n",
    "        num_change = 0\n",
    "        for pos_str, i in enumerate(var):\n",
    "            if i.isupper():\n",
    "                result = result[:pos_str+num_change] + '_' + i.lower() + result[pos_str+1+num_change:]\n",
    "                num_change += 1\n",
    "        list_of_names[pos_list] = result\n",
    "    return list_of_names\n",
    "\n",
    "variables = [\"camelCase\", \"isDigit\", \"isUpper\", \"isUpperLetter\", \"isUpperLetterPage\"]\n",
    "change_notation(variables)"
   ],
   "metadata": {
    "collapsed": false,
    "pycharm": {
     "name": "#%%\n"
    }
   }
  },
  {
   "cell_type": "code",
   "execution_count": 83,
   "outputs": [
    {
     "data": {
      "text/plain": "[(0, 1), (1, 2), (2, 3), (3, 4)]"
     },
     "execution_count": 83,
     "metadata": {},
     "output_type": "execute_result"
    }
   ],
   "source": [
    "list(enumerate([1, 2, 3, 4]))"
   ],
   "metadata": {
    "collapsed": false,
    "pycharm": {
     "name": "#%%\n"
    }
   }
  },
  {
   "cell_type": "code",
   "execution_count": 86,
   "outputs": [
    {
     "name": "stdout",
     "output_type": "stream",
     "text": [
      "1 1 1\n",
      "2 2 2\n",
      "3 3 3\n"
     ]
    }
   ],
   "source": [
    "for i, i1, i2 in zip([1, 2, 3], [1, 2, 3], [1, 2, 3]):\n",
    "    print(i, i1, i2)"
   ],
   "metadata": {
    "collapsed": false,
    "pycharm": {
     "name": "#%%\n"
    }
   }
  },
  {
   "cell_type": "code",
   "execution_count": 88,
   "outputs": [
    {
     "data": {
      "text/plain": "[(1, 1, 1, 1), (2, 2, 2, 2), (3, 3, 3, 3)]"
     },
     "execution_count": 88,
     "metadata": {},
     "output_type": "execute_result"
    }
   ],
   "source": [
    "list(zip([1, 2, 3], [1, 2, 3], [1, 2, 3], [1, 2, 3, 4]))"
   ],
   "metadata": {
    "collapsed": false,
    "pycharm": {
     "name": "#%%\n"
    }
   }
  },
  {
   "cell_type": "code",
   "execution_count": null,
   "outputs": [],
   "source": [],
   "metadata": {
    "collapsed": false,
    "pycharm": {
     "name": "#%%\n"
    }
   }
  }
 ],
 "metadata": {
  "kernelspec": {
   "display_name": "Python 3",
   "language": "python",
   "name": "python3"
  },
  "language_info": {
   "codemirror_mode": {
    "name": "ipython",
    "version": 2
   },
   "file_extension": ".py",
   "mimetype": "text/x-python",
   "name": "python",
   "nbconvert_exporter": "python",
   "pygments_lexer": "ipython2",
   "version": "2.7.6"
  }
 },
 "nbformat": 4,
 "nbformat_minor": 0
}
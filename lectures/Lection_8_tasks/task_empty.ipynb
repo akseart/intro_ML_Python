{
 "cells": [
  {
   "cell_type": "markdown",
   "source": [
    "# Задача 1\n",
    "\n",
    "Ваня собирается пройти тестирование по его любимому предмету. На часах 12:00.  Ваня знает, что в тесте n вопросов, которые упорядочены по возрастанию сложности, а также что на решение задачи под номером i требуется 10*i минут.\n",
    "\n",
    "Однако Ване, необходимо успеть к 16:00 в кино. Добираться до кинотеатра Ваня будет k минут.\n",
    "\n",
    "Определите сколько вопросов Ваня успеет решить и успеть в кино"
   ],
   "metadata": {
    "collapsed": false,
    "pycharm": {
     "name": "#%% md\n"
    }
   }
  },
  {
   "cell_type": "code",
   "execution_count": null,
   "outputs": [],
   "source": [
    "def vanya(n, k):\n",
    "    ...\n",
    "\n",
    "vanya(..., ...)"
   ],
   "metadata": {
    "collapsed": false,
    "pycharm": {
     "name": "#%%\n"
    }
   }
  },
  {
   "cell_type": "markdown",
   "source": [
    "# Задача 2\n",
    "Найти в массиве два соседних элемента у которых сумма минимальна"
   ],
   "metadata": {
    "collapsed": false,
    "pycharm": {
     "name": "#%% md\n"
    }
   }
  },
  {
   "cell_type": "code",
   "execution_count": null,
   "outputs": [],
   "source": [
    "a = [1, 2, 3, -1, 0, 10, 50]\n",
    "..."
   ],
   "metadata": {
    "collapsed": false,
    "pycharm": {
     "name": "#%%\n"
    }
   }
  },
  {
   "cell_type": "markdown",
   "source": [
    "# Задние 3\n",
    "\n",
    "Дан массив высот местности. Определить те точки, которые невидимы для наблюдателя, который находится в одной из точек"
   ],
   "metadata": {
    "collapsed": false,
    "pycharm": {
     "name": "#%% md\n"
    }
   }
  },
  {
   "cell_type": "code",
   "execution_count": null,
   "outputs": [],
   "source": [
    "h = [10, 9, 8, 7, 5, 6, 5, 7, 8, 9, 10]\n",
    "h_i = 5\n",
    "..."
   ],
   "metadata": {
    "collapsed": false,
    "pycharm": {
     "name": "#%%\n"
    }
   }
  },
  {
   "cell_type": "markdown",
   "source": [
    "# Задание 4\n",
    "\n",
    "Написать функцию генерации случайного email."
   ],
   "metadata": {
    "collapsed": false,
    "pycharm": {
     "name": "#%% md\n"
    }
   }
  },
  {
   "cell_type": "code",
   "execution_count": null,
   "outputs": [],
   "source": [
    "def random_email(domens=('com','ru', 'ai', 'su')):\n",
    "    ..."
   ],
   "metadata": {
    "collapsed": false,
    "pycharm": {
     "name": "#%%\n"
    }
   }
  },
  {
   "cell_type": "markdown",
   "source": [
    "# Задание 5\n",
    "\n",
    "Дана строка, содержащая полное имя файла (например, 'c:\\WebServers\\home\\testsite\\www\\myfile.txt'). Выделите из этой строки имя файла без расширения."
   ],
   "metadata": {
    "collapsed": false,
    "pycharm": {
     "name": "#%% md\n"
    }
   }
  },
  {
   "cell_type": "code",
   "execution_count": null,
   "outputs": [],
   "source": [
    "def get_file_name(path):\n",
    "    ...\n"
   ],
   "metadata": {
    "collapsed": false,
    "pycharm": {
     "name": "#%%\n"
    }
   }
  },
  {
   "cell_type": "markdown",
   "source": [
    "# Задание 6\n",
    "Дан текст. Найдите в нем все числа, окруженные пробелами, и добавьте перед ними '<' и после них '>'."
   ],
   "metadata": {
    "collapsed": false,
    "pycharm": {
     "name": "#%% md\n"
    }
   }
  },
  {
   "cell_type": "code",
   "execution_count": null,
   "outputs": [],
   "source": [
    "def clean_text(text):\n",
    "    ...\n",
    "\n",
    "clean_text(\"1 kfkfkfkfkkf1 10    12 10000000000 \")"
   ],
   "metadata": {
    "collapsed": false,
    "pycharm": {
     "name": "#%%\n"
    }
   }
  },
  {
   "cell_type": "markdown",
   "source": [
    "# Задание 7\n",
    "\n",
    "Проверить, соблюдается ли в заданном тексте баланс открывающих и закрывающих круглых скобок, то есть можно ли установить взаимно однозначное соответствие открывающих и закрывающих скобок, причем открывающая скобка всегда предшествует соответствующей закрывающей."
   ],
   "metadata": {
    "collapsed": false,
    "pycharm": {
     "name": "#%% md\n"
    }
   }
  },
  {
   "cell_type": "code",
   "execution_count": null,
   "outputs": [],
   "source": [
    "def is_correct_brackets(text):\n",
    "    ...\n",
    "\n",
    "is_correct_brackets(\"\")"
   ],
   "metadata": {
    "collapsed": false,
    "pycharm": {
     "name": "#%%\n"
    }
   }
  },
  {
   "cell_type": "markdown",
   "source": [
    "# Задание 8\n",
    "Дан массив названий переменных в lowerCamelCase. Преобразовать названия в snake_case.\n",
    "\n",
    "CamelCase — стиль написания составных слов, при котором несколько слов пишутся слитно без пробелов, при этом каждое слово внутри фразы пишется с прописной буквы.\n",
    "\n",
    "snake_case - стиль написания составных слов, при котором несколько слов разделяются символом подчеркивания (_), и не имеют пробелов в записи, причём каждое слово обычно пишется с маленькой буквы — «foo_bar», «hello_world»\n",
    "\n"
   ],
   "metadata": {
    "collapsed": false,
    "pycharm": {
     "name": "#%% md\n"
    }
   }
  },
  {
   "cell_type": "code",
   "execution_count": null,
   "outputs": [],
   "source": [
    "def change_notation(list_of_names):\n",
    "    ...\n"
   ],
   "metadata": {
    "collapsed": false,
    "pycharm": {
     "name": "#%%\n"
    }
   }
  }
 ],
 "metadata": {
  "kernelspec": {
   "display_name": "Python 3",
   "language": "python",
   "name": "python3"
  },
  "language_info": {
   "codemirror_mode": {
    "name": "ipython",
    "version": 2
   },
   "file_extension": ".py",
   "mimetype": "text/x-python",
   "name": "python",
   "nbconvert_exporter": "python",
   "pygments_lexer": "ipython2",
   "version": "2.7.6"
  }
 },
 "nbformat": 4,
 "nbformat_minor": 0
}
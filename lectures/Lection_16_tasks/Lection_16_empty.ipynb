{
 "cells": [
  {
   "cell_type": "markdown",
   "source": [
    "# Введение в методы анализа данных. Язык Python."
   ],
   "metadata": {
    "collapsed": false
   }
  },
  {
   "cell_type": "markdown",
   "source": [
    "## Дополнительно занятие 15\n",
    "\n",
    "<br><br><br><br>\n",
    "__Аксентьев Артем (akseart@ya.ru)__\n",
    "\n",
    "__Ксемидов Борис (nstalker.anonim@yandex.ru)__\n",
    "<br>"
   ],
   "metadata": {
    "collapsed": false
   }
  },
  {
   "cell_type": "markdown",
   "source": [
    "# Задача 1. И снова скобочные последовательности\n",
    "Создать $n$ правильных скобочных последовательностей длины $2n$"
   ],
   "metadata": {
    "collapsed": false
   }
  },
  {
   "cell_type": "code",
   "execution_count": null,
   "outputs": [],
   "source": [],
   "metadata": {
    "collapsed": false,
    "pycharm": {
     "name": "#%%\n"
    }
   }
  },
  {
   "cell_type": "markdown",
   "source": [
    "# Задача 2. Куча камней\n",
    "\n",
    "В неком саду есть несколько куч камней. Нам предоставлены результаты подсчета камней в каждой куче утром и вечером. Известно, что за день прошло \"неограниченное\" количество посетителей, каждый из которых мог забрать себе камень или же переложить его между кучами. Ваша задача по двум записям(утро и вечер) определить правильно ли был проведен подсчет."
   ],
   "metadata": {
    "collapsed": false,
    "pycharm": {
     "name": "#%% md\n"
    }
   }
  },
  {
   "cell_type": "code",
   "execution_count": null,
   "outputs": [],
   "source": [],
   "metadata": {
    "collapsed": false,
    "pycharm": {
     "name": "#%%\n"
    }
   }
  },
  {
   "cell_type": "markdown",
   "source": [
    "# Задача 3. Палиндром\n",
    "\n",
    "Дана строка, необходимо найти строку, которая будет являться палиндромом и при этом изначальная строка будет являться её подстрокой"
   ],
   "metadata": {
    "collapsed": false,
    "pycharm": {
     "name": "#%% md\n"
    }
   }
  },
  {
   "cell_type": "code",
   "execution_count": null,
   "outputs": [],
   "source": [],
   "metadata": {
    "collapsed": false,
    "pycharm": {
     "name": "#%%\n"
    }
   }
  },
  {
   "cell_type": "markdown",
   "source": [
    "# Задача 4. Человекочитаемая конфигурация\n",
    "\n",
    "Пусть дан файл в котором прописаны ip адреса и наименования сервисов, которые находятся на них.\n",
    "Пример:\n",
    "```\n",
    "192.168.0.255 Google\n",
    "172.17.90.2   Yandex\n",
    "```\n",
    "\n",
    "Во втором файле описаны некие команды(состоящие из одного слова) и ip адрес.\n",
    "Например:\n",
    "```\n",
    "block 192.168.0.255\n",
    "check 172.17.90.2\n",
    "```\n",
    "Необходимо получить файл конфигурации в человекочитаемом виде, то есть добавить после каждой команды комментарий, который покажет над каким сервисом выполняются команды.\n",
    "Пример:\n",
    "```\n",
    "block 192.168.0.255 # Google\n",
    "check 172.17.90.2 # Yandex\n",
    "```"
   ],
   "metadata": {
    "collapsed": false,
    "pycharm": {
     "name": "#%% md\n"
    }
   }
  },
  {
   "cell_type": "code",
   "execution_count": 19,
   "outputs": [
    {
     "name": "stdout",
     "output_type": "stream",
     "text": [
      "Writing servers.txt\n"
     ]
    }
   ],
   "source": [
    "%%writefile servers.txt\n",
    "192.168.0.255 Google\n",
    "172.17.90.2   Yandex"
   ],
   "metadata": {
    "collapsed": false,
    "pycharm": {
     "name": "#%%\n"
    }
   }
  },
  {
   "cell_type": "code",
   "execution_count": 18,
   "outputs": [
    {
     "name": "stdout",
     "output_type": "stream",
     "text": [
      "Writing config.txt\n"
     ]
    }
   ],
   "source": [
    "%%writefile config.txt\n",
    "block 192.168.0.255\n",
    "check 172.17.90.2"
   ],
   "metadata": {
    "collapsed": false,
    "pycharm": {
     "name": "#%%\n"
    }
   }
  },
  {
   "cell_type": "code",
   "execution_count": null,
   "outputs": [],
   "source": [],
   "metadata": {
    "collapsed": false,
    "pycharm": {
     "name": "#%%\n"
    }
   }
  },
  {
   "cell_type": "code",
   "execution_count": 29,
   "outputs": [
    {
     "name": "stdout",
     "output_type": "stream",
     "text": [
      "block 192.168.0.255 # Google\r\n",
      "check 172.17.90.2 # Yandex\r\n"
     ]
    }
   ],
   "source": [
    "!cat text.txt"
   ],
   "metadata": {
    "collapsed": false,
    "pycharm": {
     "name": "#%%\n"
    }
   }
  },
  {
   "cell_type": "markdown",
   "source": [
    "# Задача 5. Свободная касса\n",
    "\n",
    "Известно, что завтра в магазин придет $n$ посетителей для каждого из них известно точное время прихода. Известно, что касса обслуживает каждого клиента менее чем за минуту. Сколько нужно открыть касс, чтобы каждый посетитель прошел её без очереди?"
   ],
   "metadata": {
    "collapsed": false,
    "pycharm": {
     "name": "#%% md\n"
    }
   }
  },
  {
   "cell_type": "code",
   "execution_count": null,
   "outputs": [],
   "source": [],
   "metadata": {
    "collapsed": false,
    "pycharm": {
     "name": "#%%\n"
    }
   }
  },
  {
   "cell_type": "markdown",
   "source": [
    "# Задание 6. Простые числа\n",
    "Найти все простые числа от $1$ до $N$"
   ],
   "metadata": {
    "collapsed": false,
    "pycharm": {
     "name": "#%% md\n"
    }
   }
  },
  {
   "cell_type": "code",
   "execution_count": null,
   "outputs": [],
   "source": [],
   "metadata": {
    "collapsed": false,
    "pycharm": {
     "name": "#%%\n"
    }
   }
  },
  {
   "cell_type": "markdown",
   "source": [
    "Используем \"Решето Эратосфена\"\n",
    "\n",
    "1. Выписать подряд все целые числа от двух до n (2, 3, 4, …, n).\n",
    "2. Пусть переменная p изначально равна двум — первому простому числу.\n",
    "3. Зачеркнуть в списке числа от 2p до n считая шагами по p (это будут числа кратные p: 2p, 3p, 4p, …).\n",
    "4. Найти первое незачёркнутое число в списке, большее чем p, и присвоить значению переменной p это число.\n",
    "5. Повторять шаги 3 и 4, пока возможно."
   ],
   "metadata": {
    "collapsed": false,
    "pycharm": {
     "name": "#%% md\n"
    }
   }
  },
  {
   "cell_type": "markdown",
   "source": [
    "![](New_Animation_Sieve_of_Eratosthenes.gif)"
   ],
   "metadata": {
    "collapsed": false
   }
  },
  {
   "cell_type": "code",
   "execution_count": null,
   "outputs": [],
   "source": [],
   "metadata": {
    "collapsed": false,
    "pycharm": {
     "name": "#%%\n"
    }
   }
  },
  {
   "cell_type": "markdown",
   "source": [
    "# Задание 7. Счастливый билет\n",
    "\n",
    "Дан номер билета в виде 6-ти цифр. Определить счастливый ли это билет"
   ],
   "metadata": {
    "collapsed": false,
    "pycharm": {
     "name": "#%% md\n"
    }
   }
  },
  {
   "cell_type": "code",
   "execution_count": null,
   "outputs": [],
   "source": [],
   "metadata": {
    "collapsed": false,
    "pycharm": {
     "name": "#%%\n"
    }
   }
  }
 ],
 "metadata": {
  "kernelspec": {
   "display_name": "Python 3",
   "language": "python",
   "name": "python3"
  },
  "language_info": {
   "codemirror_mode": {
    "name": "ipython",
    "version": 2
   },
   "file_extension": ".py",
   "mimetype": "text/x-python",
   "name": "python",
   "nbconvert_exporter": "python",
   "pygments_lexer": "ipython2",
   "version": "2.7.6"
  }
 },
 "nbformat": 4,
 "nbformat_minor": 0
}
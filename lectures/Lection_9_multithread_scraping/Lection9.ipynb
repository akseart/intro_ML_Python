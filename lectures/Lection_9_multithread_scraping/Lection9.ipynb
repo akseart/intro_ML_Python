{
 "cells": [
  {
   "cell_type": "markdown",
   "source": [
    "# Введение в методы анализа данных. Язык Python."
   ],
   "metadata": {
    "collapsed": false
   }
  },
  {
   "cell_type": "markdown",
   "source": [
    "## Лекция 9. Параллелизм в Python. Оптимизация программ\n",
    "<br><br><br><br>\n",
    "__Аксентьев Артем (akseart@ya.ru)__\n",
    "\n",
    "__Ксемидов Борис (nstalker.anonim@yandex.ru)__\n",
    "<br>"
   ],
   "metadata": {
    "collapsed": false
   }
  },
  {
   "cell_type": "markdown",
   "source": [
    "# Зачем необходимо?\n",
    "\n",
    "- Большие расчеты\n",
    "- Работа с вводом-выводом\n",
    "- Разделение задач между потоками"
   ],
   "metadata": {
    "collapsed": false
   }
  },
  {
   "cell_type": "markdown",
   "source": [
    "Параллелизм:\n",
    "- Конкурентности\n",
    "- Параллелизма"
   ],
   "metadata": {
    "collapsed": false
   }
  },
  {
   "cell_type": "markdown",
   "source": [
    "# Про многоядерность\n",
    "\n",
    "Многоядерный процессор — центральный процессор, содержащий два и более вычислительных ядра на одном процессорном кристалле или в одном корпусе.\n",
    "\n"
   ],
   "metadata": {
    "collapsed": false
   }
  },
  {
   "cell_type": "markdown",
   "source": [
    "# Процесс и Поток\n",
    "\n",
    "Поток(thread)-это наименьшая единица выполнения, которая может быть выполнена на компьютере. Потоки существуют как части процесса и обычно не являются независимыми друг от друга, что означает, что они совместно используют данные и память с другими потоками в рамках одного и того же процесса.\n",
    "\n",
    "Процесс(process)-это задание или экземпляр компьютерной программы, который может быть выполнен.\n",
    "\n",
    "<img src=\"2560px-Multithreaded_process.svg.png\" width=\"512\"/>"
   ],
   "metadata": {
    "collapsed": false
   }
  },
  {
   "cell_type": "markdown",
   "source": [
    "# Многопоточность"
   ],
   "metadata": {
    "collapsed": false
   }
  },
  {
   "cell_type": "code",
   "execution_count": 18,
   "outputs": [
    {
     "name": "stdout",
     "output_type": "stream",
     "text": [
      "Thread 1: 0\n",
      "Main-thread: 0\n",
      "Thread 1: 1\n",
      "Main-thread: 1\n",
      "Main-thread: 2\n",
      "Thread 1: 2\n",
      "Main-thread: 3\n",
      "Thread 1: 3\n",
      "Main-thread: 4\n",
      "Thread 1: 4\n",
      "Main-thread: 5\n",
      "Thread 1: 5\n",
      "Main-thread: 6\n",
      "Thread 1: 6\n",
      "Main-thread: 7\n",
      "Thread 1: 7\n",
      "Main-thread: 8\n",
      "Thread 1: 8\n",
      "Main-thread: 9\n",
      "Thread 1: 9\n"
     ]
    }
   ],
   "source": [
    "from threading import Thread\n",
    "from time import sleep\n",
    "\n",
    "def func():\n",
    "    for i in range(10):\n",
    "        print(f\"Thread 1: {i}\")\n",
    "        sleep(1)\n",
    "\n",
    "th = Thread(target=func)\n",
    "th.start()\n",
    "\n",
    "for i in range(10):\n",
    "    print(f\"Main-thread: {i}\")\n",
    "    sleep(1)\n"
   ],
   "metadata": {
    "collapsed": false,
    "pycharm": {
     "name": "#%%\n"
    }
   }
  },
  {
   "cell_type": "code",
   "execution_count": 19,
   "outputs": [],
   "source": [
    "def foo1(a=10):\n",
    "    for i in range(10):\n",
    "        a = a + a ** i\n",
    "    return a\n",
    "\n",
    "def foo2(a=10):\n",
    "    for i in range(10):\n",
    "        a = a + a / (i + 1)\n",
    "    return a"
   ],
   "metadata": {
    "collapsed": false,
    "pycharm": {
     "name": "#%%\n"
    }
   }
  },
  {
   "cell_type": "code",
   "execution_count": 23,
   "outputs": [
    {
     "name": "stdout",
     "output_type": "stream",
     "text": [
      "122 ms ± 225 µs per loop (mean ± std. dev. of 7 runs, 10 loops each)\n"
     ]
    }
   ],
   "source": [
    "%%timeit\n",
    "foo1()\n",
    "foo2()\n"
   ],
   "metadata": {
    "collapsed": false,
    "pycharm": {
     "name": "#%%\n"
    }
   }
  },
  {
   "cell_type": "code",
   "execution_count": null,
   "outputs": [],
   "source": [
    "from threading import Thread"
   ],
   "metadata": {
    "collapsed": false,
    "pycharm": {
     "name": "#%%\n"
    }
   }
  },
  {
   "cell_type": "code",
   "execution_count": 22,
   "outputs": [
    {
     "name": "stdout",
     "output_type": "stream",
     "text": [
      "121 ms ± 440 µs per loop (mean ± std. dev. of 7 runs, 10 loops each)\n"
     ]
    }
   ],
   "source": [
    "%%timeit\n",
    "\n",
    "th1 = Thread(target=foo1, name=\"**\")\n",
    "th2 = Thread(target=foo2, name=\"/\")\n",
    "\n",
    "th1.start()\n",
    "th2.start()\n",
    "\n",
    "th1.join()\n",
    "th2.join()"
   ],
   "metadata": {
    "collapsed": false,
    "pycharm": {
     "name": "#%%\n"
    }
   }
  },
  {
   "cell_type": "markdown",
   "source": [
    "## Пара слов о GIL\n",
    "\n",
    "GIL -- Global Interpreter Lock. Позволяет выполнять ровно один поток в один момент времени. Это необходимо из-за сложного устройства Python для того, чтобы потоки не \"мешали\" друг другу.\n",
    "\n",
    "GIL -- некий ключ, который блокирует исполнение других потоков, в том случае, если один поток выполняется. Ключ становится открытым, когда происходит ожидание ввода вывода или же через какое-то определенное время."
   ],
   "metadata": {
    "collapsed": false
   }
  },
  {
   "cell_type": "markdown",
   "source": [
    "![](GIL.png)"
   ],
   "metadata": {
    "collapsed": false
   }
  },
  {
   "cell_type": "code",
   "execution_count": 24,
   "outputs": [
    {
     "name": "stdout",
     "output_type": "stream",
     "text": [
      "from CustomThread: 0\n",
      "from CustomThread: 1\n",
      "from CustomThread: 2\n"
     ]
    }
   ],
   "source": [
    "class CustomThread(Thread):\n",
    "    def __init__(self, limit):\n",
    "        Thread.__init__(self)\n",
    "        self._limit = limit\n",
    "\n",
    "    def run(self):\n",
    "        for i in range(self._limit):\n",
    "            print(f\"from CustomThread: {i}\")\n",
    "            sleep(0.5)\n",
    "\n",
    "cth = CustomThread(3)\n",
    "cth.start()\n",
    "cth.join()"
   ],
   "metadata": {
    "collapsed": false,
    "pycharm": {
     "name": "#%%\n"
    }
   }
  },
  {
   "cell_type": "code",
   "execution_count": 31,
   "outputs": [
    {
     "name": "stdout",
     "output_type": "stream",
     "text": [
      "from CustomThread: 0\n",
      "from CustomThread: 0\n",
      "from CustomThread: 1\n",
      "from CustomThread: 1\n",
      "from CustomThread: 2\n",
      "from CustomThread: 3\n",
      "from CustomThread: 4\n",
      "False\n"
     ]
    }
   ],
   "source": [
    "class CustomThread(Thread):\n",
    "    def __init__(self, limit):\n",
    "        Thread.__init__(self)\n",
    "        self._limit = limit\n",
    "\n",
    "    def run(self):\n",
    "        for i in range(self._limit):\n",
    "            print(f\"from CustomThread: {i}\")\n",
    "            sleep(1)\n",
    "\n",
    "cth = CustomThread(2)\n",
    "cth1 = CustomThread(5)\n",
    "cth1.start()\n",
    "cth.start()\n",
    "\n",
    "cth.join()\n",
    "cth1.join(100)\n",
    "print(cth1.is_alive())"
   ],
   "metadata": {
    "collapsed": false,
    "pycharm": {
     "name": "#%%\n"
    }
   }
  },
  {
   "cell_type": "markdown",
   "source": [
    "## Особенности при работе с несколькими потоками:\n",
    "### race condition\n",
    "Состояние гонки или race condition – это ошибка, возникающая при неправильном проектировании многопоточной программы. Она возникает тогда, когда несколько потоков обращаются к одним и тем же данным.\n"
   ],
   "metadata": {
    "collapsed": false,
    "pycharm": {
     "name": "#%% md\n"
    }
   }
  },
  {
   "cell_type": "code",
   "execution_count": 32,
   "outputs": [],
   "source": [
    "import random\n",
    "from time import sleep\n",
    "def foo1(a=10):\n",
    "    global x\n",
    "    sleep(random.random())\n",
    "    if x == 5:\n",
    "        print(\"x == 5\")\n",
    "    else:\n",
    "        print(\"x not == 5\")\n",
    "\n",
    "def foo2(a=10):\n",
    "    global x\n",
    "    sleep(random.random())\n",
    "    x = 1"
   ],
   "metadata": {
    "collapsed": false,
    "pycharm": {
     "name": "#%%\n"
    }
   }
  },
  {
   "cell_type": "code",
   "execution_count": 36,
   "outputs": [
    {
     "name": "stdout",
     "output_type": "stream",
     "text": [
      "x not == 5\n"
     ]
    }
   ],
   "source": [
    "from threading import Thread\n",
    "x = 5\n",
    "th1 = Thread(target=foo1)\n",
    "th2 = Thread(target=foo2)\n",
    "\n",
    "th1.start()\n",
    "th2.start()\n",
    "\n",
    "th1.join()\n",
    "th2.join()"
   ],
   "metadata": {
    "collapsed": false,
    "pycharm": {
     "name": "#%%\n"
    }
   }
  },
  {
   "cell_type": "markdown",
   "source": [
    "### Решение"
   ],
   "metadata": {
    "collapsed": false
   }
  },
  {
   "cell_type": "code",
   "execution_count": 42,
   "outputs": [
    {
     "name": "stdout",
     "output_type": "stream",
     "text": [
      "x == 5\n"
     ]
    }
   ],
   "source": [
    "import random\n",
    "from time import sleep\n",
    "import threading\n",
    "x = 5\n",
    "x_locking = threading.Lock()\n",
    "def foo1(a=10):\n",
    "    global x\n",
    "    x_locking.acquire()\n",
    "    sleep(random.random())\n",
    "    if x == 5:\n",
    "        print(\"x == 5\")\n",
    "    else:\n",
    "        print(\"x not == 5\")\n",
    "    x_locking.release()\n",
    "\n",
    "def foo2(a=10):\n",
    "    global x\n",
    "    x_locking.acquire()\n",
    "    sleep(random.random())\n",
    "    x = 1\n",
    "    x_locking.release()\n",
    "\n",
    "th1 = Thread(target=foo1)\n",
    "th2 = Thread(target=foo2)\n",
    "\n",
    "th1.start()\n",
    "sleep(0.2)\n",
    "th2.start()\n",
    "\n",
    "th1.join()\n",
    "th2.join()"
   ],
   "metadata": {
    "collapsed": false,
    "pycharm": {
     "name": "#%%\n"
    }
   }
  },
  {
   "cell_type": "code",
   "execution_count": null,
   "outputs": [],
   "source": [
    "import random\n",
    "from time import sleep\n",
    "import threading\n",
    "x = 5\n",
    "x_locking = threading.Lock()\n",
    "def foo1(a=10):\n",
    "    global x\n",
    "    with x_locking:\n",
    "        sleep(random.random())\n",
    "        if x == 5:\n",
    "            print(\"x == 5\")\n",
    "        else:\n",
    "            print(\"x not == 5\")\n",
    "    ...\n",
    "\n",
    "def foo2(a=10):\n",
    "    global x\n",
    "    with x_locking:\n",
    "        sleep(random.random())\n",
    "        x = 1\n",
    "\n",
    "th1 = Thread(target=foo1)\n",
    "th2 = Thread(target=foo2)\n",
    "\n",
    "th1.start()\n",
    "th2.start()\n",
    "\n",
    "th1.join()\n",
    "th2.join()"
   ],
   "metadata": {
    "collapsed": false,
    "pycharm": {
     "name": "#%%\n"
    }
   }
  },
  {
   "cell_type": "markdown",
   "source": [
    "## deadlock\n",
    "deadlock -- Ожидание блокировки, которая не может быть снята"
   ],
   "metadata": {
    "collapsed": false,
    "pycharm": {
     "name": "#%% md\n"
    }
   }
  },
  {
   "cell_type": "code",
   "execution_count": 45,
   "outputs": [
    {
     "name": "stdout",
     "output_type": "stream",
     "text": [
      "foo1 -- блокировка установлена\n",
      "x == 5\n",
      "foo1 -- блокировка снятаfoo2 -- блокировка установлена\n",
      "Foo1 exit\n",
      "\n",
      "foo2 -- блокировка снята\n",
      "Foo2 exit\n"
     ]
    }
   ],
   "source": [
    "import random\n",
    "from time import sleep\n",
    "import threading\n",
    "x = 5\n",
    "x_locking = threading.Lock()\n",
    "def foo1(a=10):\n",
    "    global x\n",
    "    x_locking.acquire()\n",
    "    print(\"foo1 -- блокировка установлена\")\n",
    "    sleep(random.random())\n",
    "    if x == 5:\n",
    "        print(\"x == 5\")\n",
    "    else:\n",
    "        print(\"x not == 5\")\n",
    "    # return None\n",
    "    x_locking.release()\n",
    "    print(\"foo1 -- блокировка снята\")\n",
    "    print(\"Foo1 exit\")\n",
    "\n",
    "def foo2(a=10):\n",
    "    global x\n",
    "    x_locking.acquire()\n",
    "    print(\"foo2 -- блокировка установлена\")\n",
    "    sleep(random.random())\n",
    "    x = 1\n",
    "    x_locking.release()\n",
    "    print(\"foo2 -- блокировка снята\")\n",
    "    print(\"Foo2 exit\")\n",
    "\n",
    "th1 = Thread(target=foo1)\n",
    "th2 = Thread(target=foo2)\n",
    "\n",
    "th1.start()\n",
    "th2.start()\n",
    "\n",
    "th1.join()\n",
    "th2.join()"
   ],
   "metadata": {
    "collapsed": false,
    "pycharm": {
     "name": "#%%\n"
    }
   }
  },
  {
   "cell_type": "markdown",
   "source": [
    "### Решение:"
   ],
   "metadata": {
    "collapsed": false,
    "pycharm": {
     "name": "#%% md\n"
    }
   }
  },
  {
   "cell_type": "code",
   "execution_count": 47,
   "outputs": [
    {
     "name": "stdout",
     "output_type": "stream",
     "text": [
      "foo1 -- блокировка установлена\n"
     ]
    },
    {
     "name": "stderr",
     "output_type": "stream",
     "text": [
      "Exception in thread Thread-69:\n",
      "Traceback (most recent call last):\n",
      "  File \"/Users/artem/miniconda3/envs/Python_Lections_MSU/lib/python3.8/threading.py\", line 932, in _bootstrap_inner\n",
      "    self.run()\n",
      "  File \"/Users/artem/miniconda3/envs/Python_Lections_MSU/lib/python3.8/threading.py\", line 870, in run\n",
      "    self._target(*self._args, **self._kwargs)\n",
      "  File \"/var/folders/g0/yt0m6mx534b6cl53216hwy940000gn/T/ipykernel_2999/1110259563.py\", line 15, in foo1\n",
      "TypeError: exceptions must derive from BaseException\n"
     ]
    },
    {
     "name": "stdout",
     "output_type": "stream",
     "text": [
      "x == 5\n",
      "foo2 -- блокировка установлена\n",
      "foo2 -- блокировка снята\n",
      "Foo2 exit\n"
     ]
    }
   ],
   "source": [
    "import random\n",
    "from time import sleep\n",
    "import threading\n",
    "x = 5\n",
    "x_locking = threading.Lock()\n",
    "def foo1(a=10):\n",
    "    global x\n",
    "    with x_locking:\n",
    "        print(\"foo1 -- блокировка установлена\")\n",
    "        sleep(random.random())\n",
    "        if x == 5:\n",
    "            print(\"x == 5\")\n",
    "        else:\n",
    "            print(\"x not == 5\")\n",
    "        raise None\n",
    "\n",
    "    print(\"foo1 -- блокировка снята\")\n",
    "    print(\"Foo1 exit\")\n",
    "\n",
    "def foo2(a=10):\n",
    "    global x\n",
    "    x_locking.acquire()\n",
    "    print(\"foo2 -- блокировка установлена\")\n",
    "    sleep(random.random())\n",
    "    x = 1\n",
    "    x_locking.release()\n",
    "    print(\"foo2 -- блокировка снята\")\n",
    "    print(\"Foo2 exit\")\n",
    "\n",
    "th1 = Thread(target=foo1)\n",
    "th2 = Thread(target=foo2)\n",
    "\n",
    "th1.start()\n",
    "th2.start()\n",
    "\n",
    "th1.join()\n",
    "th2.join()"
   ],
   "metadata": {
    "collapsed": false,
    "pycharm": {
     "name": "#%%\n"
    }
   }
  },
  {
   "cell_type": "markdown",
   "source": [
    "## deadlock архитектурный"
   ],
   "metadata": {
    "collapsed": false,
    "pycharm": {
     "name": "#%% md\n"
    }
   }
  },
  {
   "cell_type": "code",
   "execution_count": 48,
   "outputs": [
    {
     "name": "stdout",
     "output_type": "stream",
     "text": [
      "foo1 -- блокировка установлена\n",
      "foo1 -- блокировка установлена 2\n"
     ]
    },
    {
     "ename": "KeyboardInterrupt",
     "evalue": "",
     "output_type": "error",
     "traceback": [
      "\u001B[0;31m---------------------------------------------------------------------------\u001B[0m",
      "\u001B[0;31mKeyboardInterrupt\u001B[0m                         Traceback (most recent call last)",
      "\u001B[0;32m/var/folders/g0/yt0m6mx534b6cl53216hwy940000gn/T/ipykernel_2999/3659324425.py\u001B[0m in \u001B[0;36m<module>\u001B[0;34m\u001B[0m\n\u001B[1;32m     35\u001B[0m \u001B[0mth2\u001B[0m\u001B[0;34m.\u001B[0m\u001B[0mstart\u001B[0m\u001B[0;34m(\u001B[0m\u001B[0;34m)\u001B[0m\u001B[0;34m\u001B[0m\u001B[0;34m\u001B[0m\u001B[0m\n\u001B[1;32m     36\u001B[0m \u001B[0;34m\u001B[0m\u001B[0m\n\u001B[0;32m---> 37\u001B[0;31m \u001B[0mth1\u001B[0m\u001B[0;34m.\u001B[0m\u001B[0mjoin\u001B[0m\u001B[0;34m(\u001B[0m\u001B[0;34m)\u001B[0m\u001B[0;34m\u001B[0m\u001B[0;34m\u001B[0m\u001B[0m\n\u001B[0m\u001B[1;32m     38\u001B[0m \u001B[0mth2\u001B[0m\u001B[0;34m.\u001B[0m\u001B[0mjoin\u001B[0m\u001B[0;34m(\u001B[0m\u001B[0;34m)\u001B[0m\u001B[0;34m\u001B[0m\u001B[0;34m\u001B[0m\u001B[0m\n",
      "\u001B[0;32m~/miniconda3/envs/Python_Lections_MSU/lib/python3.8/threading.py\u001B[0m in \u001B[0;36mjoin\u001B[0;34m(self, timeout)\u001B[0m\n\u001B[1;32m   1009\u001B[0m \u001B[0;34m\u001B[0m\u001B[0m\n\u001B[1;32m   1010\u001B[0m         \u001B[0;32mif\u001B[0m \u001B[0mtimeout\u001B[0m \u001B[0;32mis\u001B[0m \u001B[0;32mNone\u001B[0m\u001B[0;34m:\u001B[0m\u001B[0;34m\u001B[0m\u001B[0;34m\u001B[0m\u001B[0m\n\u001B[0;32m-> 1011\u001B[0;31m             \u001B[0mself\u001B[0m\u001B[0;34m.\u001B[0m\u001B[0m_wait_for_tstate_lock\u001B[0m\u001B[0;34m(\u001B[0m\u001B[0;34m)\u001B[0m\u001B[0;34m\u001B[0m\u001B[0;34m\u001B[0m\u001B[0m\n\u001B[0m\u001B[1;32m   1012\u001B[0m         \u001B[0;32melse\u001B[0m\u001B[0;34m:\u001B[0m\u001B[0;34m\u001B[0m\u001B[0;34m\u001B[0m\u001B[0m\n\u001B[1;32m   1013\u001B[0m             \u001B[0;31m# the behavior of a negative timeout isn't documented, but\u001B[0m\u001B[0;34m\u001B[0m\u001B[0;34m\u001B[0m\u001B[0;34m\u001B[0m\u001B[0m\n",
      "\u001B[0;32m~/miniconda3/envs/Python_Lections_MSU/lib/python3.8/threading.py\u001B[0m in \u001B[0;36m_wait_for_tstate_lock\u001B[0;34m(self, block, timeout)\u001B[0m\n\u001B[1;32m   1025\u001B[0m         \u001B[0;32mif\u001B[0m \u001B[0mlock\u001B[0m \u001B[0;32mis\u001B[0m \u001B[0;32mNone\u001B[0m\u001B[0;34m:\u001B[0m  \u001B[0;31m# already determined that the C code is done\u001B[0m\u001B[0;34m\u001B[0m\u001B[0;34m\u001B[0m\u001B[0m\n\u001B[1;32m   1026\u001B[0m             \u001B[0;32massert\u001B[0m \u001B[0mself\u001B[0m\u001B[0;34m.\u001B[0m\u001B[0m_is_stopped\u001B[0m\u001B[0;34m\u001B[0m\u001B[0;34m\u001B[0m\u001B[0m\n\u001B[0;32m-> 1027\u001B[0;31m         \u001B[0;32melif\u001B[0m \u001B[0mlock\u001B[0m\u001B[0;34m.\u001B[0m\u001B[0macquire\u001B[0m\u001B[0;34m(\u001B[0m\u001B[0mblock\u001B[0m\u001B[0;34m,\u001B[0m \u001B[0mtimeout\u001B[0m\u001B[0;34m)\u001B[0m\u001B[0;34m:\u001B[0m\u001B[0;34m\u001B[0m\u001B[0;34m\u001B[0m\u001B[0m\n\u001B[0m\u001B[1;32m   1028\u001B[0m             \u001B[0mlock\u001B[0m\u001B[0;34m.\u001B[0m\u001B[0mrelease\u001B[0m\u001B[0;34m(\u001B[0m\u001B[0;34m)\u001B[0m\u001B[0;34m\u001B[0m\u001B[0;34m\u001B[0m\u001B[0m\n\u001B[1;32m   1029\u001B[0m             \u001B[0mself\u001B[0m\u001B[0;34m.\u001B[0m\u001B[0m_stop\u001B[0m\u001B[0;34m(\u001B[0m\u001B[0;34m)\u001B[0m\u001B[0;34m\u001B[0m\u001B[0;34m\u001B[0m\u001B[0m\n",
      "\u001B[0;31mKeyboardInterrupt\u001B[0m: "
     ]
    }
   ],
   "source": [
    "import random\n",
    "from time import sleep\n",
    "import threading\n",
    "x = 5\n",
    "x_locking = threading.Lock()\n",
    "def foo1(a=10):\n",
    "    global x\n",
    "    x_locking.acquire()\n",
    "    print(\"foo1 -- блокировка установлена\")\n",
    "    sleep(random.random())\n",
    "    print(\"foo1 -- блокировка установлена 2\")\n",
    "    x_locking.acquire()\n",
    "    if x == 5:\n",
    "        print(\"x == 5\")\n",
    "    else:\n",
    "        print(\"x not == 5\")\n",
    "    x_locking.release()\n",
    "    print(\"foo1 -- блокировка снята\")\n",
    "    print(\"Foo1 exit\")\n",
    "\n",
    "def foo2(a=10):\n",
    "    global x\n",
    "    x_locking.acquire()\n",
    "    print(\"foo2 -- блокировка установлена\")\n",
    "    sleep(random.random())\n",
    "    x = 1\n",
    "    x_locking.release()\n",
    "    print(\"foo2 -- блокировка снята\")\n",
    "    print(\"Foo2 exit\")\n",
    "\n",
    "th1 = Thread(target=foo1)\n",
    "th2 = Thread(target=foo2)\n",
    "\n",
    "th1.start()\n",
    "th2.start()\n",
    "\n",
    "th1.join()\n",
    "th2.join()"
   ],
   "metadata": {
    "collapsed": false,
    "pycharm": {
     "name": "#%%\n"
    }
   }
  },
  {
   "cell_type": "markdown",
   "source": [
    "### Решение"
   ],
   "metadata": {
    "collapsed": false,
    "pycharm": {
     "name": "#%% md\n"
    }
   }
  },
  {
   "cell_type": "markdown",
   "source": [
    "Используем Rlock. Rlock -- блокирует поток, только если заблокирован был другим потоком"
   ],
   "metadata": {
    "collapsed": false
   }
  },
  {
   "cell_type": "code",
   "execution_count": 49,
   "outputs": [
    {
     "name": "stdout",
     "output_type": "stream",
     "text": [
      "foo1 -- блокировка установлена\n",
      "foo1 -- блокировка установлена 2\n",
      "x == 5\n",
      "foo1 -- блокировка снята\n",
      "Foo1 exit\n",
      "foo2 -- блокировка установлена\n",
      "foo2 -- блокировка снята\n",
      "Foo2 exit\n"
     ]
    }
   ],
   "source": [
    "import random\n",
    "from time import sleep\n",
    "import threading\n",
    "x = 5\n",
    "x_locking = threading.RLock()\n",
    "def foo1(a=10):\n",
    "    global x\n",
    "    x_locking.acquire()\n",
    "    print(\"foo1 -- блокировка установлена\")\n",
    "    sleep(random.random())\n",
    "    print(\"foo1 -- блокировка установлена 2\")\n",
    "    x_locking.acquire()\n",
    "    if x == 5:\n",
    "        print(\"x == 5\")\n",
    "    else:\n",
    "        print(\"x not == 5\")\n",
    "    x_locking.release()\n",
    "    x_locking.release()\n",
    "    print(\"foo1 -- блокировка снята\")\n",
    "    print(\"Foo1 exit\")\n",
    "\n",
    "def foo2(a=10):\n",
    "    global x\n",
    "    x_locking.acquire()\n",
    "    print(\"foo2 -- блокировка установлена\")\n",
    "    sleep(random.random())\n",
    "    x = 1\n",
    "    x_locking.release()\n",
    "    print(\"foo2 -- блокировка снята\")\n",
    "    print(\"Foo2 exit\")\n",
    "\n",
    "th1 = Thread(target=foo1)\n",
    "th2 = Thread(target=foo2)\n",
    "\n",
    "th1.start()\n",
    "th2.start()\n",
    "\n",
    "th1.join()\n",
    "th2.join()"
   ],
   "metadata": {
    "collapsed": false,
    "pycharm": {
     "name": "#%%\n"
    }
   }
  },
  {
   "cell_type": "code",
   "execution_count": 52,
   "outputs": [
    {
     "name": "stdout",
     "output_type": "stream",
     "text": [
      "Проверяющий 2 начал    проверять студента Андрей\n",
      "Проверяющий 1 начал    проверять студента Александр\n",
      "Проверяющий 1 закончил проверять студента Александр\n",
      "Проверяющий 1 начал    проверять студента Никита\n",
      "Проверяющий 2 закончил проверять студента Андрей\n",
      "Проверяющий 2 начал    проверять студента Евгений\n",
      "Проверяющий 1 закончил проверять студента Никита\n",
      "Проверяющий 2 закончил проверять студента Евгений\n",
      "Проверяющий 2 начал    проверять студента Алексей\n",
      "Проверяющий 1 начал    проверять студента Сергей\n",
      "Проверяющий 2 закончил проверять студента Алексей\n",
      "Проверяющий 2 начал    проверять студента Михаил\n",
      "Проверяющий 1 закончил проверять студента Сергей\n",
      "Проверяющий 2 закончил проверять студента Михаил\n"
     ]
    }
   ],
   "source": [
    "from time import sleep\n",
    "from threading import Thread\n",
    "num_of_stud = 0\n",
    "lock = threading.Lock()\n",
    "\n",
    "def foo(studs):\n",
    "    while True:\n",
    "        name = threading.currentThread().name\n",
    "        with lock:\n",
    "            global num_of_stud\n",
    "            if num_of_stud >= len(studs):\n",
    "                break\n",
    "            current_stud = studs[num_of_stud]\n",
    "            num_of_stud += 1\n",
    "\n",
    "        print(f\"{name} начал    проверять студента {current_stud[1]}\")\n",
    "        sleep(current_stud[0] / 30)\n",
    "        print(f\"{name} закончил проверять студента {current_stud[1]}\")\n",
    "\n",
    "students= [(99, \"Андрей\"),\n",
    "           (76, \"Александр\"),\n",
    "           (75, \"Никита\"),\n",
    "           (72, \"Евгений\"),\n",
    "           (66, \"Алексей\"),\n",
    "           (62, \"Сергей\"),\n",
    "           (50, \"Михаил\")]\n",
    "\n",
    "teacher1 = Thread(target=foo, args=(students,), name=\"Проверяющий 1\")\n",
    "teacher2 = Thread(target=foo, args=(students,), name=\"Проверяющий 2\")\n",
    "\n",
    "teacher1.start()\n",
    "teacher2.start()\n",
    "\n",
    "teacher1.join()\n",
    "teacher2.join()\n"
   ],
   "metadata": {
    "collapsed": false,
    "pycharm": {
     "name": "#%%\n"
    }
   }
  },
  {
   "cell_type": "markdown",
   "source": [
    "# Многопроцессность"
   ],
   "metadata": {
    "collapsed": false,
    "pycharm": {
     "name": "#%% md\n"
    }
   }
  },
  {
   "cell_type": "markdown",
   "source": [
    "В отличии от многопоточности действительно параллельна.\n",
    "\n",
    "Создаются новые экземпляры программы и выполняются какие-то действия"
   ],
   "metadata": {
    "collapsed": false
   }
  },
  {
   "cell_type": "code",
   "execution_count": 53,
   "outputs": [],
   "source": [
    "import multiprocessing"
   ],
   "metadata": {
    "collapsed": false,
    "pycharm": {
     "name": "#%%\n"
    }
   }
  },
  {
   "cell_type": "code",
   "execution_count": 54,
   "outputs": [
    {
     "data": {
      "text/plain": "10"
     },
     "execution_count": 54,
     "metadata": {},
     "output_type": "execute_result"
    }
   ],
   "source": [
    "multiprocessing.cpu_count()"
   ],
   "metadata": {
    "collapsed": false,
    "pycharm": {
     "name": "#%%\n"
    }
   }
  },
  {
   "cell_type": "code",
   "execution_count": 64,
   "outputs": [
    {
     "name": "stdout",
     "output_type": "stream",
     "text": [
      "Overwriting worker.py\n"
     ]
    }
   ],
   "source": [
    "%%writefile worker.py\n",
    "def f(x):\n",
    "    a = 10\n",
    "    for i in range(x):\n",
    "        a += a ** i // 2\n",
    "    return a\n"
   ],
   "metadata": {
    "collapsed": false,
    "pycharm": {
     "name": "#%%\n"
    }
   }
  },
  {
   "cell_type": "code",
   "execution_count": 65,
   "outputs": [
    {
     "name": "stdout",
     "output_type": "stream",
     "text": [
      "[10, 10, 15, 127, 1024318]\n",
      "CPU times: user 4.13 ms, sys: 19.4 ms, total: 23.6 ms\n",
      "Wall time: 37.4 ms\n"
     ]
    }
   ],
   "source": [
    "%%time\n",
    "from multiprocessing import Pool\n",
    "from worker import f\n",
    "\n",
    "if __name__ == '__main__':\n",
    "    with Pool(6) as p:\n",
    "        print(p.map(f, list(range(5))))"
   ],
   "metadata": {
    "collapsed": false,
    "pycharm": {
     "name": "#%%\n"
    }
   }
  },
  {
   "cell_type": "code",
   "execution_count": 66,
   "outputs": [
    {
     "data": {
      "text/plain": "<module 'worker' from '/Users/artem/Documents/Chillers_Lections/Python_MSU/course-python/lectures/Lection_9_multithread/worker.py'>"
     },
     "execution_count": 66,
     "metadata": {},
     "output_type": "execute_result"
    }
   ],
   "source": [
    "from imp import reload\n",
    "import worker\n",
    "reload(worker)"
   ],
   "metadata": {
    "collapsed": false,
    "pycharm": {
     "name": "#%%\n"
    }
   }
  },
  {
   "cell_type": "code",
   "execution_count": 69,
   "outputs": [
    {
     "name": "stdout",
     "output_type": "stream",
     "text": [
      "CPU times: user 6 µs, sys: 0 ns, total: 6 µs\n",
      "Wall time: 7.87 µs\n"
     ]
    }
   ],
   "source": [
    "%%time\n",
    "\n",
    "result = []\n",
    "for i in range(5):\n",
    "    result.append(worker.f(i))"
   ],
   "metadata": {
    "collapsed": false,
    "pycharm": {
     "name": "#%%\n"
    }
   }
  },
  {
   "cell_type": "code",
   "execution_count": null,
   "outputs": [],
   "source": [
    "result"
   ],
   "metadata": {
    "collapsed": false,
    "pycharm": {
     "name": "#%%\n"
    }
   }
  },
  {
   "cell_type": "code",
   "execution_count": 1,
   "outputs": [
    {
     "name": "stdout",
     "output_type": "stream",
     "text": [
      "Overwriting test1.py\n"
     ]
    }
   ],
   "source": [
    "%%writefile test1.py\n",
    "import os\n",
    "\n",
    "def info(title):\n",
    "    print(title)\n",
    "    print('module name:', __name__)\n",
    "    print('parent process:', os.getppid())\n",
    "    print('process id:', os.getpid())\n",
    "\n",
    "def f(name):\n",
    "    info('function f')\n",
    "    print('hello', name)\n"
   ],
   "metadata": {
    "collapsed": false,
    "pycharm": {
     "name": "#%%\n"
    }
   }
  },
  {
   "cell_type": "code",
   "execution_count": 2,
   "outputs": [
    {
     "name": "stdout",
     "output_type": "stream",
     "text": [
      "main line\n",
      "module name: test1\n",
      "parent process: 1830\n",
      "process id: 56773\n",
      "function f\n",
      "module name: test1\n",
      "parent process: 56773\n",
      "process id: 57148\n",
      "hello bob\n"
     ]
    }
   ],
   "source": [
    "from multiprocessing import Process\n",
    "import test1\n",
    "\n",
    "test1.info('main line')\n",
    "p = Process(target=test1.f, args=('bob',))\n",
    "p.start()\n",
    "p.join()"
   ],
   "metadata": {
    "collapsed": false,
    "pycharm": {
     "name": "#%%\n"
    }
   }
  },
  {
   "cell_type": "markdown",
   "source": [
    "## Средства межпроцессного взаимодействия"
   ],
   "metadata": {
    "collapsed": false
   }
  },
  {
   "cell_type": "markdown",
   "source": [
    "### Очереди"
   ],
   "metadata": {
    "collapsed": false
   }
  },
  {
   "cell_type": "code",
   "execution_count": 7,
   "outputs": [
    {
     "name": "stdout",
     "output_type": "stream",
     "text": [
      "Overwriting queue_test.py\n"
     ]
    }
   ],
   "source": [
    "%%writefile queue_test.py\n",
    "from time import sleep\n",
    "def f(q):\n",
    "    sleep(1)\n",
    "    q.put([42, None, 'hello'])\n",
    "    sleep(1)\n",
    "    q.put([21, None, 'hell'])"
   ],
   "metadata": {
    "collapsed": false,
    "pycharm": {
     "name": "#%%\n"
    }
   }
  },
  {
   "cell_type": "code",
   "execution_count": 9,
   "outputs": [
    {
     "name": "stdout",
     "output_type": "stream",
     "text": [
      "[42, None, 'hello']\n",
      "[21, None, 'hell']\n"
     ]
    }
   ],
   "source": [
    "from multiprocessing import Process, Queue\n",
    "import queue_test\n",
    "\n",
    "if __name__ == '__main__':\n",
    "    q = Queue()\n",
    "    p = Process(target=queue_test.f, args=(q,))\n",
    "    p.start()\n",
    "    print(q.get())    # распечатает \"[42, None, 'hello']\"\n",
    "    print(q.get())\n",
    "    p.join()"
   ],
   "metadata": {
    "collapsed": false,
    "pycharm": {
     "name": "#%%\n"
    }
   }
  },
  {
   "cell_type": "markdown",
   "source": [
    "### Конвейеры"
   ],
   "metadata": {
    "collapsed": false,
    "pycharm": {
     "name": "#%% md\n"
    }
   }
  },
  {
   "cell_type": "code",
   "execution_count": 12,
   "outputs": [
    {
     "name": "stdout",
     "output_type": "stream",
     "text": [
      "Overwriting pipe_test.py\n"
     ]
    }
   ],
   "source": [
    "%%writefile pipe_test.py\n",
    "from time import sleep\n",
    "def f(conn):\n",
    "    sleep(1)\n",
    "    conn.send([42, None, 'hello'])\n",
    "    sleep(1)\n",
    "    print(conn.recv())\n",
    "    conn.close()"
   ],
   "metadata": {
    "collapsed": false,
    "pycharm": {
     "name": "#%%\n"
    }
   }
  },
  {
   "cell_type": "code",
   "execution_count": 13,
   "outputs": [
    {
     "name": "stdout",
     "output_type": "stream",
     "text": [
      "[42, None, 'hello']\n",
      "[21, 'hell']\n"
     ]
    }
   ],
   "source": [
    "from multiprocessing import Process, Pipe\n",
    "import pipe_test\n",
    "\n",
    "if __name__ == '__main__':\n",
    "    parent_conn, child_conn = Pipe()\n",
    "    p = Process(target=pipe_test.f, args=(child_conn,))\n",
    "    p.start()\n",
    "    print(parent_conn.recv())\n",
    "    parent_conn.send([21, 'hell'])\n",
    "    p.join()"
   ],
   "metadata": {
    "collapsed": false,
    "pycharm": {
     "name": "#%%\n"
    }
   }
  },
  {
   "cell_type": "markdown",
   "source": [
    "## Средства синхронизации\n",
    "\n",
    "Такие же как и в threading"
   ],
   "metadata": {
    "collapsed": false,
    "pycharm": {
     "name": "#%% md\n"
    }
   }
  },
  {
   "cell_type": "code",
   "execution_count": 17,
   "outputs": [
    {
     "name": "stdout",
     "output_type": "stream",
     "text": [
      "Overwriting lock_test.py\n"
     ]
    }
   ],
   "source": [
    "%%writefile lock_test.py\n",
    "import time\n",
    "import random\n",
    "def f(l, i):\n",
    "    # l.acquire()\n",
    "    # try:\n",
    "        print('hello world', i)\n",
    "        time.sleep(random.random())\n",
    "    # finally:\n",
    "    #     l.release()"
   ],
   "metadata": {
    "collapsed": false,
    "pycharm": {
     "name": "#%%\n"
    }
   }
  },
  {
   "cell_type": "code",
   "execution_count": 18,
   "outputs": [
    {
     "name": "stdout",
     "output_type": "stream",
     "text": [
      "hello world 1\n",
      "hello world 8\n",
      "hello world 3\n",
      "hello world 0\n",
      "hello world 5\n",
      "hello world 9\n",
      "hello world 2\n",
      "hello world 7\n",
      "hello world 6\n",
      "hello world 4\n"
     ]
    }
   ],
   "source": [
    "from multiprocessing import Process, Lock\n",
    "import lock_test\n",
    "from imp import reload\n",
    "reload(lock_test)\n",
    "\n",
    "lock = Lock()\n",
    "\n",
    "proc = []\n",
    "for num in range(10):\n",
    "    proc.append(Process(target=lock_test.f, args=(lock, num)))\n",
    "\n",
    "for p in proc:\n",
    "    p.start()\n",
    "\n",
    "for p in proc:\n",
    "    p.join()\n"
   ],
   "metadata": {
    "collapsed": false,
    "pycharm": {
     "name": "#%%\n"
    }
   }
  },
  {
   "cell_type": "markdown",
   "source": [
    "## Пример"
   ],
   "metadata": {
    "collapsed": false
   }
  },
  {
   "cell_type": "code",
   "execution_count": null,
   "outputs": [],
   "source": [
    "%%writefile teacher.py\n",
    "from multiprocessing import current_process\n",
    "from time import sleep\n",
    "def foo(studs, result):\n",
    "    while True:\n",
    "        current_stud = studs.get()\n",
    "        name = current_process().name\n",
    "        result.put(f\"{name} начал    проверять студента {current_stud[1]}\")\n",
    "        sleep(current_stud[0] / 20)\n",
    "        result.put(f\"{name} закончил проверять студента {current_stud[1]}\")\n",
    "        if studs.empty():\n",
    "            break"
   ],
   "metadata": {
    "collapsed": false,
    "pycharm": {
     "name": "#%%\n"
    }
   }
  },
  {
   "cell_type": "code",
   "execution_count": 20,
   "outputs": [
    {
     "name": "stdout",
     "output_type": "stream",
     "text": [
      "Проверяющий 1 начал    проверять студента Андрей\n",
      "Проверяющий 2 начал    проверять студента Александр\n",
      "Проверяющий 2 закончил проверять студента Александр\n",
      "Проверяющий 2 начал    проверять студента Никита\n",
      "Проверяющий 1 закончил проверять студента Андрей\n",
      "Проверяющий 1 начал    проверять студента Евгений\n",
      "Проверяющий 2 закончил проверять студента Никита\n",
      "Проверяющий 2 начал    проверять студента Алексей\n",
      "Проверяющий 1 закончил проверять студента Евгений\n",
      "Проверяющий 1 начал    проверять студента Сергей\n",
      "Проверяющий 2 закончил проверять студента Алексей\n",
      "Проверяющий 2 начал    проверять студента Михаил\n",
      "Проверяющий 1 закончил проверять студента Сергей\n",
      "Проверяющий 2 закончил проверять студента Михаил\n"
     ]
    }
   ],
   "source": [
    "from time import sleep\n",
    "from multiprocessing import Process, Queue\n",
    "\n",
    "import teacher\n",
    "\n",
    "students= [(99, \"Андрей\"),\n",
    "           (76, \"Александр\"),\n",
    "           (75, \"Никита\"),\n",
    "           (72, \"Евгений\"),\n",
    "           (66, \"Алексей\"),\n",
    "           (62, \"Сергей\"),\n",
    "           (50, \"Михаил\")]\n",
    "\n",
    "q_stud = Queue()\n",
    "for i in students:\n",
    "    q_stud.put(i)\n",
    "\n",
    "result = Queue()\n",
    "teacher1 = Process(target=teacher.foo, args=(q_stud, result), name=\"Проверяющий 1\")\n",
    "# sleep(10)\n",
    "teacher2 = Process(target=teacher.foo, args=(q_stud, result), name=\"Проверяющий 2\")\n",
    "\n",
    "teacher1.start()\n",
    "teacher2.start()\n",
    "\n",
    "teacher1.join()\n",
    "teacher2.join()\n",
    "\n",
    "while not result.empty():\n",
    "    print(result.get())"
   ],
   "metadata": {
    "collapsed": false,
    "pycharm": {
     "name": "#%%\n"
    }
   }
  },
  {
   "cell_type": "markdown",
   "source": [],
   "metadata": {
    "collapsed": false,
    "pycharm": {
     "name": "#%% md\n"
    }
   }
  },
  {
   "cell_type": "markdown",
   "source": [
    "# Рекомендуемая литература:\n",
    "- Современные операционные системы | Таненбаум Эндрю, Бос Х.\n"
   ],
   "metadata": {
    "collapsed": false
   }
  },
  {
   "cell_type": "markdown",
   "source": [
    "# Вопросы для самостоятельного изучения:\n",
    "\n",
    "- Различные средства синхронизации потоков/процессов\n",
    "- Средства межпроцессного взаимодействия\n",
    "- Устройство потоков и процессов в Unix\n"
   ],
   "metadata": {
    "collapsed": false
   }
  },
  {
   "cell_type": "markdown",
   "source": [
    "# Вопросы к зачету"
   ],
   "metadata": {
    "collapsed": false
   }
  },
  {
   "cell_type": "markdown",
   "source": [
    "- Чем отличается поток и процесс в Python, когда лучше использовать тот или иной подход?\n",
    "- Какие средства межпроцессного взаимодействия Вы занаете?\n",
    "- Примитивы синхронизации\n",
    "- Зачем нужна синхронизация?\n",
    "- Что такое race condition и deadlock. Как бороться?"
   ],
   "metadata": {
    "collapsed": false,
    "pycharm": {
     "name": "#%% md\n"
    }
   }
  }
 ],
 "metadata": {
  "kernelspec": {
   "display_name": "Python 3",
   "language": "python",
   "name": "python3"
  },
  "language_info": {
   "codemirror_mode": {
    "name": "ipython",
    "version": 2
   },
   "file_extension": ".py",
   "mimetype": "text/x-python",
   "name": "python",
   "nbconvert_exporter": "python",
   "pygments_lexer": "ipython2",
   "version": "2.7.6"
  }
 },
 "nbformat": 4,
 "nbformat_minor": 0
}
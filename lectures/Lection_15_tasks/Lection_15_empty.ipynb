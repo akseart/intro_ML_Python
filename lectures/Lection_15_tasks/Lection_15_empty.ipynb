{
 "cells": [
  {
   "cell_type": "markdown",
   "id": "e1c02ece",
   "metadata": {},
   "source": [
    "# Введение в методы анализа данных. Язык Python."
   ]
  },
  {
   "cell_type": "markdown",
   "source": [
    "## Дополнительно занятие 15\n",
    "\n",
    "<br><br><br><br>\n",
    "__Аксентьев Артем (akseart@ya.ru)__\n",
    "\n",
    "__Ксемидов Борис (nstalker.anonim@yandex.ru)__\n",
    "<br>"
   ],
   "metadata": {
    "collapsed": false,
    "pycharm": {
     "name": "#%% md\n"
    }
   }
  },
  {
   "cell_type": "markdown",
   "source": [
    "# Задача 1. Односвязный список\n",
    "\n",
    "1. Добавление в начало\n",
    "2. Добавление в конец\n",
    "3. Удаление из начала\n",
    "4. Удаление из конца\n",
    "5. Поиск элемента по значению"
   ],
   "metadata": {
    "collapsed": false,
    "pycharm": {
     "name": "#%% md\n"
    }
   }
  },
  {
   "cell_type": "markdown",
   "source": [
    "<img src=\"ols.png\" width=\"800\"/>"
   ],
   "metadata": {
    "collapsed": false
   }
  },
  {
   "cell_type": "markdown",
   "source": [
    "# Задача 2. Очередь с приоритетом\n",
    "Очередь, которая сортирует элементы по заданному приоритету и всегда возвращает элемент с наивысшим приоритетом при каждой операции получения элемента."
   ],
   "metadata": {
    "collapsed": false,
    "pycharm": {
     "name": "#%% md\n"
    }
   }
  },
  {
   "cell_type": "markdown",
   "source": [
    "# Задача 3. Скобочные последовательности\n",
    "\n",
    "Дана строка, состоящая из скобок. Необходимо разбить её на максимальное количество строк сбалансированных по скобкам.\n",
    "\n",
    "Сбалансированность в данном случае означает, что количество открытых и закрытых скобок в строке равно.\n",
    "\n",
    "\"()(())((()))\" -> (\"()\", \"(())\", \"((()))\")"
   ],
   "metadata": {
    "collapsed": false
   }
  },
  {
   "cell_type": "markdown",
   "source": [
    "# Задача 4. Вычислить число $\\pi$\n",
    "\n",
    "Ряд Лейбница:\n",
    "$\\frac{1}{1}-{\\frac  {1}{3}}+{\\frac  {1}{5}}-{\\frac  {1}{7}}+{\\frac  {1}{9}}-{\\frac  {1}{11}}+{\\frac  {1}{13}}-{\\frac  {1}{15}}+{\\frac  {1}{17}}-{\\frac  {1}{19}}+{\\frac  {1}{21}}-\\cdots  = \\frac{\\pi}{4}$"
   ],
   "metadata": {
    "collapsed": false,
    "pycharm": {
     "name": "#%% md\n"
    }
   }
  }
 ],
 "metadata": {
  "kernelspec": {
   "display_name": "Python 3",
   "language": "python",
   "name": "python3"
  },
  "language_info": {
   "codemirror_mode": {
    "name": "ipython",
    "version": 3
   },
   "file_extension": ".py",
   "mimetype": "text/x-python",
   "name": "python",
   "nbconvert_exporter": "python",
   "pygments_lexer": "ipython3",
   "version": "3.8.8"
  },
  "toc": {
   "base_numbering": 1,
   "nav_menu": {},
   "number_sections": true,
   "sideBar": true,
   "skip_h1_title": false,
   "title_cell": "Table of Contents",
   "title_sidebar": "Contents",
   "toc_cell": false,
   "toc_position": {},
   "toc_section_display": true,
   "toc_window_display": false
  }
 },
 "nbformat": 4,
 "nbformat_minor": 5
}
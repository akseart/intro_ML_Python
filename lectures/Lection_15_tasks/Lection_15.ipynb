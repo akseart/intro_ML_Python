{
 "cells": [
  {
   "cell_type": "markdown",
   "id": "e1c02ece",
   "metadata": {},
   "source": [
    "# Введение в методы анализа данных. Язык Python."
   ]
  },
  {
   "cell_type": "markdown",
   "source": [
    "## Дополнительно занятие 15\n",
    "\n",
    "<br><br><br><br>\n",
    "__Аксентьев Артем (akseart@ya.ru)__\n",
    "\n",
    "__Ксемидов Борис (nstalker.anonim@yandex.ru)__\n",
    "<br>"
   ],
   "metadata": {
    "collapsed": false,
    "pycharm": {
     "name": "#%% md\n"
    }
   }
  },
  {
   "cell_type": "markdown",
   "source": [
    "# Задача 1. Односвязный список\n",
    "\n",
    "1. Добавление в начало\n",
    "2. Добавление в конец\n",
    "3. Удаление из начала\n",
    "4. Удаление из конца\n",
    "5. Поиск элемента по значению"
   ],
   "metadata": {
    "collapsed": false,
    "pycharm": {
     "name": "#%% md\n"
    }
   }
  },
  {
   "cell_type": "markdown",
   "source": [
    "<img src=\"ols.png\" width=\"800\"/>"
   ],
   "metadata": {
    "collapsed": false
   }
  },
  {
   "cell_type": "code",
   "execution_count": 104,
   "outputs": [],
   "source": [
    "class Node:\n",
    "    def __init__(self, data):\n",
    "        self.data = data\n",
    "        self.nextNode = None\n",
    "\n",
    "    def __repr__(self):\n",
    "        return f\"{self.data}, {id(self.nextNode)}\"\n",
    "\n",
    "class LinkedList:\n",
    "    def __init__(self, data):\n",
    "        self.head = Node(data)\n",
    "\n",
    "    def add_to_start(self, data):\n",
    "        new_head = Node(data)\n",
    "        new_head.nextNode = self.head\n",
    "        self.head = new_head\n",
    "\n",
    "    def del_start(self):\n",
    "        head = self.head\n",
    "        self.head = self.head.nextNode\n",
    "        del head\n",
    "\n",
    "    def add_to_end(self, data):\n",
    "        item = self.head\n",
    "        if self.head is None:\n",
    "            self.add_to_start(data)\n",
    "            return\n",
    "        while item.nextNode is not None:\n",
    "            item = item.nextNode\n",
    "        item.nextNode = Node(data)\n",
    "\n",
    "    def del_end(self):\n",
    "        if self.head is None:\n",
    "            raise KeyError(\"Удалять нечего\")\n",
    "        item = self.head\n",
    "        if item.nextNode is None:\n",
    "            self.head = None\n",
    "            return\n",
    "        while item.nextNode.nextNode is not None:\n",
    "            item = item.nextNode\n",
    "        item.nextNode = None\n",
    "\n",
    "    def find_element(self, data):\n",
    "        item = self.head\n",
    "        while item is not None:\n",
    "            if item.data == data:\n",
    "                return item\n",
    "            item = item.nextNode\n",
    "        return None\n",
    "\n",
    "    def __repr__(self):\n",
    "        res = \"\"\n",
    "        item = self.head\n",
    "        while item is not None:\n",
    "            res += str(item.data) + \" \"\n",
    "            item = item.nextNode\n",
    "        return res"
   ],
   "metadata": {
    "collapsed": false,
    "pycharm": {
     "name": "#%%\n"
    }
   }
  },
  {
   "cell_type": "code",
   "execution_count": 105,
   "outputs": [
    {
     "data": {
      "text/plain": "2 "
     },
     "execution_count": 105,
     "metadata": {},
     "output_type": "execute_result"
    }
   ],
   "source": [
    "my_list = LinkedList(2)\n",
    "my_list"
   ],
   "metadata": {
    "collapsed": false,
    "pycharm": {
     "name": "#%%\n"
    }
   }
  },
  {
   "cell_type": "code",
   "execution_count": 106,
   "outputs": [
    {
     "data": {
      "text/plain": "10 2 "
     },
     "execution_count": 106,
     "metadata": {},
     "output_type": "execute_result"
    }
   ],
   "source": [
    "my_list.add_to_start(10)\n",
    "my_list"
   ],
   "metadata": {
    "collapsed": false,
    "pycharm": {
     "name": "#%%\n"
    }
   }
  },
  {
   "cell_type": "code",
   "execution_count": 116,
   "outputs": [],
   "source": [
    "my_list.add_to_start(0)"
   ],
   "metadata": {
    "collapsed": false,
    "pycharm": {
     "name": "#%%\n"
    }
   }
  },
  {
   "cell_type": "code",
   "execution_count": 117,
   "outputs": [
    {
     "data": {
      "text/plain": "0 "
     },
     "execution_count": 117,
     "metadata": {},
     "output_type": "execute_result"
    }
   ],
   "source": [
    "my_list"
   ],
   "metadata": {
    "collapsed": false,
    "pycharm": {
     "name": "#%%\n"
    }
   }
  },
  {
   "cell_type": "code",
   "execution_count": 86,
   "outputs": [
    {
     "data": {
      "text/plain": "2, 4943494112"
     },
     "execution_count": 86,
     "metadata": {},
     "output_type": "execute_result"
    }
   ],
   "source": [
    "my_list.find_element(2)"
   ],
   "metadata": {
    "collapsed": false,
    "pycharm": {
     "name": "#%%\n"
    }
   }
  },
  {
   "cell_type": "code",
   "execution_count": 118,
   "outputs": [],
   "source": [
    "my_list.del_end()"
   ],
   "metadata": {
    "collapsed": false,
    "pycharm": {
     "name": "#%%\n"
    }
   }
  },
  {
   "cell_type": "code",
   "execution_count": 92,
   "outputs": [
    {
     "data": {
      "text/plain": ""
     },
     "execution_count": 92,
     "metadata": {},
     "output_type": "execute_result"
    }
   ],
   "source": [
    "my_list"
   ],
   "metadata": {
    "collapsed": false,
    "pycharm": {
     "name": "#%%\n"
    }
   }
  },
  {
   "cell_type": "markdown",
   "source": [
    "# Задача 2. Очередь с приоритетом\n",
    "Очередь, которая сортирует элементы по заданному приоритету и всегда возвращает элемент с наивысшим приоритетом при каждой операции получения элемента."
   ],
   "metadata": {
    "collapsed": false,
    "pycharm": {
     "name": "#%% md\n"
    }
   }
  },
  {
   "cell_type": "code",
   "execution_count": 163,
   "outputs": [],
   "source": [
    "class PriorityQueue:\n",
    "    def __init__(self):\n",
    "        self._data = {}\n",
    "        self._priority = set()\n",
    "\n",
    "    def push(self, priority, data):\n",
    "        if priority in self._data.keys():\n",
    "            self._data[priority].append(data)\n",
    "        else:\n",
    "            self._data[priority] = [data, ]\n",
    "        self._priority.add(priority)\n",
    "\n",
    "    def pop(self):\n",
    "        if not self._priority:\n",
    "            return None\n",
    "        priority = sorted(self._priority)\n",
    "        res = self._data[priority[0]].pop(0)\n",
    "        if not self._data[priority[0]]:\n",
    "            self._priority.remove(priority[0])\n",
    "\n",
    "        return res\n",
    "\n",
    "    def __repr__(self):\n",
    "        return str(self._data)\n",
    "\n"
   ],
   "metadata": {
    "collapsed": false,
    "pycharm": {
     "name": "#%%\n"
    }
   }
  },
  {
   "cell_type": "code",
   "execution_count": 164,
   "outputs": [],
   "source": [
    "queue = PriorityQueue()\n",
    "queue.push(10, \"Обычный пациент\")\n",
    "queue.push(1, \"Пациент без талона\")\n",
    "queue.push(1, \"Пациент без талона и опоздавший\")\n",
    "queue.push(20, 'Пациент \"Я только спросить\"')"
   ],
   "metadata": {
    "collapsed": false,
    "pycharm": {
     "name": "#%%\n"
    }
   }
  },
  {
   "cell_type": "code",
   "execution_count": 165,
   "outputs": [
    {
     "data": {
      "text/plain": "{10: ['Обычный пациент'], 1: ['Пациент без талона', 'Пациент без талона и опоздавший'], 20: ['Пациент \"Я только спросить\"']}"
     },
     "execution_count": 165,
     "metadata": {},
     "output_type": "execute_result"
    }
   ],
   "source": [
    "queue"
   ],
   "metadata": {
    "collapsed": false,
    "pycharm": {
     "name": "#%%\n"
    }
   }
  },
  {
   "cell_type": "code",
   "execution_count": 169,
   "outputs": [
    {
     "data": {
      "text/plain": "'Пациент \"Я только спросить\"'"
     },
     "execution_count": 169,
     "metadata": {},
     "output_type": "execute_result"
    }
   ],
   "source": [
    "queue.pop()"
   ],
   "metadata": {
    "collapsed": false,
    "pycharm": {
     "name": "#%%\n"
    }
   }
  },
  {
   "cell_type": "markdown",
   "source": [
    "# Задача 3. Скобочные последовательности\n",
    "\n",
    "Дана строка, состоящая из скобок. Необходимо разбить её на максимальное количество строк сбалансированных по скобкам.\n",
    "\n",
    "Сбалансированность в данном случае означает, что количество открытых и закрытых скобок в строке равно.\n",
    "\n",
    "\"()(())((()))\" -> (\"()\", \"(())\", \"((()))\")"
   ],
   "metadata": {
    "collapsed": false
   }
  },
  {
   "cell_type": "code",
   "execution_count": 175,
   "outputs": [
    {
     "data": {
      "text/plain": "[]"
     },
     "execution_count": 175,
     "metadata": {},
     "output_type": "execute_result"
    }
   ],
   "source": [
    "def get_balanced_string(text):\n",
    "    res = []\n",
    "    num_bracket = 0\n",
    "    start_pos = 0\n",
    "    for i, item in enumerate(text):\n",
    "        if item == '(':\n",
    "            num_bracket += 1\n",
    "        elif item == ')':\n",
    "            num_bracket -= 1\n",
    "            if num_bracket == 0:\n",
    "                res.append(text[start_pos:i+1])\n",
    "                start_pos = i + 1\n",
    "    return res\n",
    "\n",
    "get_balanced_string(\"()()(())((()))(((((())))))\")"
   ],
   "metadata": {
    "collapsed": false,
    "pycharm": {
     "name": "#%%\n"
    }
   }
  },
  {
   "cell_type": "markdown",
   "source": [
    "# Задача 4. Вычислить число $\\pi$\n",
    "\n",
    "Ряд Лейбница:\n",
    "$\\frac{1}{1}-{\\frac  {1}{3}}+{\\frac  {1}{5}}-{\\frac  {1}{7}}+{\\frac  {1}{9}}-{\\frac  {1}{11}}+{\\frac  {1}{13}}-{\\frac  {1}{15}}+{\\frac  {1}{17}}-{\\frac  {1}{19}}+{\\frac  {1}{21}}-\\cdots  = \\frac{\\pi}{4}$"
   ],
   "metadata": {
    "collapsed": false,
    "pycharm": {
     "name": "#%% md\n"
    }
   }
  },
  {
   "cell_type": "code",
   "execution_count": 176,
   "outputs": [
    {
     "data": {
      "text/plain": "3.141592653589793"
     },
     "execution_count": 176,
     "metadata": {},
     "output_type": "execute_result"
    }
   ],
   "source": [
    "import math\n",
    "math.pi"
   ],
   "metadata": {
    "collapsed": false,
    "pycharm": {
     "name": "#%%\n"
    }
   }
  },
  {
   "cell_type": "code",
   "execution_count": 197,
   "outputs": [
    {
     "data": {
      "text/plain": "0.4205477931907825"
     },
     "execution_count": 197,
     "metadata": {},
     "output_type": "execute_result"
    }
   ],
   "source": [
    "math.sin(10000000)"
   ],
   "metadata": {
    "collapsed": false,
    "pycharm": {
     "name": "#%%\n"
    }
   }
  },
  {
   "cell_type": "code",
   "execution_count": 183,
   "outputs": [
    {
     "data": {
      "text/plain": "3.017071817071818"
     },
     "execution_count": 183,
     "metadata": {},
     "output_type": "execute_result"
    }
   ],
   "source": [
    "(1 - 1/3+1/5-1/7+1/9-1/11+1/13-1/15)*4"
   ],
   "metadata": {
    "collapsed": false,
    "pycharm": {
     "name": "#%%\n"
    }
   }
  },
  {
   "cell_type": "code",
   "execution_count": 185,
   "outputs": [],
   "source": [
    "def calculate_pi(num_it):\n",
    "    res = 0\n",
    "    for i in range(num_it):\n",
    "        if i % 2 == 0:\n",
    "            res += 1/(2*i+1)\n",
    "        else:\n",
    "            res -= 1/(2*i+1)\n",
    "    return res * 4"
   ],
   "metadata": {
    "collapsed": false,
    "pycharm": {
     "name": "#%%\n"
    }
   }
  },
  {
   "cell_type": "code",
   "execution_count": 191,
   "outputs": [
    {
     "data": {
      "text/plain": "3.1415826535897198"
     },
     "execution_count": 191,
     "metadata": {},
     "output_type": "execute_result"
    }
   ],
   "source": [
    "res = calculate_pi(100000)\n",
    "res"
   ],
   "metadata": {
    "collapsed": false,
    "pycharm": {
     "name": "#%%\n"
    }
   }
  },
  {
   "cell_type": "code",
   "execution_count": 192,
   "outputs": [
    {
     "data": {
      "text/plain": "3.141592653589793"
     },
     "execution_count": 192,
     "metadata": {},
     "output_type": "execute_result"
    }
   ],
   "source": [
    "math.pi"
   ],
   "metadata": {
    "collapsed": false,
    "pycharm": {
     "name": "#%%\n"
    }
   }
  },
  {
   "cell_type": "code",
   "execution_count": 194,
   "outputs": [
    {
     "data": {
      "text/plain": "1.0000000073340232e-05"
     },
     "execution_count": 194,
     "metadata": {},
     "output_type": "execute_result"
    }
   ],
   "source": [
    "abs(res - math.pi)"
   ],
   "metadata": {
    "collapsed": false,
    "pycharm": {
     "name": "#%%\n"
    }
   }
  },
  {
   "cell_type": "code",
   "execution_count": null,
   "outputs": [],
   "source": [],
   "metadata": {
    "collapsed": false,
    "pycharm": {
     "name": "#%%\n"
    }
   }
  }
 ],
 "metadata": {
  "kernelspec": {
   "display_name": "Python 3",
   "language": "python",
   "name": "python3"
  },
  "language_info": {
   "codemirror_mode": {
    "name": "ipython",
    "version": 3
   },
   "file_extension": ".py",
   "mimetype": "text/x-python",
   "name": "python",
   "nbconvert_exporter": "python",
   "pygments_lexer": "ipython3",
   "version": "3.8.8"
  },
  "toc": {
   "base_numbering": 1,
   "nav_menu": {},
   "number_sections": true,
   "sideBar": true,
   "skip_h1_title": false,
   "title_cell": "Table of Contents",
   "title_sidebar": "Contents",
   "toc_cell": false,
   "toc_position": {},
   "toc_section_display": true,
   "toc_window_display": false
  }
 },
 "nbformat": 4,
 "nbformat_minor": 5
}
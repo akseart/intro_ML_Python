{
 "cells": [
  {
   "cell_type": "markdown",
   "source": [
    "# Введение в методы анализа данных. Язык Python."
   ],
   "metadata": {}
  },
  {
   "cell_type": "markdown",
   "source": [
    "## Лекция 1:  Обзор синтаксиса языка Python.  Процедурный подход к написанию программ.\n",
    "<br><br><br><br>\n",
    "__Аксентьев Артем (akseart@ya.ru)__\n",
    "\n",
    "__Ксемидов Борис (nstalker.anonim@yandex.ru)__\n",
    "<br>"
   ],
   "metadata": {}
  },
  {
   "cell_type": "markdown",
   "source": [
    "# Организационная часть"
   ],
   "metadata": {
    "collapsed": false
   }
  },
  {
   "cell_type": "markdown",
   "source": [
    " ## Какой минимум нужен для обучения:\n",
    " - Компьютер с доступом в интернет\n",
    " - Zoom, email, Google Colab"
   ],
   "metadata": {
    "collapsed": false
   }
  },
  {
   "cell_type": "markdown",
   "source": [
    "## Особенности курса:\n",
    "- Курс состоит из лекций и домашних заданий\n",
    "- Зачет проставляется по всем выполненным заданиям курса (Балльно-Рейтинговая система)\n",
    "- Продолжительность лекции как правило 3 часа"
   ],
   "metadata": {}
  },
  {
   "cell_type": "markdown",
   "source": [
    "# Основные теоретические вопросы"
   ],
   "metadata": {
    "collapsed": false
   }
  },
  {
   "cell_type": "markdown",
   "source": [
    "## Зачем учить Python?"
   ],
   "metadata": {}
  },
  {
   "cell_type": "markdown",
   "source": [
    "- Относительно популярный язык программирования (индекс TIOBE)\n",
    "- Используется в различных областях программирования\n",
    "- Возможность использовать Python для автоматизации рутинных операций и расчетов\n",
    "- Возможность писать в процедурном, объектно-оринентированный и функциональном стиле\n",
    "- Он кроссплатформенный\n",
    "- Возможность взаимодействия с другими языками"
   ],
   "metadata": {}
  },
  {
   "cell_type": "markdown",
   "source": [
    "## Зачем хорошо учить Python в научной работе?"
   ],
   "metadata": {}
  },
  {
   "cell_type": "markdown",
   "source": [
    "- Умение писать \"чистый\" и понятный код\n",
    "- Понимание архитектуры приложений\n",
    "- Возможность быстро написать код, решающий задачу правильно"
   ],
   "metadata": {}
  },
  {
   "cell_type": "markdown",
   "source": [
    "## Как исполнять код на Python?"
   ],
   "metadata": {}
  },
  {
   "cell_type": "markdown",
   "source": [
    "Python - скриптовый язык, который исполняется интерпретатором\n",
    "- Установить интерпретатор + стандартные библиотеки (python.org)\n",
    "- Использовать Google Colab   [https://colab.research.google.com](https://colab.research.google.com) или подобные сервисы"
   ],
   "metadata": {}
  },
  {
   "cell_type": "markdown",
   "source": [
    "## Установка Python\n",
    "\n",
    "Для установки Python предлагаю использовать miniconda(рассмотрим подробнее в дальнейшем):\n",
    "[https://docs.conda.io/en/latest/miniconda.html](https://docs.conda.io/en/latest/miniconda.html)\n",
    "\n",
    "После установки:\n",
    "- На Windows открыть программу \" Anaconda Prompt\"\n",
    "- На Mac/Linux открыть терминал\n",
    "\n",
    "Необходимо убедиться в том, что conda установилась, сделать это можно с помощью команды ```conda --version```.\n",
    "\n",
    "Если всё прошло корректно, необходимо создать виртуальное окружение(некий контейнер) для наших учебных работ:\n",
    "```sh\n",
    "conda create --name python_MSU python=3.8\n",
    "```\n",
    "Необходимо согласиться с тем, что необходимо установить пакеты и после этого выполнить:\n",
    "```sh\n",
    "conda activate python_MSU\n",
    "```\n",
    "Установить пакет jupyter notebook:\n",
    "```\n",
    "conda install jupyter\n",
    "```\n",
    "\n",
    "### Для запуска jupyter notebook:\n",
    "Необходимо убедиться, что используется виртуальное окружение \"python_MSU\" (в командной строке в круглых скобках должно быть указано имя окружения).\n",
    "В противном случае необходимо активировать окружение:\n",
    "```sh\n",
    "conda activate python_MSU\n",
    "```\n",
    "\n",
    "А затем ввести команду:\n",
    "```sh\n",
    "jupyter-notebook\n",
    "```\n",
    "В результате откроется браузер с jupyter. Если же браузер не откроется, то в командной строке будет отображен адрес следующего вида:\n",
    "```http://localhost:8890/?token=32b08886b4bdf9e66a6b4bfdea842571ae331dfa3eca5180```\n",
    "Необходимо по нему перейти в окне браузера\n",
    "\n",
    "\n",
    "\n",
    "\n"
   ],
   "metadata": {
    "collapsed": false
   }
  },
  {
   "cell_type": "markdown",
   "source": [
    "## Где писать код на Python"
   ],
   "metadata": {}
  },
  {
   "cell_type": "markdown",
   "source": [
    "- Режим REPL\n",
    "- Любой текстовый редактор (Notepad++, Atom, Sublime Text3, vim, nano) и запуск файла\n",
    "- Специализированных оболочках для режима REPL\n",
    "    - Jupyter Notebook\n",
    "    - JupyterLab\n",
    "    - VSCode\n",
    "    - DataSpell\n",
    "- Специализированные IDE\n",
    "    - Pycharm\n",
    "    - Spyder\n",
    "    - Eclipse + PyDev"
   ],
   "metadata": {}
  },
  {
   "cell_type": "code",
   "execution_count": null,
   "outputs": [],
   "source": [
    "print(\"Hello\")\n",
    "print(\"world\")"
   ],
   "metadata": {
    "collapsed": false,
    "pycharm": {
     "name": "#%%\n"
    }
   }
  },
  {
   "cell_type": "code",
   "execution_count": null,
   "source": [
    "!ls"
   ],
   "outputs": [],
   "metadata": {}
  },
  {
   "cell_type": "code",
   "execution_count": null,
   "source": [
    "!echo 123"
   ],
   "outputs": [],
   "metadata": {}
  },
  {
   "cell_type": "markdown",
   "source": [
    "## Версии Python"
   ],
   "metadata": {}
  },
  {
   "cell_type": "markdown",
   "source": [
    "### Python 2 vs Python 3\n",
    "- Поддержка версии Python 2 закончилась в 2020 году\n",
    "- В Python 3 устранены многие недостатки архитектуры с максимально возможным (но не полным) сохранением совместимости со старыми версиями Python\n",
    "- В большинстве случаев выбор следует делать в пользу Python 3\n",
    "\n",
    "### Реализации Python\n",
    "- CPython\n",
    "- Jython\n",
    "- IronPython (.Net)\n",
    "- PyPy\n",
    "- MicroPython"
   ],
   "metadata": {}
  },
  {
   "cell_type": "markdown",
   "source": [
    "В данном курсе мы рассматриваем __Python 3.8__ в реализации CPython"
   ],
   "metadata": {
    "collapsed": false
   }
  },
  {
   "cell_type": "markdown",
   "source": [
    "# План"
   ],
   "metadata": {}
  },
  {
   "cell_type": "markdown",
   "source": [
    "- Типы данных\n",
    "- Условные операторы\n",
    "- Циклы\n",
    "- Функции\n",
    "\n",
    "- Операторы ввода вывода\n",
    "- Файловый ввод вывод\n",
    "- dir, help\n",
    "- PEP-8\n",
    "- Идентификатор объекта"
   ],
   "metadata": {}
  },
  {
   "cell_type": "markdown",
   "source": [
    "# Первая программа"
   ],
   "metadata": {}
  },
  {
   "cell_type": "code",
   "execution_count": null,
   "source": [
    "print(\"Hello world\")"
   ],
   "outputs": [],
   "metadata": {}
  },
  {
   "cell_type": "markdown",
   "source": [
    "- ``print`` - функция вывода, как и во многих ЯП\n",
    "- Нет необходимости в каком-либо дополнительном коде(ф-я main)"
   ],
   "metadata": {}
  },
  {
   "cell_type": "markdown",
   "source": [
    "С++\n",
    "```cpp\n",
    "#include <iostream>\n",
    "using namespace std;\n",
    "\n",
    "int main() \n",
    "{ \n",
    "    cout << \"Hello, world!\" << endl;\n",
    "    return 0; \n",
    "}\n",
    "```"
   ],
   "metadata": {}
  },
  {
   "cell_type": "code",
   "execution_count": null,
   "source": [
    "if __name__ == '__main__':\n",
    "    print(\"Hello world\")"
   ],
   "outputs": [],
   "metadata": {}
  },
  {
   "cell_type": "markdown",
   "source": [
    "# Переменные и объекты в языке Python"
   ],
   "metadata": {}
  },
  {
   "cell_type": "markdown",
   "source": [
    "Python -- язык с сильной динамической типизацией. "
   ],
   "metadata": {}
  },
  {
   "cell_type": "markdown",
   "source": [
    " __Статическая типизация__ -- тип переменной известен во время компиляции, а не выполнения\n",
    "  <br> <br>\n",
    "  \n",
    " C++:\n",
    "```cpp\n",
    "#include <iostream>\n",
    "using namespace std;\n",
    "\n",
    "int main() \n",
    "{ \n",
    "    int a = 5;\n",
    "    float b = 2.0;\n",
    "    \n",
    "    a = \"Hello world\"; //error: invalid conversion from ‘const char*’ to ‘int’ \n",
    "\n",
    "    return 0; \n",
    "}\n",
    "```"
   ],
   "metadata": {}
  },
  {
   "cell_type": "markdown",
   "source": [
    "__Динамическая типизация__ - тип переменной неизвестен на этапе компиляции/интерпретации:\n",
    " <br> <br>\n",
    " \n",
    "Python 3:\n",
    "```python\n",
    "a = 5\n",
    "b = 2.\n",
    "\n",
    "a = 5.\n",
    "```"
   ],
   "metadata": {}
  },
  {
   "cell_type": "markdown",
   "source": [
    "__Сильная типизация__ -- переменные строго привязаны к типу данных\n",
    " <br> <br> Python 3\n",
    "```python\n",
    "a = 5\n",
    "b = \"Hello world\"\n",
    "\n",
    "print(a+b) # err\n",
    "```"
   ],
   "metadata": {}
  },
  {
   "cell_type": "markdown",
   "source": [
    "__Слабая типизация__ -- переменные непривязаны к типу данных\n",
    " <br> <br>\n",
    "JS:\n",
    "```js\n",
    "console.log(2001 + ': A Space Odyssey');\n",
    "// result: \"2001: A Space Odyssey\"\n",
    "```"
   ],
   "metadata": {}
  },
  {
   "cell_type": "code",
   "execution_count": null,
   "source": [
    "1000"
   ],
   "outputs": [],
   "metadata": {}
  },
  {
   "cell_type": "markdown",
   "source": [
    "- Объект типа int"
   ],
   "metadata": {}
  },
  {
   "cell_type": "code",
   "execution_count": null,
   "source": [
    "a = 1"
   ],
   "outputs": [],
   "metadata": {}
  },
  {
   "cell_type": "markdown",
   "source": [
    "- Объект типа int\n",
    "- Создана переменная с именем a, которая ссылается на этот объект"
   ],
   "metadata": {}
  },
  {
   "cell_type": "code",
   "execution_count": null,
   "source": [
    "a = 1000\n",
    "b = a"
   ],
   "outputs": [],
   "metadata": {}
  },
  {
   "cell_type": "markdown",
   "source": [
    "- Объект типа int\n",
    "- Переменная a на этот объект\n",
    "- Переменная b на тот же объект"
   ],
   "metadata": {}
  },
  {
   "cell_type": "code",
   "execution_count": null,
   "source": [
    "print(a)"
   ],
   "outputs": [],
   "metadata": {}
  },
  {
   "cell_type": "code",
   "execution_count": null,
   "source": [
    "a = 'Hello '\n",
    "b = 'World'\n",
    "\n",
    "a+b"
   ],
   "outputs": [],
   "metadata": {}
  },
  {
   "cell_type": "markdown",
   "source": [
    "# Типы данных"
   ],
   "metadata": {}
  },
  {
   "cell_type": "markdown",
   "source": [
    "1. __None__ (неопределенное значение переменной)\n",
    "2. __Логические переменные__ (Boolean Type)\n",
    "3. Числа (Numeric Type)\n",
    "    - __int__ – целое число\n",
    "    - __float__ – число с плавающей точкой\n",
    "    - complex – комплексное число\n",
    "4. Последовательности (Sequence Type)\n",
    "    - __list__ – список\n",
    "    - __tuple__ – кортеж\n",
    "    - __range__ – диапазон\n",
    "5. Строки (Text Sequence Type )\n",
    "    - __str__\n",
    "6. Бинарные последовательности (Binary Sequence Types)\n",
    "    - bytes – байты\n",
    "    - bytearray – массивы байт\n",
    "    - memoryview – специальные объекты для доступа к внутренним данным объекта через protocol buffer\n",
    "7. Множества (Set Types)\n",
    "    - __set__ – множество\n",
    "    - frozenset – неизменяемое множество\n",
    "8. Словари (Mapping Types)\n",
    "    - __dict__ – словарь\n",
    "<br><br><br><br>\n",
    "https://docs.python.org/3/library/stdtypes.html?highlight=sequence"
   ],
   "metadata": {}
  },
  {
   "cell_type": "markdown",
   "source": [
    "## Тип None"
   ],
   "metadata": {}
  },
  {
   "cell_type": "code",
   "execution_count": null,
   "source": [
    "n = 0\n",
    "n = ''\n",
    "n = None\n",
    "\n",
    "n == None, n is None"
   ],
   "outputs": [],
   "metadata": {}
  },
  {
   "cell_type": "markdown",
   "source": [
    "## Логический тип"
   ],
   "metadata": {}
  },
  {
   "cell_type": "code",
   "execution_count": null,
   "source": [
    "True == False"
   ],
   "outputs": [],
   "metadata": {}
  },
  {
   "cell_type": "code",
   "execution_count": null,
   "source": [
    "1 == True, [] == True, 0 == True, '' == False"
   ],
   "outputs": [],
   "metadata": {}
  },
  {
   "cell_type": "code",
   "execution_count": null,
   "outputs": [],
   "source": [
    "True == 255, 255 == False, bool(255)"
   ],
   "metadata": {
    "collapsed": false,
    "pycharm": {
     "name": "#%%\n"
    }
   }
  },
  {
   "cell_type": "code",
   "execution_count": null,
   "source": [
    "0 == True, 0 == False"
   ],
   "outputs": [],
   "metadata": {}
  },
  {
   "cell_type": "code",
   "execution_count": null,
   "source": [
    "None == True"
   ],
   "outputs": [],
   "metadata": {}
  },
  {
   "cell_type": "code",
   "execution_count": null,
   "source": [
    "None == False"
   ],
   "outputs": [],
   "metadata": {}
  },
  {
   "cell_type": "code",
   "execution_count": null,
   "outputs": [],
   "source": [
    "bool(None)"
   ],
   "metadata": {
    "collapsed": false,
    "pycharm": {
     "name": "#%%\n"
    }
   }
  },
  {
   "cell_type": "code",
   "execution_count": null,
   "source": [
    "True and True, True and False"
   ],
   "outputs": [],
   "metadata": {}
  },
  {
   "cell_type": "code",
   "execution_count": null,
   "source": [
    "False or True, False or False"
   ],
   "outputs": [],
   "metadata": {}
  },
  {
   "cell_type": "code",
   "execution_count": null,
   "source": [
    "not True"
   ],
   "outputs": [],
   "metadata": {}
  },
  {
   "cell_type": "code",
   "execution_count": null,
   "source": [
    "None or 1 or 5 or 10"
   ],
   "outputs": [],
   "metadata": {}
  },
  {
   "cell_type": "code",
   "execution_count": null,
   "outputs": [],
   "source": [
    "None or 0 or [] or ''"
   ],
   "metadata": {
    "collapsed": false,
    "pycharm": {
     "name": "#%%\n"
    }
   }
  },
  {
   "cell_type": "code",
   "execution_count": null,
   "source": [
    "print(10 and 1 and 0 and 30)"
   ],
   "outputs": [],
   "metadata": {}
  },
  {
   "cell_type": "markdown",
   "source": [
    "## Числа\n",
    "### Целые"
   ],
   "metadata": {}
  },
  {
   "cell_type": "code",
   "execution_count": null,
   "source": [
    "5 + 5"
   ],
   "outputs": [],
   "metadata": {}
  },
  {
   "cell_type": "code",
   "execution_count": null,
   "source": [
    "5 - 5"
   ],
   "outputs": [],
   "metadata": {}
  },
  {
   "cell_type": "code",
   "execution_count": null,
   "source": [
    "5 * 2"
   ],
   "outputs": [],
   "metadata": {}
  },
  {
   "cell_type": "code",
   "execution_count": null,
   "source": [
    "5 % 2"
   ],
   "outputs": [],
   "metadata": {}
  },
  {
   "cell_type": "code",
   "execution_count": null,
   "source": [
    "5 // 2"
   ],
   "outputs": [],
   "metadata": {}
  },
  {
   "cell_type": "code",
   "execution_count": null,
   "source": [
    "5 / 2"
   ],
   "outputs": [],
   "metadata": {}
  },
  {
   "cell_type": "code",
   "execution_count": null,
   "outputs": [],
   "source": [
    "1_000 ** 10_000"
   ],
   "metadata": {
    "collapsed": false,
    "pycharm": {
     "name": "#%%\n"
    }
   }
  },
  {
   "cell_type": "code",
   "execution_count": null,
   "source": [
    "int('10')"
   ],
   "outputs": [],
   "metadata": {}
  },
  {
   "cell_type": "markdown",
   "source": [
    "### Числа с плавающей точкой"
   ],
   "metadata": {}
  },
  {
   "cell_type": "code",
   "execution_count": null,
   "source": [
    "5 / 2"
   ],
   "outputs": [],
   "metadata": {}
  },
  {
   "cell_type": "code",
   "execution_count": null,
   "source": [
    "2.0 + 2.5"
   ],
   "outputs": [],
   "metadata": {}
  },
  {
   "cell_type": "code",
   "execution_count": null,
   "source": [
    "2. - .5"
   ],
   "outputs": [],
   "metadata": {}
  },
  {
   "cell_type": "code",
   "execution_count": null,
   "source": [
    "2 - .5"
   ],
   "outputs": [],
   "metadata": {}
  },
  {
   "cell_type": "code",
   "execution_count": null,
   "source": [
    "2 * 1.5"
   ],
   "outputs": [],
   "metadata": {}
  },
  {
   "cell_type": "code",
   "execution_count": null,
   "source": [
    "2 / 4.6"
   ],
   "outputs": [],
   "metadata": {}
  },
  {
   "cell_type": "code",
   "execution_count": null,
   "source": [
    "10 // 4.6, 10 / 4.6"
   ],
   "outputs": [],
   "metadata": {}
  },
  {
   "cell_type": "code",
   "execution_count": null,
   "source": [
    "10. % 2.4"
   ],
   "outputs": [],
   "metadata": {}
  },
  {
   "cell_type": "code",
   "execution_count": null,
   "source": [
    "float(1), float(\"2.\")"
   ],
   "outputs": [],
   "metadata": {}
  },
  {
   "cell_type": "code",
   "execution_count": null,
   "outputs": [],
   "source": [
    "0.1 + 0.1 + 0.1 == 0.3"
   ],
   "metadata": {
    "collapsed": false,
    "pycharm": {
     "name": "#%%\n"
    }
   }
  },
  {
   "cell_type": "code",
   "execution_count": null,
   "outputs": [],
   "source": [
    "0.1 + 0.1 + 0.1"
   ],
   "metadata": {
    "collapsed": false,
    "pycharm": {
     "name": "#%%\n"
    }
   }
  },
  {
   "cell_type": "code",
   "execution_count": null,
   "outputs": [],
   "source": [],
   "metadata": {
    "collapsed": false,
    "pycharm": {
     "name": "#%%\n"
    }
   }
  },
  {
   "cell_type": "markdown",
   "source": [
    "## Коллекции"
   ],
   "metadata": {}
  },
  {
   "cell_type": "markdown",
   "source": [
    "### Str"
   ],
   "metadata": {}
  },
  {
   "cell_type": "code",
   "execution_count": null,
   "source": [
    "\"Hello world\""
   ],
   "outputs": [],
   "metadata": {}
  },
  {
   "cell_type": "code",
   "execution_count": null,
   "source": [
    "'Hello world'"
   ],
   "outputs": [],
   "metadata": {}
  },
  {
   "cell_type": "code",
   "execution_count": null,
   "source": [
    "\"\"\" Hello\n",
    "    World\n",
    "\"\"\""
   ],
   "outputs": [],
   "metadata": {}
  },
  {
   "cell_type": "code",
   "execution_count": null,
   "source": [
    "print(\n",
    "\"\"\" Hello\n",
    "    World\n",
    "\"\"\")"
   ],
   "outputs": [],
   "metadata": {}
  },
  {
   "cell_type": "markdown",
   "source": [
    "#### Управляющие символы кодировки ASCII"
   ],
   "metadata": {
    "collapsed": false
   }
  },
  {
   "cell_type": "markdown",
   "source": [
    "Рассмотрим только набор управляющих символов из стандарта POSIX (portable character set)\n",
    "\n",
    "| Название         | Строка |\n",
    "|------------------|--------|\n",
    "| NUL              |\\0\t    |\n",
    "| alert\t \t       |\\a      |\n",
    "| backspace\t       |\\b      |\n",
    "| tab\t \t       |\\t      |\n",
    "| newline\t       |\\n      |\n",
    "| vertical-tab     |\\v      |\n",
    "| form-feed        |\\f      |\n",
    "| carriage-return  |\\r      |"
   ],
   "metadata": {
    "collapsed": false
   }
  },
  {
   "cell_type": "code",
   "execution_count": null,
   "outputs": [],
   "source": [
    "print(\"\\0\")"
   ],
   "metadata": {
    "collapsed": false,
    "pycharm": {
     "name": "#%%\n"
    }
   }
  },
  {
   "cell_type": "code",
   "execution_count": null,
   "outputs": [],
   "source": [
    "print(\"\\a\")"
   ],
   "metadata": {
    "collapsed": false,
    "pycharm": {
     "name": "#%%\n"
    }
   }
  },
  {
   "cell_type": "code",
   "execution_count": null,
   "outputs": [],
   "source": [
    "print(\"Hello, world!\\b\")"
   ],
   "metadata": {
    "collapsed": false,
    "pycharm": {
     "name": "#%%\n"
    }
   }
  },
  {
   "cell_type": "code",
   "execution_count": null,
   "outputs": [],
   "source": [
    "print(\"Hello,\\tworld!\")"
   ],
   "metadata": {
    "collapsed": false,
    "pycharm": {
     "name": "#%%\n"
    }
   }
  },
  {
   "cell_type": "code",
   "execution_count": null,
   "outputs": [],
   "source": [
    "print(\"Hello,\\vworld!\")"
   ],
   "metadata": {
    "collapsed": false,
    "pycharm": {
     "name": "#%%\n"
    }
   }
  },
  {
   "cell_type": "code",
   "execution_count": null,
   "outputs": [],
   "source": [
    "print(\"Hello,\\fworld!\")"
   ],
   "metadata": {
    "collapsed": false,
    "pycharm": {
     "name": "#%%\n"
    }
   }
  },
  {
   "cell_type": "code",
   "execution_count": null,
   "outputs": [],
   "source": [
    "print(\"Hello,\\nworld!\")\n",
    "print()\n",
    "print(\"Hello,\\rworld!\")\n",
    "print()\n",
    "print(\"Hello,\\r\\nworld!\")"
   ],
   "metadata": {
    "collapsed": false,
    "pycharm": {
     "name": "#%%\n"
    }
   }
  },
  {
   "cell_type": "markdown",
   "source": [
    "CRLF vs LF\n",
    "CR = \\r\n",
    "LF = \\n\n",
    "\n",
    "Возврат каретки (англ. carriage return, CR) — управляющий символ ASCII ('\\r'), при выводе которого курсор перемещается к левому краю поля. Отдельно рассамтривается, как перевод строки, только в старых системах Macintosh\n",
    "\n",
    "Подача на строку или Перевод на строку (от англ. line feed, LF — «подача бумаги на строку») — управляющий символ ASCII ('\\n'), при выводе которого курсор перемещается на следующую строку. В случае принтера это означает сдвиг бумаги вверх, в случае дисплея — сдвиг курсора вниз, если ещё осталось место, и прокрутку текста вверх, если курсор находился на нижней строке. Как перенос строки(в привычном понимании со сдвигом курсора влево) используется в UNIX системах(в том числе и macOS/Os X).\n",
    "\n",
    "Большинство не Unix систем (Windows, Symbian OS)  используют последовательность этих двух символов('\\r\\n')\n"
   ],
   "metadata": {
    "collapsed": false
   }
  },
  {
   "cell_type": "markdown",
   "source": [
    "#### Форматирование строк"
   ],
   "metadata": {}
  },
  {
   "cell_type": "code",
   "execution_count": null,
   "source": [
    "name = \"Petr\"\n",
    "age = 45\n",
    "weight = 65.5\n",
    "\n",
    "res = \"Name: \" + name + '\\n' + \"Age: \" + str(age) + '\\n' + \"Weight: \" + str(weight)\n",
    "print(res)"
   ],
   "outputs": [],
   "metadata": {}
  },
  {
   "cell_type": "code",
   "execution_count": null,
   "source": [
    "name = \"Petr\"\n",
    "age = 45\n",
    "weight = 65.5\n",
    "res = \"\"\"Name: {}\n",
    "Age: {}\n",
    "Weight: {}\n",
    "\"\"\".format(name, age, weight)\n",
    "\n",
    "print(res)"
   ],
   "outputs": [],
   "metadata": {}
  },
  {
   "cell_type": "code",
   "execution_count": null,
   "source": [
    "name = \"Petr\"\n",
    "age = 45\n",
    "weight = 65.5\n",
    "\n",
    "res = f\"\"\"Name: {name}\n",
    "Age: {age}\n",
    "Weight: {weight}\n",
    "\"\"\"\n",
    "\n",
    "print(res)"
   ],
   "outputs": [],
   "metadata": {}
  },
  {
   "cell_type": "code",
   "execution_count": null,
   "source": [
    "res"
   ],
   "outputs": [],
   "metadata": {}
  },
  {
   "cell_type": "markdown",
   "source": [
    "#### Сырые строки (raw string)"
   ],
   "metadata": {}
  },
  {
   "cell_type": "code",
   "execution_count": null,
   "source": [
    "print(\"1231231231 \\\\n \\\\\")"
   ],
   "outputs": [],
   "metadata": {}
  },
  {
   "cell_type": "code",
   "execution_count": null,
   "source": [
    "path = 'C:\\ProgrammFiles\\new_Python'\n",
    "\n",
    "print(path)"
   ],
   "outputs": [],
   "metadata": {}
  },
  {
   "cell_type": "code",
   "execution_count": null,
   "source": [
    "path = 'C:\\ProgrammFiles\\\\new_Python'\n",
    "\n",
    "print(path)"
   ],
   "outputs": [],
   "metadata": {}
  },
  {
   "cell_type": "code",
   "execution_count": null,
   "source": [
    "path = r'C:\\ProgrammFiles\\new_Python'\n",
    "\n",
    "print(path)"
   ],
   "outputs": [],
   "metadata": {}
  },
  {
   "cell_type": "markdown",
   "source": [
    "### range"
   ],
   "metadata": {}
  },
  {
   "cell_type": "code",
   "execution_count": null,
   "source": [
    "range(10)"
   ],
   "outputs": [],
   "metadata": {}
  },
  {
   "cell_type": "code",
   "execution_count": null,
   "source": [
    "range(5, 10)"
   ],
   "outputs": [],
   "metadata": {}
  },
  {
   "cell_type": "code",
   "execution_count": null,
   "source": [
    "list(range(5, 10))"
   ],
   "outputs": [],
   "metadata": {}
  },
  {
   "cell_type": "code",
   "execution_count": null,
   "source": [
    "list(range(5, 10, 2))"
   ],
   "outputs": [],
   "metadata": {}
  },
  {
   "cell_type": "markdown",
   "source": [
    "### Обзор коллекций"
   ],
   "metadata": {}
  },
  {
   "cell_type": "markdown",
   "source": [
    "#### list"
   ],
   "metadata": {}
  },
  {
   "cell_type": "markdown",
   "source": [
    "list - аналог массива в других ЯП. \n",
    "\n",
    "<br><br>\n",
    "<font size=\"5\" color=\"red\" face=\"Arial\"> __Важно:__ list/список не структура данных под названием список </font>"
   ],
   "metadata": {}
  },
  {
   "cell_type": "code",
   "execution_count": null,
   "source": [
    "b = [1, 2, 3, 4]\n",
    "b"
   ],
   "outputs": [],
   "metadata": {}
  },
  {
   "cell_type": "code",
   "execution_count": null,
   "source": [
    "a = list(\"Hello world\")\n",
    "a"
   ],
   "outputs": [],
   "metadata": {}
  },
  {
   "cell_type": "code",
   "execution_count": null,
   "source": [
    "[], list()"
   ],
   "outputs": [],
   "metadata": {}
  },
  {
   "cell_type": "code",
   "execution_count": null,
   "source": [
    "a[3] = 'p'\n",
    "a"
   ],
   "outputs": [],
   "metadata": {}
  },
  {
   "cell_type": "code",
   "execution_count": null,
   "outputs": [],
   "source": [
    "a[0]"
   ],
   "metadata": {
    "collapsed": false,
    "pycharm": {
     "name": "#%%\n"
    }
   }
  },
  {
   "cell_type": "code",
   "execution_count": null,
   "source": [
    "b[2] = 'Hello world'\n",
    "b"
   ],
   "outputs": [],
   "metadata": {}
  },
  {
   "cell_type": "code",
   "execution_count": null,
   "outputs": [],
   "source": [
    "[1, 2., \"qwert\"]"
   ],
   "metadata": {
    "collapsed": false,
    "pycharm": {
     "name": "#%%\n"
    }
   }
  },
  {
   "cell_type": "code",
   "execution_count": null,
   "source": [
    "b[2], a[3]"
   ],
   "outputs": [],
   "metadata": {}
  },
  {
   "cell_type": "markdown",
   "source": [
    "#### tuple"
   ],
   "metadata": {}
  },
  {
   "cell_type": "markdown",
   "source": [
    "\"Константный\" массив"
   ],
   "metadata": {}
  },
  {
   "cell_type": "code",
   "execution_count": null,
   "source": [
    "a = (1, 2, 3, 4)\n",
    "a"
   ],
   "outputs": [],
   "metadata": {}
  },
  {
   "cell_type": "code",
   "execution_count": null,
   "source": [
    "a[1]"
   ],
   "outputs": [],
   "metadata": {}
  },
  {
   "cell_type": "code",
   "execution_count": null,
   "source": [
    "a[1] = 1"
   ],
   "outputs": [],
   "metadata": {}
  },
  {
   "cell_type": "code",
   "execution_count": null,
   "source": [
    "b = tuple([1, 2, [1, 2, 3]])\n",
    "b"
   ],
   "outputs": [],
   "metadata": {}
  },
  {
   "cell_type": "code",
   "execution_count": null,
   "source": [
    "b[2][0] = 0\n",
    "b"
   ],
   "outputs": [],
   "metadata": {}
  },
  {
   "cell_type": "markdown",
   "source": [
    "#### Множества"
   ],
   "metadata": {}
  },
  {
   "cell_type": "markdown",
   "source": [
    "Множество(set) - это неупорядоченная коллекция без повторяющихся элементов"
   ],
   "metadata": {}
  },
  {
   "cell_type": "code",
   "execution_count": null,
   "source": [
    "a = {1, 2, 3, 4, 4, 3, 2, 1}\n",
    "a"
   ],
   "outputs": [],
   "metadata": {}
  },
  {
   "cell_type": "code",
   "execution_count": null,
   "source": [
    "b = {1, 2, 3, 4, 5, 'Hello', [1, 2, 3]}\n",
    "b"
   ],
   "outputs": [],
   "metadata": {}
  },
  {
   "cell_type": "code",
   "execution_count": null,
   "source": [
    "def my_hash(a, l):\n",
    "    return a % l\n",
    " \n",
    "l = list(map(int, input(\"Введите числа: \").split()))\n",
    "len_hash = 10\n",
    "hash_table = [0] * len_hash\n",
    "print(l)\n",
    "\n",
    "for i in l:\n",
    "    hash_of_i = my_hash(i, len_hash)\n",
    "    hash_table[hash_of_i] += 1\n",
    "    print(hash_table)\n",
    "    input()"
   ],
   "outputs": [],
   "metadata": {}
  },
  {
   "cell_type": "code",
   "execution_count": null,
   "source": [
    "hash('Hello world')"
   ],
   "outputs": [],
   "metadata": {}
  },
  {
   "cell_type": "code",
   "execution_count": null,
   "outputs": [],
   "source": [
    "a"
   ],
   "metadata": {
    "collapsed": false,
    "pycharm": {
     "name": "#%%\n"
    }
   }
  },
  {
   "cell_type": "code",
   "execution_count": null,
   "outputs": [],
   "source": [
    "2 in a"
   ],
   "metadata": {
    "collapsed": false,
    "pycharm": {
     "name": "#%%\n"
    }
   }
  },
  {
   "cell_type": "code",
   "execution_count": null,
   "source": [
    "type({})"
   ],
   "outputs": [],
   "metadata": {}
  },
  {
   "cell_type": "code",
   "execution_count": null,
   "outputs": [],
   "source": [
    "type({1, 2})"
   ],
   "metadata": {
    "collapsed": false,
    "pycharm": {
     "name": "#%%\n"
    }
   }
  },
  {
   "cell_type": "code",
   "execution_count": null,
   "source": [
    "type(set())"
   ],
   "outputs": [],
   "metadata": {}
  },
  {
   "cell_type": "markdown",
   "source": [
    "#### Словари"
   ],
   "metadata": {}
  },
  {
   "cell_type": "code",
   "execution_count": null,
   "source": [
    "a = {'One': 1, 'Two': 2, 'Three': 3}\n",
    "a"
   ],
   "outputs": [],
   "metadata": {}
  },
  {
   "cell_type": "code",
   "execution_count": null,
   "source": [
    "a['One']"
   ],
   "outputs": [],
   "metadata": {}
  },
  {
   "cell_type": "code",
   "execution_count": null,
   "source": [
    "a['Four'] = [4, 'IV']\n",
    "a"
   ],
   "outputs": [],
   "metadata": {}
  },
  {
   "cell_type": "code",
   "execution_count": null,
   "source": [
    "a[[1, 2, 3]] =  123"
   ],
   "outputs": [],
   "metadata": {}
  },
  {
   "cell_type": "code",
   "execution_count": null,
   "source": [
    "a[(1, 2, 3)] = 123\n",
    "a"
   ],
   "outputs": [],
   "metadata": {}
  },
  {
   "cell_type": "code",
   "execution_count": null,
   "source": [
    "a[{1, 2, 3}] = 123"
   ],
   "outputs": [],
   "metadata": {}
  },
  {
   "cell_type": "code",
   "execution_count": null,
   "source": [
    "a[frozenset([1, 2])] = 12\n",
    "a"
   ],
   "outputs": [],
   "metadata": {}
  },
  {
   "cell_type": "markdown",
   "source": [
    "### Общие подходы "
   ],
   "metadata": {}
  },
  {
   "cell_type": "code",
   "execution_count": null,
   "source": [
    "my_list = [1, 2, 3, 4]\n",
    "my_tuple = (1, 2, 3, 4)\n",
    "my_set = set([1, 2, 3])\n",
    "my_dict = {'One': 1, 'Two': 2, 'Three': 3}"
   ],
   "outputs": [],
   "metadata": {}
  },
  {
   "cell_type": "markdown",
   "source": [
    "#### Вывод коллекции"
   ],
   "metadata": {}
  },
  {
   "cell_type": "code",
   "execution_count": null,
   "source": [
    "print(my_list)\n",
    "print(my_tuple)\n",
    "print(my_set)\n",
    "print(my_dict)"
   ],
   "outputs": [],
   "metadata": {}
  },
  {
   "cell_type": "code",
   "execution_count": null,
   "outputs": [],
   "source": [
    "my_dict['Two'] = [2, 'II']"
   ],
   "metadata": {
    "collapsed": false,
    "pycharm": {
     "name": "#%%\n"
    }
   }
  },
  {
   "cell_type": "markdown",
   "source": [
    "#### Количество элементов"
   ],
   "metadata": {}
  },
  {
   "cell_type": "code",
   "execution_count": null,
   "source": [
    "len(my_list), len(my_tuple), len(my_set), len(my_dict)"
   ],
   "outputs": [],
   "metadata": {}
  },
  {
   "cell_type": "markdown",
   "source": [
    "#### Наличие элемента в коллекции"
   ],
   "metadata": {}
  },
  {
   "cell_type": "code",
   "execution_count": null,
   "source": [
    "print(1 in my_list, 5 in my_list)\n",
    "print(1 in my_tuple, 5 in my_tuple)\n",
    "print(1 in my_set, 5 in my_set)\n",
    "print(1 in my_dict, 5 in my_dict)"
   ],
   "outputs": [],
   "metadata": {}
  },
  {
   "cell_type": "code",
   "execution_count": null,
   "source": [
    "'H' in 'Hello'"
   ],
   "outputs": [],
   "metadata": {}
  },
  {
   "cell_type": "markdown",
   "source": [
    "#### Обход элементов"
   ],
   "metadata": {}
  },
  {
   "cell_type": "code",
   "execution_count": null,
   "source": [
    "for i in my_list:\n",
    "    print(i)"
   ],
   "outputs": [],
   "metadata": {}
  },
  {
   "cell_type": "code",
   "execution_count": null,
   "source": [
    "for i in my_set:\n",
    "    print(i)"
   ],
   "outputs": [],
   "metadata": {}
  },
  {
   "cell_type": "code",
   "execution_count": null,
   "source": [
    "my_dict"
   ],
   "outputs": [],
   "metadata": {}
  },
  {
   "cell_type": "code",
   "execution_count": null,
   "source": [
    "for i in my_dict:\n",
    "    print(i)\n",
    "    \n",
    "for i in my_dict.values():\n",
    "    print(i)\n",
    "    \n",
    "for i in my_dict.items():\n",
    "    print(i)"
   ],
   "outputs": [],
   "metadata": {}
  },
  {
   "cell_type": "markdown",
   "source": [
    "#### Агрегирующие функции"
   ],
   "metadata": {}
  },
  {
   "cell_type": "code",
   "execution_count": null,
   "source": [
    "max(my_list)"
   ],
   "outputs": [],
   "metadata": {}
  },
  {
   "cell_type": "code",
   "execution_count": null,
   "source": [
    "min(my_list)"
   ],
   "outputs": [],
   "metadata": {}
  },
  {
   "cell_type": "code",
   "execution_count": null,
   "source": [
    "sum(my_set)"
   ],
   "outputs": [],
   "metadata": {}
  },
  {
   "cell_type": "markdown",
   "source": [
    "### Методы общие для части коллекций"
   ],
   "metadata": {}
  },
  {
   "cell_type": "markdown",
   "source": [
    "\n",
    "| Коллекция | .count() | .index() | .copy() | .clear() |\n",
    "|-----------|----------|----------|---------|----------|\n",
    "| list      |    +     |    +     |    +    |    +     |\n",
    "| tuple     |    +     |    +     |    -    |    -     |\n",
    "| string    |    +     |    +     |    -    |    -     |\n",
    "| set       |    -     |    -     |    +    |    +     |\n",
    "|  dict     |    -     |    -     |    +    |    +     |\n"
   ],
   "metadata": {}
  },
  {
   "cell_type": "code",
   "execution_count": null,
   "source": [
    "my_list = [1, 2, 3, 4, 1, 2, 3, 5]\n",
    "my_tuple = (1, 2, 3, 4)\n",
    "my_set = {1, 2, 3}\n",
    "my_dict = {'One': 1, 'Two': 2, 'Three': 3}"
   ],
   "outputs": [],
   "metadata": {}
  },
  {
   "cell_type": "code",
   "execution_count": null,
   "source": [
    "my_list.count(1)"
   ],
   "outputs": [],
   "metadata": {}
  },
  {
   "cell_type": "code",
   "execution_count": null,
   "source": [
    "my_list.index(3)"
   ],
   "outputs": [],
   "metadata": {}
  },
  {
   "cell_type": "code",
   "execution_count": null,
   "source": [
    "my_new_list = my_list.copy()\n",
    "my_new_old_list = my_list\n",
    "my_new_list, my_new_old_list"
   ],
   "outputs": [],
   "metadata": {}
  },
  {
   "cell_type": "code",
   "execution_count": null,
   "outputs": [],
   "source": [
    "my_list[0] = 0\n",
    "my_new_list, my_new_old_list"
   ],
   "metadata": {
    "collapsed": false,
    "pycharm": {
     "name": "#%%\n"
    }
   }
  },
  {
   "cell_type": "code",
   "execution_count": null,
   "outputs": [],
   "source": [
    "my_list[0] = 1"
   ],
   "metadata": {
    "collapsed": false,
    "pycharm": {
     "name": "#%%\n"
    }
   }
  },
  {
   "cell_type": "code",
   "execution_count": null,
   "source": [
    "my_new_list == my_list, my_new_list is my_list"
   ],
   "outputs": [],
   "metadata": {}
  },
  {
   "cell_type": "code",
   "execution_count": null,
   "outputs": [],
   "source": [
    "my_new_list, my_new_old_list"
   ],
   "metadata": {
    "collapsed": false,
    "pycharm": {
     "name": "#%%\n"
    }
   }
  },
  {
   "cell_type": "code",
   "execution_count": null,
   "source": [
    "my_list = [1, 2, 3, [4, 5, 6]]\n",
    "my_new_list = my_list.copy()\n",
    "\n",
    "my_list"
   ],
   "outputs": [],
   "metadata": {}
  },
  {
   "cell_type": "code",
   "execution_count": null,
   "source": [
    "my_new_list"
   ],
   "outputs": [],
   "metadata": {}
  },
  {
   "cell_type": "code",
   "execution_count": null,
   "source": [
    "my_list[3][0] = 10\n",
    "my_list[0] = 11\n",
    "my_list"
   ],
   "outputs": [],
   "metadata": {}
  },
  {
   "cell_type": "markdown",
   "source": [
    "1) [11, 2, 3, [10, 5, 6]]\n",
    "2) [1, 2, 3, [4, 5, 6]]\n",
    "3) [1, 2, 3, [10, 5, 6]]\n"
   ],
   "metadata": {
    "collapsed": false,
    "pycharm": {
     "name": "#%% md\n"
    }
   }
  },
  {
   "cell_type": "code",
   "execution_count": null,
   "source": [
    "my_new_list"
   ],
   "outputs": [],
   "metadata": {}
  },
  {
   "cell_type": "markdown",
   "source": [
    "### Методы работы со множествами"
   ],
   "metadata": {}
  },
  {
   "cell_type": "code",
   "execution_count": null,
   "source": [
    "A = {1, 2, 3}\n",
    "B = {3, 4, 3}\n",
    "\n",
    "A, B"
   ],
   "outputs": [],
   "metadata": {}
  },
  {
   "cell_type": "markdown",
   "source": [
    "![title](images/sets/AorB.png)"
   ],
   "metadata": {
    "collapsed": false
   }
  },
  {
   "cell_type": "code",
   "execution_count": null,
   "source": [
    "A | B, A.union(B)"
   ],
   "outputs": [],
   "metadata": {}
  },
  {
   "cell_type": "markdown",
   "source": [
    "![title](images/sets/AandB.png)"
   ],
   "metadata": {
    "collapsed": false,
    "pycharm": {
     "name": "#%% md\n"
    }
   }
  },
  {
   "cell_type": "code",
   "execution_count": null,
   "source": [
    "A & B, A.intersection(B)"
   ],
   "outputs": [],
   "metadata": {}
  },
  {
   "cell_type": "markdown",
   "source": [
    "![title](images/sets/A-B.png)"
   ],
   "metadata": {
    "collapsed": false,
    "pycharm": {
     "name": "#%% md\n"
    }
   }
  },
  {
   "cell_type": "code",
   "execution_count": null,
   "source": [
    "A - B, A.difference(B)"
   ],
   "outputs": [],
   "metadata": {}
  },
  {
   "cell_type": "markdown",
   "source": [
    "![title](images/sets/Asymmetric_differenceB.png)"
   ],
   "metadata": {
    "collapsed": false
   }
  },
  {
   "cell_type": "code",
   "execution_count": null,
   "source": [
    "A ^ B, A.symmetric_difference(B)"
   ],
   "outputs": [],
   "metadata": {}
  },
  {
   "cell_type": "code",
   "execution_count": null,
   "source": [
    "A <= B, A.issubset(B)"
   ],
   "outputs": [],
   "metadata": {}
  },
  {
   "cell_type": "code",
   "execution_count": null,
   "source": [
    "A >= B, A.issuperset(B)"
   ],
   "outputs": [],
   "metadata": {}
  },
  {
   "cell_type": "code",
   "execution_count": null,
   "source": [
    "A.isdisjoint(B)"
   ],
   "outputs": [],
   "metadata": {}
  },
  {
   "cell_type": "markdown",
   "source": [
    "### Индексирование"
   ],
   "metadata": {}
  },
  {
   "cell_type": "code",
   "execution_count": null,
   "source": [
    "my_list = [0, 1, 2, 3, 4, 5, 6]\n",
    "my_list[0]"
   ],
   "outputs": [],
   "metadata": {}
  },
  {
   "cell_type": "code",
   "execution_count": null,
   "source": [
    "my_list[6]"
   ],
   "outputs": [],
   "metadata": {}
  },
  {
   "cell_type": "code",
   "execution_count": null,
   "source": [
    "my_list[-1], my_list[len(my_list) - 1]"
   ],
   "outputs": [],
   "metadata": {}
  },
  {
   "cell_type": "code",
   "execution_count": null,
   "source": [
    "my_list[-7], my_list[len(my_list) - 7]"
   ],
   "outputs": [],
   "metadata": {}
  },
  {
   "cell_type": "code",
   "execution_count": null,
   "source": [
    "my_list[-5] = 11\n",
    "my_list"
   ],
   "outputs": [],
   "metadata": {}
  },
  {
   "cell_type": "code",
   "execution_count": null,
   "source": [
    "my_list[10] = 11\n",
    "my_list"
   ],
   "outputs": [],
   "metadata": {}
  },
  {
   "cell_type": "code",
   "execution_count": null,
   "outputs": [],
   "source": [
    "my_list[-10]"
   ],
   "metadata": {
    "collapsed": false,
    "pycharm": {
     "name": "#%%\n"
    }
   }
  },
  {
   "cell_type": "markdown",
   "source": [
    "#### Срезы (Slice)"
   ],
   "metadata": {}
  },
  {
   "cell_type": "code",
   "execution_count": null,
   "source": [
    "my_list"
   ],
   "outputs": [],
   "metadata": {}
  },
  {
   "cell_type": "code",
   "execution_count": null,
   "source": [
    "my_list[1:5]"
   ],
   "outputs": [],
   "metadata": {}
  },
  {
   "cell_type": "code",
   "execution_count": null,
   "source": [
    "my_list[1:5:2]"
   ],
   "outputs": [],
   "metadata": {}
  },
  {
   "cell_type": "code",
   "execution_count": null,
   "source": [
    "EVEN = slice(1, None, 2)\n",
    "print(my_list[EVEN]) "
   ],
   "outputs": [],
   "metadata": {}
  },
  {
   "cell_type": "markdown",
   "source": [
    "##### Изменение списка"
   ],
   "metadata": {}
  },
  {
   "cell_type": "code",
   "execution_count": null,
   "source": [
    "my_list = [1, 2, 3, 4, 5]\n",
    "my_list[1:2] = [20, 40, 50]\n",
    "print(my_list)     "
   ],
   "outputs": [],
   "metadata": {}
  },
  {
   "cell_type": "markdown",
   "source": [
    "##### Выход за границы "
   ],
   "metadata": {}
  },
  {
   "cell_type": "code",
   "execution_count": null,
   "source": [
    "my_list = [1, 2, 3, 4, 5]\n",
    "my_list[10]"
   ],
   "outputs": [],
   "metadata": {}
  },
  {
   "cell_type": "code",
   "execution_count": null,
   "source": [
    "my_list[0:100], my_list[50:100]"
   ],
   "outputs": [],
   "metadata": {}
  },
  {
   "cell_type": "code",
   "execution_count": null,
   "outputs": [],
   "source": [
    "my_list[50:51] = [1, 2]"
   ],
   "metadata": {
    "collapsed": false,
    "pycharm": {
     "name": "#%%\n"
    }
   }
  },
  {
   "cell_type": "code",
   "execution_count": null,
   "outputs": [],
   "source": [
    "my_list"
   ],
   "metadata": {
    "collapsed": false,
    "pycharm": {
     "name": "#%%\n"
    }
   }
  },
  {
   "cell_type": "markdown",
   "source": [
    "#### Сортировка коллекций\n"
   ],
   "metadata": {
    "collapsed": false
   }
  },
  {
   "cell_type": "code",
   "execution_count": null,
   "outputs": [],
   "source": [
    "my_list = [55, 22, 33, 79, 60]\n",
    "\n",
    "sorted(my_list), my_list"
   ],
   "metadata": {
    "collapsed": false,
    "pycharm": {
     "name": "#%%\n"
    }
   }
  },
  {
   "cell_type": "code",
   "execution_count": null,
   "outputs": [],
   "source": [
    "my_list = sorted(my_list)"
   ],
   "metadata": {
    "collapsed": false,
    "pycharm": {
     "name": "#%%\n"
    }
   }
  },
  {
   "cell_type": "code",
   "execution_count": null,
   "outputs": [],
   "source": [
    "my_list"
   ],
   "metadata": {
    "collapsed": false,
    "pycharm": {
     "name": "#%%\n"
    }
   }
  },
  {
   "cell_type": "code",
   "execution_count": null,
   "outputs": [],
   "source": [
    "sorted([\"Hello\", \"Hell\", \"M\"])"
   ],
   "metadata": {
    "collapsed": false,
    "pycharm": {
     "name": "#%%\n"
    }
   }
  },
  {
   "cell_type": "code",
   "execution_count": null,
   "outputs": [],
   "source": [
    "def cmp(a):\n",
    "    return len(a) % 3\n",
    "\n",
    "sorted([\"Hello\", \"Hell\", \"M\"], key=cmp)\n"
   ],
   "metadata": {
    "collapsed": false,
    "pycharm": {
     "name": "#%%\n"
    }
   }
  },
  {
   "cell_type": "code",
   "execution_count": null,
   "outputs": [],
   "source": [
    "len(\"Hello\") % 3"
   ],
   "metadata": {
    "collapsed": false,
    "pycharm": {
     "name": "#%%\n"
    }
   }
  },
  {
   "cell_type": "markdown",
   "source": [
    "#### Некоторые методы для строк"
   ],
   "metadata": {
    "collapsed": false
   }
  },
  {
   "cell_type": "code",
   "execution_count": null,
   "outputs": [],
   "source": [
    "\"hello, \" + \"world\""
   ],
   "metadata": {
    "collapsed": false,
    "pycharm": {
     "name": "#%%\n"
    }
   }
  },
  {
   "cell_type": "code",
   "execution_count": null,
   "outputs": [],
   "source": [
    "\"Hello \" * 3 + \" world\""
   ],
   "metadata": {
    "collapsed": false,
    "pycharm": {
     "name": "#%%\n"
    }
   }
  },
  {
   "cell_type": "code",
   "execution_count": null,
   "outputs": [],
   "source": [
    "len(\"hello\")"
   ],
   "metadata": {
    "collapsed": false,
    "pycharm": {
     "name": "#%%\n"
    }
   }
  },
  {
   "cell_type": "code",
   "execution_count": null,
   "outputs": [],
   "source": [
    "\"Hello, Hell\".find(\"H\"), \"Hello, Hell\".rfind(\"H\")"
   ],
   "metadata": {
    "collapsed": false,
    "pycharm": {
     "name": "#%%\n"
    }
   }
  },
  {
   "cell_type": "code",
   "execution_count": null,
   "outputs": [],
   "source": [
    "\"Hello, Hell\".replace(\"H\", 'h')"
   ],
   "metadata": {
    "collapsed": false,
    "pycharm": {
     "name": "#%%\n"
    }
   }
  },
  {
   "cell_type": "code",
   "execution_count": null,
   "outputs": [],
   "source": [
    "\"Hello, Hell\".replace(\"H\", 'h', 1)"
   ],
   "metadata": {
    "collapsed": false,
    "pycharm": {
     "name": "#%%\n"
    }
   }
  },
  {
   "cell_type": "code",
   "execution_count": null,
   "outputs": [],
   "source": [
    "\"Lorem ipsum dolor sit amet, consectetur adipiscing.\".split()"
   ],
   "metadata": {
    "collapsed": false,
    "pycharm": {
     "name": "#%%\n"
    }
   }
  },
  {
   "cell_type": "code",
   "execution_count": null,
   "outputs": [],
   "source": [
    "\"Lorem ipsum dolor sit amet, consectetur adipiscing.\".split(',')"
   ],
   "metadata": {
    "collapsed": false,
    "pycharm": {
     "name": "#%%\n"
    }
   }
  },
  {
   "cell_type": "code",
   "execution_count": null,
   "outputs": [],
   "source": [
    "\"25\".zfill(3)"
   ],
   "metadata": {
    "collapsed": false,
    "pycharm": {
     "name": "#%%\n"
    }
   }
  },
  {
   "cell_type": "code",
   "execution_count": null,
   "outputs": [],
   "source": [
    "\"Hello\".lower(), \"Hello\".upper()"
   ],
   "metadata": {
    "collapsed": false,
    "pycharm": {
     "name": "#%%\n"
    }
   }
  },
  {
   "cell_type": "code",
   "execution_count": null,
   "outputs": [],
   "source": [
    "\"   Hello       \".rstrip(), \"   Hello   \".lstrip(), \"   Hello   \".strip()"
   ],
   "metadata": {
    "collapsed": false,
    "pycharm": {
     "name": "#%%\n"
    }
   }
  },
  {
   "cell_type": "markdown",
   "source": [
    "# Условные операторы"
   ],
   "metadata": {}
  },
  {
   "cell_type": "code",
   "execution_count": null,
   "source": [
    "a = 2\n",
    "if a < 5:\n",
    "    print(a)"
   ],
   "outputs": [],
   "metadata": {}
  },
  {
   "cell_type": "code",
   "execution_count": null,
   "source": [
    "a = 10\n",
    "if a < 5:\n",
    "    print(a)\n",
    "else:\n",
    "    print('Else')"
   ],
   "outputs": [],
   "metadata": {}
  },
  {
   "cell_type": "code",
   "execution_count": null,
   "source": [
    "a = 12\n",
    "if a < 5:\n",
    "    print('a < 5')\n",
    "elif a < 10:\n",
    "    print('5 <= a < 10')\n",
    "elif a < 15:\n",
    "    print('10 <= a < 15')\n",
    "else:\n",
    "    print('Else')"
   ],
   "outputs": [],
   "metadata": {}
  },
  {
   "cell_type": "code",
   "execution_count": null,
   "outputs": [],
   "source": [
    "key = 'lower'\n",
    "a = 'a' if key == 'lower' else 'A'\n",
    "a"
   ],
   "metadata": {
    "collapsed": false,
    "pycharm": {
     "name": "#%%\n"
    }
   }
  },
  {
   "cell_type": "markdown",
   "source": [
    "# Циклы"
   ],
   "metadata": {}
  },
  {
   "cell_type": "code",
   "execution_count": null,
   "source": [
    "i = 0\n",
    "while i < 10:\n",
    "    print(i)\n",
    "    # i += 1\n",
    "    i = i + 1"
   ],
   "outputs": [],
   "metadata": {}
  },
  {
   "cell_type": "code",
   "execution_count": null,
   "source": [
    "m = [1, 2, 3]\n",
    "for i in m:\n",
    "    print(i)"
   ],
   "outputs": [],
   "metadata": {}
  },
  {
   "cell_type": "code",
   "execution_count": null,
   "source": [
    "for i in range(len(m)):\n",
    "    print(i, '-', m[i])"
   ],
   "outputs": [],
   "metadata": {}
  },
  {
   "cell_type": "code",
   "execution_count": null,
   "source": [
    "for i, item in enumerate(m):\n",
    "    print(i, '-', item)"
   ],
   "outputs": [],
   "metadata": {}
  },
  {
   "cell_type": "code",
   "execution_count": null,
   "outputs": [],
   "source": [
    "my_dict"
   ],
   "metadata": {
    "collapsed": false,
    "pycharm": {
     "name": "#%%\n"
    }
   }
  },
  {
   "cell_type": "code",
   "execution_count": null,
   "outputs": [],
   "source": [
    "for i, item in [(1, 4), (2, 5)]:\n",
    "    print(i, item)"
   ],
   "metadata": {
    "collapsed": false,
    "pycharm": {
     "name": "#%%\n"
    }
   }
  },
  {
   "cell_type": "code",
   "execution_count": null,
   "source": [
    "m = [88, 16, 13, 41, 52, 66, 3, 21, 77, 63, 97, 5, 54, 54]\n",
    "for i in m:\n",
    "    if i == 66:\n",
    "        print(\"Элемент 66 существует в коллекции\")\n",
    "        break\n",
    "    print(i)"
   ],
   "outputs": [],
   "metadata": {}
  },
  {
   "cell_type": "code",
   "execution_count": null,
   "outputs": [],
   "source": [
    "66 in set(m)"
   ],
   "metadata": {
    "collapsed": false,
    "pycharm": {
     "name": "#%%\n"
    }
   }
  },
  {
   "cell_type": "code",
   "execution_count": null,
   "source": [
    "m = [16, 13, 41, 52, 62, 3, 21, 11, 71, 63, 97, 5, 54, 54]\n",
    "for i in m:\n",
    "    if i % 11 == 0:\n",
    "        print(i)\n",
    "        print(\"Элемент который делится на 11 существует в коллекции\")\n",
    "        break\n",
    "else:\n",
    "    print(\"Такого числа не существует\")\n",
    "\n"
   ],
   "outputs": [],
   "metadata": {}
  },
  {
   "cell_type": "markdown",
   "source": [
    "# Функции"
   ],
   "metadata": {}
  },
  {
   "cell_type": "markdown",
   "source": [
    "DRY - don't repeat yourself «не повторяйся») — это принцип разработки программного обеспечения, нацеленный на снижение повторения информации различного рода, особенно в системах со множеством слоёв абстрагирования. Принцип DRY формулируется как: «Каждая часть знания должна иметь единственное, непротиворечивое и авторитетное представление в рамках системы».\n",
    "\n",
    "Когда принцип DRY применяется успешно, изменение единственного элемента системы не требует внесения изменений в другие, логически не связанные элементы."
   ],
   "metadata": {
    "collapsed": false
   }
  },
  {
   "cell_type": "code",
   "execution_count": null,
   "source": [
    "def foo():\n",
    "    print('Hello')\n",
    "\n",
    "foo()"
   ],
   "outputs": [],
   "metadata": {}
  },
  {
   "cell_type": "code",
   "execution_count": null,
   "source": [
    "def foo(a, b):\n",
    "    return a + b\n",
    "\n",
    "foo(1, 3)"
   ],
   "outputs": [],
   "metadata": {}
  },
  {
   "cell_type": "code",
   "execution_count": null,
   "source": [
    "def foo(a, b, c=10):\n",
    "    return a + b / c\n",
    "\n",
    "foo(2, 5)"
   ],
   "outputs": [],
   "metadata": {}
  },
  {
   "cell_type": "code",
   "execution_count": null,
   "source": [
    "foo(2, 5, 2)"
   ],
   "outputs": [],
   "metadata": {}
  },
  {
   "cell_type": "code",
   "execution_count": null,
   "source": [
    "def spam(a, b, c=10, d):\n",
    "        return a + b / c ** d"
   ],
   "outputs": [],
   "metadata": {}
  },
  {
   "cell_type": "code",
   "execution_count": null,
   "source": [
    "def spam(a, b, c=10, *args, **kwargs):\n",
    "        d = sum(args)\n",
    "        print(args, kwargs)\n",
    "        if 'q' in kwargs:\n",
    "\n",
    "            d -= kwargs['q']\n",
    "        return a + b / c ** d\n",
    "\n",
    "spam(1, 2, 3, 10)"
   ],
   "outputs": [],
   "metadata": {}
  },
  {
   "cell_type": "code",
   "execution_count": null,
   "source": [
    "spam(1, 2, 3, 10, 20)"
   ],
   "outputs": [],
   "metadata": {}
  },
  {
   "cell_type": "code",
   "execution_count": null,
   "source": [
    "spam(1, 2, 3, 10, 20, q=5, another=10)"
   ],
   "outputs": [],
   "metadata": {}
  },
  {
   "cell_type": "code",
   "execution_count": null,
   "source": [
    "def spam(a, b, c = 10, *args, **kwargs, another):\n",
    "        d = sum(args)\n",
    "        if 'q' in kwargs:\n",
    "            d -= kwargs['q']\n",
    "        return a + b / c ** d"
   ],
   "outputs": [],
   "metadata": {}
  },
  {
   "cell_type": "code",
   "execution_count": null,
   "source": [
    "def spam(a, b, *_):\n",
    "    return a + b"
   ],
   "outputs": [],
   "metadata": {}
  },
  {
   "cell_type": "code",
   "execution_count": null,
   "source": [
    "spam(2, 3, 5, 7, 8)"
   ],
   "outputs": [],
   "metadata": {}
  },
  {
   "cell_type": "markdown",
   "source": [
    "## lambda функции\n",
    "\n",
    "Анонимные функции в пару действий"
   ],
   "metadata": {
    "collapsed": false
   }
  },
  {
   "cell_type": "code",
   "execution_count": null,
   "outputs": [],
   "source": [
    "sorted([\"Hello\", \"Hell\", \"M\"], key=lambda x: len(x) % 5, reverse=True)"
   ],
   "metadata": {
    "collapsed": false,
    "pycharm": {
     "name": "#%%\n"
    }
   }
  },
  {
   "cell_type": "markdown",
   "source": [
    "## Области видимости функций"
   ],
   "metadata": {
    "collapsed": false
   }
  },
  {
   "cell_type": "code",
   "execution_count": null,
   "outputs": [],
   "source": [
    "c = 10\n",
    "def foo(a, b):\n",
    "    return a + b + c"
   ],
   "metadata": {
    "collapsed": false,
    "pycharm": {
     "name": "#%%\n"
    }
   }
  },
  {
   "cell_type": "code",
   "execution_count": null,
   "outputs": [],
   "source": [
    "foo(1, 100)"
   ],
   "metadata": {
    "collapsed": false,
    "pycharm": {
     "name": "#%%\n"
    }
   }
  },
  {
   "cell_type": "code",
   "execution_count": null,
   "outputs": [],
   "source": [
    "c = 10\n",
    "def foo(a, b):\n",
    "    result = a + b + c\n",
    "    c += 1\n",
    "    return result / c\n",
    "\n",
    "foo(1, 100)"
   ],
   "metadata": {
    "collapsed": false,
    "pycharm": {
     "name": "#%%\n"
    }
   }
  },
  {
   "cell_type": "markdown",
   "source": [
    "Области видимости в Python:\n",
    "- Локальная\n",
    "- Не локальная\n",
    "- Глобальная"
   ],
   "metadata": {
    "collapsed": false
   }
  },
  {
   "cell_type": "code",
   "execution_count": null,
   "outputs": [],
   "source": [
    "def foo(seq):\n",
    "    for element in seq:\n",
    "        print(element)\n",
    "\n",
    "element = 20\n",
    "foo([1, 2, 3])\n",
    "print(element)"
   ],
   "metadata": {
    "collapsed": false,
    "pycharm": {
     "name": "#%%\n"
    }
   }
  },
  {
   "cell_type": "code",
   "execution_count": null,
   "outputs": [],
   "source": [
    "c = 10\n",
    "def foo(a, b):\n",
    "    global c\n",
    "    result = a + b + c\n",
    "    c += 1\n",
    "    return result / c\n",
    "\n",
    "foo(1, 100)\n",
    "print(c)"
   ],
   "metadata": {
    "collapsed": false,
    "pycharm": {
     "name": "#%%\n"
    }
   }
  },
  {
   "cell_type": "code",
   "execution_count": null,
   "outputs": [],
   "source": [
    "c = 20\n",
    "def foo1(a, b):\n",
    "    c = 10\n",
    "    def foo2(a, b):\n",
    "        nonlocal c\n",
    "        result = a + b + c\n",
    "        c += 1\n",
    "        print(c)\n",
    "        return result / c\n",
    "    print(c)\n",
    "    return foo2(a, b)\n",
    "\n",
    "print(foo1(1, 100))\n",
    "print(c)"
   ],
   "metadata": {
    "collapsed": false,
    "pycharm": {
     "name": "#%%\n"
    }
   }
  },
  {
   "cell_type": "markdown",
   "source": [
    "# Операторы ввода вывода"
   ],
   "metadata": {}
  },
  {
   "cell_type": "code",
   "execution_count": null,
   "source": [
    "input()"
   ],
   "outputs": [],
   "metadata": {}
  },
  {
   "cell_type": "code",
   "execution_count": null,
   "source": [
    "name = input(\"Как Вас зовут?  \")"
   ],
   "outputs": [],
   "metadata": {}
  },
  {
   "cell_type": "code",
   "execution_count": null,
   "outputs": [],
   "source": [
    "name"
   ],
   "metadata": {
    "collapsed": false,
    "pycharm": {
     "name": "#%%\n"
    }
   }
  },
  {
   "cell_type": "code",
   "execution_count": null,
   "source": [
    "a = input(\"Введите число a:\")\n",
    "b = input(\"Введите число b:\")\n",
    "\n",
    "a + b"
   ],
   "outputs": [],
   "metadata": {}
  },
  {
   "cell_type": "code",
   "execution_count": null,
   "source": [
    "a = int(input(\"Введите число a:\"))\n",
    "b = int(input(\"Введите число b:\"))\n",
    "\n",
    "a + b"
   ],
   "outputs": [],
   "metadata": {}
  },
  {
   "cell_type": "code",
   "execution_count": null,
   "source": [
    "a = map(int, input(\"Введите числа для суммирования: \").split())\n",
    "\n",
    "sum(a)"
   ],
   "outputs": [],
   "metadata": {}
  },
  {
   "cell_type": "code",
   "execution_count": null,
   "source": [
    "print(\"Hello world\")"
   ],
   "outputs": [],
   "metadata": {}
  },
  {
   "cell_type": "code",
   "execution_count": null,
   "source": [
    "print(\"Hello\", \"world\", \"!\")\n",
    "print(\"Hello\", \"world\", \"!\")\n",
    "\n",
    "print()\n",
    "\n",
    "print(\"Hello\", \"world\", \"!\", end='')\n",
    "print(\"Hello\", \"world\", \"!\")"
   ],
   "outputs": [],
   "metadata": {}
  },
  {
   "cell_type": "code",
   "execution_count": null,
   "source": [
    "print(\"Hello\", \"world\", \"!\", sep='+')"
   ],
   "outputs": [],
   "metadata": {}
  },
  {
   "cell_type": "code",
   "execution_count": null,
   "source": [
    "print(\"Hello\", \"world\", \"!\", sep='+', end='12313314214312')\n",
    "print(\"Hello\", \"world\", \"!\", sep='+', end='\\t')"
   ],
   "outputs": [],
   "metadata": {}
  },
  {
   "cell_type": "code",
   "execution_count": null,
   "outputs": [],
   "source": [
    "def my_print(*args, **kwargs):\n",
    "    sep = ' '\n",
    "    end = '\\n'\n",
    "    if 'sep' in kwargs:\n",
    "        sep = kwargs['sep']\n",
    "    if 'end' in kwargs:\n",
    "        end = kwargs['end']\n",
    "\n",
    "    result = ''\n",
    "    for i in args:\n",
    "        result += i + sep\n",
    "    result += end\n",
    "    return result\n",
    "\n",
    "my_print(\"Hello\", \"world\", \"!\", sep='+', end='12313314214312')"
   ],
   "metadata": {
    "collapsed": false,
    "pycharm": {
     "name": "#%%\n"
    }
   }
  },
  {
   "cell_type": "markdown",
   "source": [
    "# Устройство памяти в Python  Идентификатор объекта"
   ],
   "metadata": {}
  },
  {
   "cell_type": "code",
   "execution_count": null,
   "source": [
    "a = 100_000\n",
    "b = a\n",
    "c = 100_000\n",
    "id(a), id(b), id(c)"
   ],
   "outputs": [],
   "metadata": {}
  },
  {
   "cell_type": "code",
   "execution_count": null,
   "outputs": [],
   "source": [
    "a is c, a == c, a is b"
   ],
   "metadata": {
    "collapsed": false,
    "pycharm": {
     "name": "#%%\n"
    }
   }
  },
  {
   "cell_type": "code",
   "execution_count": null,
   "source": [
    "a = 5\n",
    "b = a\n",
    "c = 5\n",
    "id(a), id(b), id(c)"
   ],
   "outputs": [],
   "metadata": {}
  },
  {
   "cell_type": "code",
   "execution_count": null,
   "outputs": [],
   "source": [
    "a is c"
   ],
   "metadata": {
    "collapsed": false,
    "pycharm": {
     "name": "#%%\n"
    }
   }
  },
  {
   "cell_type": "code",
   "execution_count": null,
   "source": [
    "a = [1, 2, 3, 4, 5]\n",
    "b = a\n",
    "c = [1, 2, 3, 4, 5]\n",
    "id(a), id(b), id(c)"
   ],
   "outputs": [],
   "metadata": {}
  },
  {
   "cell_type": "code",
   "execution_count": null,
   "source": [
    "a[1] = 100\n",
    "print(a)\n",
    "print(b)\n",
    "print(c)"
   ],
   "outputs": [],
   "metadata": {}
  },
  {
   "cell_type": "code",
   "execution_count": null,
   "source": [
    "a = [1, 2, 3, 4, 5]\n",
    "b = a.copy()\n",
    "c = [1, 2, 3, 4, 5]\n",
    "id(a), id(b), id(c)"
   ],
   "outputs": [],
   "metadata": {}
  },
  {
   "cell_type": "code",
   "execution_count": null,
   "source": [
    "def foo(x, y):\n",
    "    return x + y ** 2\n",
    "    \n",
    "foo(1, 2)"
   ],
   "outputs": [],
   "metadata": {}
  },
  {
   "cell_type": "code",
   "execution_count": null,
   "source": [
    "f = foo\n",
    "id(f), id(foo)"
   ],
   "outputs": [],
   "metadata": {}
  },
  {
   "cell_type": "markdown",
   "source": [
    "# Исключения"
   ],
   "metadata": {}
  },
  {
   "cell_type": "markdown",
   "source": [
    "- Обработка ошибок\n",
    "- Уведомление о событиях\n",
    "- Обработка особых ситуаций\n",
    "- Заключительные операции"
   ],
   "metadata": {}
  },
  {
   "cell_type": "code",
   "execution_count": null,
   "source": [
    "1/0"
   ],
   "outputs": [],
   "metadata": {}
  },
  {
   "cell_type": "code",
   "execution_count": null,
   "source": [
    "try:\n",
    "    k = 1 / 0\n",
    "except ArithmeticError as e:\n",
    "    k = 0\n",
    "    print(e)\n",
    "\n",
    "k"
   ],
   "outputs": [],
   "metadata": {}
  },
  {
   "cell_type": "code",
   "execution_count": null,
   "source": [
    "try:\n",
    "    k = 1 / 0\n",
    "except ArithmeticError as e:\n",
    "    print(e)\n",
    "except NameError as e:\n",
    "    print(e)\n",
    "else:\n",
    "    print(\"Всё хорошо\")\n",
    "finally:\n",
    "    print(\"Исполнится в любом случае\")"
   ],
   "outputs": [],
   "metadata": {}
  },
  {
   "cell_type": "code",
   "execution_count": null,
   "outputs": [],
   "source": [
    "# raise KeyError(\"Key is not be str\")"
   ],
   "metadata": {
    "collapsed": false,
    "pycharm": {
     "name": "#%%\n"
    }
   }
  },
  {
   "cell_type": "code",
   "execution_count": null,
   "outputs": [],
   "source": [
    "try:\n",
    "    i = 0\n",
    "    while i < 10000000:\n",
    "        a = str(i)\n",
    "except KeyError:\n",
    "    print(\"Ошибка\")\n",
    "\n",
    "print(\"Этот код не должен выполняться после завершения программы\")"
   ],
   "metadata": {
    "collapsed": false,
    "pycharm": {
     "name": "#%%\n"
    }
   }
  },
  {
   "cell_type": "markdown",
   "source": [
    "https://docs.python.org/3/library/exceptions.html"
   ],
   "metadata": {
    "collapsed": false
   }
  },
  {
   "cell_type": "markdown",
   "source": [
    "# Файловый ввод-вывод"
   ],
   "metadata": {}
  },
  {
   "cell_type": "markdown",
   "source": [
    "## Чтение из файла"
   ],
   "metadata": {}
  },
  {
   "cell_type": "code",
   "execution_count": null,
   "source": [
    "f = open('test_file_lesson1.txt', 'r')\n",
    "f.read(1)"
   ],
   "outputs": [],
   "metadata": {}
  },
  {
   "cell_type": "code",
   "execution_count": null,
   "source": [
    "f.read()"
   ],
   "outputs": [],
   "metadata": {}
  },
  {
   "cell_type": "code",
   "execution_count": null,
   "source": [
    "f.close()"
   ],
   "outputs": [],
   "metadata": {}
  },
  {
   "cell_type": "markdown",
   "source": [
    "## Запись в файл"
   ],
   "metadata": {}
  },
  {
   "cell_type": "code",
   "execution_count": null,
   "source": [
    "l = [2, 3, 5, 7, 11, 13, 17, 19, 23, 29, 31, 37, 41]\n",
    "f = open('test_file_lesson1_1.txt', 'w')\n",
    "\n",
    "# f.write(l)\n",
    "\n",
    "f.write(str(l))"
   ],
   "outputs": [],
   "metadata": {}
  },
  {
   "cell_type": "code",
   "execution_count": null,
   "outputs": [],
   "source": [
    "f.close()"
   ],
   "metadata": {
    "collapsed": false,
    "pycharm": {
     "name": "#%%\n"
    }
   }
  },
  {
   "cell_type": "code",
   "execution_count": null,
   "source": [
    "f = open('test_file_lesson1_1.txt', 'w')\n",
    "for i in l:\n",
    "    f.write(str(i) + ' \\n')\n",
    "f.close()"
   ],
   "outputs": [],
   "metadata": {}
  },
  {
   "cell_type": "markdown",
   "source": [
    "## (Не)правильная работа с файлом"
   ],
   "metadata": {}
  },
  {
   "cell_type": "code",
   "execution_count": null,
   "source": [
    "lst = []\n",
    "\n",
    "try:\n",
    "    f = open('test_file_lesson1_1.txt', 'r')\n",
    "except OSError as e:\n",
    "    print('Файл не может быть открыт', e)\n",
    "    ...\n",
    "else:\n",
    "    try:\n",
    "        for line in f:\n",
    "            lst.append(int(line))\n",
    "    except ValueError:\n",
    "        print(\"Неправильный формат файла\")\n",
    "    finally:\n",
    "        f.close()"
   ],
   "outputs": [],
   "metadata": {}
  },
  {
   "cell_type": "code",
   "execution_count": null,
   "outputs": [],
   "source": [
    "lst"
   ],
   "metadata": {
    "collapsed": false,
    "pycharm": {
     "name": "#%%\n"
    }
   }
  },
  {
   "cell_type": "markdown",
   "source": [
    "## Менеджер контекста"
   ],
   "metadata": {}
  },
  {
   "cell_type": "code",
   "execution_count": null,
   "source": [
    "with open('test_file_lesson1_1.txt', 'r') as f:\n",
    "    print(f.read())"
   ],
   "outputs": [],
   "metadata": {}
  },
  {
   "cell_type": "code",
   "execution_count": null,
   "source": [
    "with open('test_file_lesson1.txt', 'r') as i, open('test_file_lesson1_1.txt', 'w') as w:\n",
    "    w.write(i.read())"
   ],
   "outputs": [],
   "metadata": {}
  },
  {
   "cell_type": "code",
   "execution_count": null,
   "outputs": [],
   "source": [
    "with open('test_file_lesson1_1.txt', 'r') as f:\n",
    "    for line in f:\n",
    "        print(line, end='')"
   ],
   "metadata": {
    "collapsed": false,
    "pycharm": {
     "name": "#%%\n"
    }
   }
  },
  {
   "cell_type": "markdown",
   "source": [
    "# Приоритет операций"
   ],
   "metadata": {
    "collapsed": false
   }
  },
  {
   "cell_type": "markdown",
   "source": [
    "| Операция                                                                  | Описание                                                                                        |\n",
    "|---------------------------------------------------------------------------|-------------------------------------------------------------------------------------------------|\n",
    "| (expressions...), [expressions...], {key: value<br/>..}, {expressions...} | Связывание или выражение в скобках, отображение списка, отображение словаря, отображение набора |\n",
    "| x[index], x[index:index], x(arguments...), x.attribute                    | Индексирование, взятие среза, вызов или использование метода/атрибута                           |\n",
    "| **                                                                        | Возведение в степень(Единственный оператор приоритет которого справа налево)                    |\n",
    "| +x, -x, ~x                                                                | Унарные плюс, минус и битовое отрицание                                                         |\n",
    "| *, /, //, %                                                               | Умножение и все виды деления                                                                    |\n",
    "| +, -                                                                      | Сложение и отрицание                                                                            |\n",
    "| &                                                                         | Битовое И                                                                                       |\n",
    "| ^                                                                         | Битовый XOR                                                                                     |\n",
    "| `                                                                         | `                                                                                               |Битовое ИЛИ|\n",
    "| in, not in, is, is not, <, <=, >, >=, !=, ==                              | Сравнения, включая тесты на наличие элемента и идентичность                                     |\n",
    "| not x                                                                     | Логическое отрицание                                                                            |\n",
    "| and                                                                       | Логическое И                                                                                    |\n",
    "| or                                                                        | Логическое ИЛИ                                                                                  |\n",
    "| if – else                                                                 | Условное выражение                                                                              |\n",
    "| lambda                                                                    | Лямбда выражения                                                                                |"
   ],
   "metadata": {
    "collapsed": false
   }
  },
  {
   "cell_type": "markdown",
   "source": [
    "# PEP-8"
   ],
   "metadata": {}
  },
  {
   "cell_type": "markdown",
   "source": [
    "## Внешний вид кода"
   ],
   "metadata": {}
  },
  {
   "cell_type": "markdown",
   "source": [
    "### Отступы"
   ],
   "metadata": {}
  },
  {
   "cell_type": "markdown",
   "source": [
    "Необходимо использовать 4 пробела для каждого уровня отступа(Современные IDE умеют менять tab на пробел). \n",
    "\n",
    "Использовать табуляцию следует, только для поддержания кода, который был написан с использованием табуляции. "
   ],
   "metadata": {}
  },
  {
   "cell_type": "markdown",
   "source": [
    "Python 3 запрещает смешивать табуляцию и пробелы в отступах!"
   ],
   "metadata": {}
  },
  {
   "cell_type": "code",
   "execution_count": null,
   "source": [
    "def spam(a, b):\n",
    "    return 1\n",
    "\n",
    "def spam(a, b):\n",
    "        return 1"
   ],
   "outputs": [],
   "metadata": {}
  },
  {
   "cell_type": "markdown",
   "source": [
    "Длинные строки должны выравнивать обернутые элементы либо вертикально, либо с одним большим отступом:"
   ],
   "metadata": {}
  },
  {
   "cell_type": "code",
   "execution_count": null,
   "source": [
    "# Выравниваем по скобке\n",
    "foo = long_function_name(var_one, var_two,\n",
    "                         var_three, var_four)\n",
    "\n",
    "# Выравниваем одним отсутпом, но большим\n",
    "def long_function_name(\n",
    "        var_one, var_two, var_three,\n",
    "        var_four):\n",
    "    print(var_one)"
   ],
   "outputs": [],
   "metadata": {}
  },
  {
   "cell_type": "code",
   "execution_count": null,
   "source": [
    "# В первой строке в таком случае не должно быть аргументов\n",
    "foo = long_function_name(var_one, var_two,\n",
    "    var_three, var_four)\n",
    "\n",
    "# Аргументы сливаются с кодом\n",
    "def long_function_name(\n",
    "    var_one, var_two, var_three,\n",
    "    var_four):\n",
    "    print(var_one)"
   ],
   "outputs": [],
   "metadata": {}
  },
  {
   "cell_type": "markdown",
   "source": [
    "### Максимальная длина строки"
   ],
   "metadata": {}
  },
  {
   "cell_type": "markdown",
   "source": [
    "Стандартная библиотека Python консервативна и требует ограничения длины строки в 79 символов (а строк документации/комментариев в 72)\n"
   ],
   "metadata": {}
  },
  {
   "cell_type": "markdown",
   "source": [
    "### Пробелы в выражениях "
   ],
   "metadata": {}
  },
  {
   "cell_type": "markdown",
   "source": [
    "Следует избегать лишних пробелов в следующих случаях:"
   ],
   "metadata": {}
  },
  {
   "cell_type": "markdown",
   "source": [
    "- Сразу внутри скобок, скобок или фигурных скобок:"
   ],
   "metadata": {}
  },
  {
   "cell_type": "code",
   "execution_count": null,
   "source": [
    "# Correct\n",
    "spam(ham[1], {eggs: 2})\n",
    "\n",
    "# Wrong:\n",
    "spam( ham[ 1 ], { eggs: 2 } )"
   ],
   "outputs": [],
   "metadata": {}
  },
  {
   "cell_type": "markdown",
   "source": [
    "- Между запятой и следующей закрывающей скобкой:"
   ],
   "metadata": {}
  },
  {
   "cell_type": "code",
   "execution_count": null,
   "source": [
    "# Correct:\n",
    "foo = (0,)\n",
    "\n",
    "# Wrong:\n",
    "bar = (0, )"
   ],
   "outputs": [],
   "metadata": {}
  },
  {
   "cell_type": "markdown",
   "source": [
    "- Непосредственно перед запятой, точкой с запятой или двоеточием:"
   ],
   "metadata": {}
  },
  {
   "cell_type": "code",
   "execution_count": null,
   "source": [
    "x, y = 4, 5\n",
    "# Correct:\n",
    "if x == 4: print(x, y); x, y = y, x\n",
    "\n",
    "# Wrong:\n",
    "if x == 4 : print(x , y) ; x , y = y , x"
   ],
   "outputs": [],
   "metadata": {}
  },
  {
   "cell_type": "markdown",
   "source": [
    "- Однако в срезе двоеточие действует как бинарный оператор и должно иметь равные значения с обеих сторон (рассматривая его как оператор с самым низким приоритетом). В расширенном срезе оба двоеточия должны иметь одинаковый интервал. Исключение: когда параметр среза опущен, пробел опускается:"
   ],
   "metadata": {}
  },
  {
   "cell_type": "code",
   "execution_count": null,
   "source": [
    "# Correct:\n",
    "ham[1:9], ham[1:9:3], ham[:9:3], ham[1::3], ham[1:9:]\n",
    "ham[lower:upper], ham[lower:upper:], ham[lower::step]\n",
    "ham[lower+offset : upper+offset]\n",
    "ham[: upper_fn(x) : step_fn(x)], ham[:: step_fn(x)]\n",
    "ham[lower + offset : upper + offset]\n",
    "\n",
    "# Wrong:\n",
    "ham[lower + offset:upper + offset]\n",
    "ham[1: 9], ham[1 :9], ham[1:9 :3]\n",
    "ham[lower : : upper]\n",
    "ham[ : upper]"
   ],
   "outputs": [],
   "metadata": {}
  },
  {
   "cell_type": "markdown",
   "source": [
    "- Непосредственно перед открывающей круглой скобкой, с которой начинается список аргументов вызова функции:"
   ],
   "metadata": {}
  },
  {
   "cell_type": "code",
   "execution_count": null,
   "source": [
    "# Correct:\n",
    "spam(1)\n",
    "\n",
    "# Wrong:\n",
    "spam (1)"
   ],
   "outputs": [],
   "metadata": {}
  },
  {
   "cell_type": "markdown",
   "source": [
    "- Непосредственно перед открывающей квадратной скобкой, запускающей индексацию или нарезку:"
   ],
   "metadata": {}
  },
  {
   "cell_type": "code",
   "execution_count": null,
   "source": [
    "# Correct:\n",
    "dct['key'] = lst[index]\n",
    "\n",
    "# Wrong:\n",
    "dct ['key'] = lst [index]"
   ],
   "outputs": [],
   "metadata": {}
  },
  {
   "cell_type": "markdown",
   "source": [
    "- Более одного пробела вокруг оператора присваивания (или другого), чтобы выровнять его с другим:"
   ],
   "metadata": {}
  },
  {
   "cell_type": "code",
   "execution_count": null,
   "source": [
    "# Correct:\n",
    "x = 1\n",
    "y = 2\n",
    "long_variable = 3\n",
    "\n",
    "\n",
    "# Wrong:\n",
    "x             = 1\n",
    "y             = 2\n",
    "long_variable = 3"
   ],
   "outputs": [],
   "metadata": {}
  },
  {
   "cell_type": "markdown",
   "source": [
    "#### Ещё несколько советов"
   ],
   "metadata": {}
  },
  {
   "cell_type": "markdown",
   "source": [
    "- Избегайте конечных пробелов в любом месте. Поскольку обычно это невидимо, это может сбивать с толку: например, обратная косая черта, за которой следует пробел, и новая строка не считаются маркером продолжения строки. \n",
    "\n",
    "- Всегда следует окружать бинарные операторы одним пробелом с обеих сторон: присваивание (=), расширенное присваивание (=, - = и т. Д.), Сравнения (==, <,>,! =, <>, <=,> =, in, not in, is, is, не), Booleans (and, or, not).\n",
    "\n",
    "- Если используются операторы с разными приоритетами, рассмотрите возможность добавления пробелов вокруг операторов с самым низким приоритетом (-ами)."
   ],
   "metadata": {}
  },
  {
   "cell_type": "code",
   "execution_count": null,
   "source": [
    "# Correct:\n",
    "i = i + 1\n",
    "submitted += 1\n",
    "x = x*2 - 1\n",
    "hypot2 = x*x + y*y\n",
    "c = (a+b) * (a-b)\n",
    "\n",
    "# Wrong:\n",
    "i=i+1\n",
    "submitted +=1\n",
    "x = x * 2 - 1\n",
    "hypot2 = x * x + y * y\n",
    "c = (a + b) * (a - b)"
   ],
   "outputs": [],
   "metadata": {}
  },
  {
   "cell_type": "markdown",
   "source": [
    "- Не следует использовать пробелы вокруг знака =, когда он используется для указания аргумента ключевого слова или когда используется для указания значения по умолчанию для неаннотированного параметра функции:"
   ],
   "metadata": {}
  },
  {
   "cell_type": "code",
   "execution_count": null,
   "source": [
    "# Correct:\n",
    "def complex(real, imag=0.0):\n",
    "    return magic(r=real, i=imag)\n",
    "\n",
    "    \n",
    "# Wrong:\n",
    "def complex(real, imag = 0.0):\n",
    "    return magic(r = real, i = imag)"
   ],
   "outputs": [],
   "metadata": {}
  },
  {
   "cell_type": "markdown",
   "source": [
    "- Составные операторы (несколько операторов в одной строке) обычно не приветствуются:"
   ],
   "metadata": {}
  },
  {
   "cell_type": "code",
   "execution_count": null,
   "source": [
    "# Correct:\n",
    "if foo == 'blah':\n",
    "    do_blah_thing()\n",
    "do_one()\n",
    "do_two()\n",
    "do_three()\n",
    "\n",
    "\n",
    "# Wrong:\n",
    "if foo == 'blah': do_blah_thing()\n",
    "do_one(); do_two(); do_three()"
   ],
   "outputs": [],
   "metadata": {}
  },
  {
   "cell_type": "markdown",
   "source": [
    "## Комментарии"
   ],
   "metadata": {}
  },
  {
   "cell_type": "markdown",
   "source": [
    "- Комментарии, противоречащие коду, хуже, чем отсутствие комментариев. Всегда уделяйте первоочередное внимание обновлению комментариев при изменении кода!\n",
    "- Комментарии должны быть полными предложениями. Первое слово должно быть написано с заглавной буквы, если только это не идентификатор, начинающийся со строчной буквы (никогда не меняйте регистр идентификаторов!).\n",
    "- Блочные комментарии обычно состоят из одного или нескольких абзацев, составленных из полных предложений, причем каждое предложение заканчивается точкой.\n",
    "- Вы должны использовать два пробела после точки в конце предложения в комментариях, состоящих из нескольких предложений, за исключением последнего предложения.\n",
    "- Убедитесь, что ваши комментарии ясны и легко понятны другим носителям языка, на котором вы пишете.\n",
    "- Программисты Python из неанглоязычных стран: пишите свои комментарии на английском языке, если вы не уверены на 120%, что код никогда не будет прочитан людьми, которые не говорят на вашем языке."
   ],
   "metadata": {}
  },
  {
   "cell_type": "markdown",
   "source": [
    "### Блоки комментариев\n",
    "\n",
    "Комментарии блоков обычно применяются к некоторому (или ко всему) коду, который следует за ними, и имеют отступ на том же уровне, что и этот код. Каждая строка блочного комментария начинается с символа # и одного пробела (если это не текст с отступом внутри комментария).\n",
    "\n",
    "Абзацы внутри комментария блока разделяются строкой, содержащей один символ #."
   ],
   "metadata": {}
  },
  {
   "cell_type": "code",
   "execution_count": null,
   "source": [
    "# Максимально длинный комментарий, которые описывает некоторое\n",
    "# непонятное место в коде.  Второе предложение\n",
    "#\n",
    "# Этот код сделан учебным примером\n",
    "# и именно поэтому комментарий к нему пишется на русском языке\n",
    "\n",
    "def hello():\n",
    "    return \"Hello\""
   ],
   "outputs": [],
   "metadata": {}
  },
  {
   "cell_type": "markdown",
   "source": [
    "### Встроенные (inline) комментарии\n",
    "\n",
    "Экономно используйте встроенные комментарии.\n",
    "\n",
    "Встроенный комментарий - это комментарий в той же строке, что и оператор. Встроенные комментарии должны отделяться от оператора как минимум двумя пробелами. Они должны начинаться с символа # и одного пробела.\n",
    "\n",
    "Встроенные комментарии не нужны и фактически отвлекают, если в них говорится об очевидном. Не делайте этого:"
   ],
   "metadata": {}
  },
  {
   "cell_type": "code",
   "execution_count": null,
   "source": [
    "x = x + 1  # Increment x"
   ],
   "outputs": [],
   "metadata": {}
  },
  {
   "cell_type": "code",
   "execution_count": null,
   "source": [
    "x = x + 1  # Compensate for border"
   ],
   "outputs": [],
   "metadata": {}
  },
  {
   "cell_type": "markdown",
   "source": [
    "## Соглашение об именовании\n",
    "\n",
    "Обычно различают следующие стили именования:\n",
    "\n",
    "- b (single lowercase letter)\n",
    "- B (single uppercase letter)\n",
    "- lowercase\n",
    "- lower_case_with_underscores\n",
    "- UPPERCASE\n",
    "- UPPER_CASE_WITH_UNDERSCORES\n",
    "- CapitalizedWords (or CapWords, or CamelCase).\n",
    "Примечание. При использовании аббревиатур в CapWords делайте все буквы аббревиатуры заглавными. Таким образом, HTTPServerError лучше, чем HttpServerError.\n",
    "- mixedCase\n",
    "- Capitalized_Words_With_Underscores\n",
    "\n",
    "\n",
    "### Имена, которых следует избегать\n",
    "Никогда не используйте символы 'l' (строчная буква el), 'O' (прописная буква oh) или 'I' (заглавная буква eye) в качестве односимвольных имен переменных.\n",
    "\n",
    "В некоторых шрифтах эти символы неотличимы от цифр «единица» и «ноль». Когда возникает соблазн использовать «l», используйте вместо этого «L».\n",
    "\n",
    "### Константы\n",
    "\n",
    "Константы обычно определяются на уровне модуля и пишутся заглавными буквами с подчеркиванием, разделяющим слова. Пример: MAX_OVERFLOW и TOTAL.\n",
    "\n",
    "### Имена функций и переменных\n",
    "Имена функций должны быть в нижнем регистре, а слова должны быть разделены подчеркиванием по мере необходимости для повышения удобочитаемости.\n",
    "\n",
    "Имена переменных следуют тому же соглашению, что и имена функций.\n",
    "\n",
    "mixedCase разрешен только в тех контекстах, где это уже преобладающий стиль (например, threading.py), чтобы сохранить обратную совместимость."
   ],
   "metadata": {}
  },
  {
   "cell_type": "code",
   "execution_count": null,
   "outputs": [],
   "source": [
    "help(len)"
   ],
   "metadata": {
    "collapsed": false,
    "pycharm": {
     "name": "#%%\n"
    }
   }
  },
  {
   "cell_type": "code",
   "execution_count": null,
   "outputs": [],
   "source": [
    "help([1, 2].pop)"
   ],
   "metadata": {
    "collapsed": false,
    "pycharm": {
     "name": "#%%\n"
    }
   }
  },
  {
   "cell_type": "markdown",
   "source": [
    "# Рекомендуемая литература:\n",
    "\n",
    "- Марк Лутц: Изучаем Python\n",
    "- https://younglinux.info/python/course\n",
    "- https://telegra.ph/Oshibki-v-botah-i-kak-ih-chitat-01-11\n",
    "- Грокаем алгоритмы\n",
    "- Н.Вирт: Алгоритмы и структуры данных\n",
    "- Томас Кормен: Алгоритмы. Построение и анализ"
   ],
   "metadata": {
    "collapsed": false
   }
  },
  {
   "cell_type": "markdown",
   "source": [
    "# Вопросы для самостоятельного изучения:\n",
    "- Рекурсия. Что такое, зачем используется?\n",
    "- Бинарный поиск\n",
    "- Почитать про сложность алгоритмов\n",
    "- Хеширование. Хеш таблицы *"
   ],
   "metadata": {
    "collapsed": false
   }
  },
  {
   "cell_type": "markdown",
   "source": [
    "# Вопросы к зачету"
   ],
   "metadata": {}
  },
  {
   "cell_type": "markdown",
   "source": [
    "- Модель памяти Python\n",
    "- Синтаксис языка\n",
    "\n",
    "- Где и зачем используются исключения?\n",
    "- Что будет если не обработать исключение?\n",
    "\n",
    "- Как работать с файлами в стиле Python?\n",
    "- Что такое комментарий в Python?"
   ],
   "metadata": {
    "pycharm": {
     "name": "#%% md\n"
    }
   }
  },
  {
   "cell_type": "code",
   "execution_count": null,
   "outputs": [],
   "source": [],
   "metadata": {
    "collapsed": false,
    "pycharm": {
     "name": "#%%\n"
    }
   }
  }
 ],
 "metadata": {
  "kernelspec": {
   "name": "python3",
   "display_name": "Python 3.8.11 64-bit ('Recomend_Sys': conda)"
  },
  "language_info": {
   "codemirror_mode": {
    "name": "ipython",
    "version": 3
   },
   "file_extension": ".py",
   "mimetype": "text/x-python",
   "name": "python",
   "nbconvert_exporter": "python",
   "pygments_lexer": "ipython3",
   "version": "3.8.11"
  },
  "notify_time": "5",
  "toc": {
   "base_numbering": 1,
   "nav_menu": {},
   "number_sections": true,
   "sideBar": true,
   "skip_h1_title": false,
   "title_cell": "Table of Contents",
   "title_sidebar": "Contents",
   "toc_cell": false,
   "toc_position": {},
   "toc_section_display": true,
   "toc_window_display": false
  },
  "interpreter": {
   "hash": "53b8b4ed842bcaab1e68fefdb7b6443c89d4a8c75f2809916d47cbfc5662f711"
  }
 },
 "nbformat": 4,
 "nbformat_minor": 5
}